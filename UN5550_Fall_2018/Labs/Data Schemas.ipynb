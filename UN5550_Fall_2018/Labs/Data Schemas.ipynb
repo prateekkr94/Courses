{
 "cells": [
  {
   "cell_type": "markdown",
   "metadata": {},
   "source": [
    "# Data Schemas\n",
    "\n",
    "In our last session, Dr. Peck mentioned a few data schemas that you may not have seen before.  I thought, it would be useful to go through an example of some open source data formats, and tools that are available in python to work with these data schemas."
   ]
  },
  {
   "cell_type": "markdown",
   "metadata": {},
   "source": [
    "## JSON\n",
    "\n",
    "This format consists of key-value pairs, was inspired by a subset of the JavaScript programming language, though it has now become language agnostic and exists as its own standard.  It has been widely adopted because it is easy for both humans and machines to read, create and understand the data it contains.  Here is an example of a JSON file; It should be fairly readable to you since you have been using Python / Python dictionariesi"
   ]
  },
  {
   "cell_type": "markdown",
   "metadata": {},
   "source": [
    "```json\n",
    "{\n",
    "  \"firstName\": \"John\",\n",
    "  \"lastName\": \"Smith\",\n",
    "  \"isAlive\": true,\n",
    "  \"age\": 27,\n",
    "  \"address\": {\n",
    "    \"streetAddress\": \"21 2nd Street\",\n",
    "    \"city\": \"New York\",\n",
    "    \"state\": \"NY\",\n",
    "    \"postalCode\": \"10021-3100\"\n",
    "  },\n",
    "  \"phoneNumbers\": [\n",
    "    {\n",
    "      \"type\": \"home\",\n",
    "      \"number\": \"212 555-1234\"\n",
    "    },\n",
    "    {\n",
    "      \"type\": \"office\",\n",
    "      \"number\": \"646 555-4567\"\n",
    "    },\n",
    "    {\n",
    "      \"type\": \"mobile\",\n",
    "      \"number\": \"123 456-7890\"\n",
    "    }\n",
    "  ],\n",
    "  \"children\": [],\n",
    "  \"spouse\": null\n",
    "}\n",
    "\n",
    "```"
   ]
  },
  {
   "cell_type": "markdown",
   "metadata": {},
   "source": [
    "observation: the two primary parts that make up JSON are keys and values, forming a key/value pair\n",
    "- Key: a key is always a string, enclosed in quotation marks\n",
    "- Value: A value can be a string, number, array, boolean expression, or object\n",
    "- Key/Value Pair follows a specific syntax, with the key followed by a colon followed by the value.\n",
    "- key value pairs are comma separated.\n",
    "- arrays are enclosed in square brackets, objects are enclosed by curly brackets."
   ]
  },
  {
   "cell_type": "markdown",
   "metadata": {},
   "source": [
    "Python supports JSON natively"
   ]
  },
  {
   "cell_type": "code",
   "execution_count": null,
   "metadata": {},
   "outputs": [],
   "source": [
    "import json\n",
    "\n",
    "with open(\"Data/ex.json\") as data_file:\n",
    "    data = json.load(data_file)"
   ]
  },
  {
   "cell_type": "code",
   "execution_count": null,
   "metadata": {},
   "outputs": [],
   "source": [
    "from pprint import pprint\n",
    "pprint(data)"
   ]
  },
  {
   "cell_type": "markdown",
   "metadata": {},
   "source": [
    "Hmm, the u- prefix means that we have a unicode string.  It doesn't really appear in the data.  "
   ]
  },
  {
   "cell_type": "code",
   "execution_count": null,
   "metadata": {},
   "outputs": [],
   "source": [
    "print data['address']\n"
   ]
  },
  {
   "cell_type": "code",
   "execution_count": null,
   "metadata": {},
   "outputs": [],
   "source": [
    "print data['address']['postalCode']"
   ]
  },
  {
   "cell_type": "markdown",
   "metadata": {},
   "source": [
    "The JSON package can also dump python objects into JSON file.  This process is sometimes called serialization (transforming data into a series of byytes to be transmitted)  The conversion is fairly intuitive:\n",
    "\n",
    "| Python | JSON |\n",
    "| ------ |-----:|\n",
    "|dict | object|\n",
    "|list, tuple |array|\n",
    "|str |string|\n",
    "|int, long, float|number|\n",
    "|True | true|\n",
    "|False |false|\n",
    "|None |null|"
   ]
  },
  {
   "cell_type": "code",
   "execution_count": null,
   "metadata": {},
   "outputs": [],
   "source": [
    "mydict = {\n",
    "    \"semester\": \"Fall 2018\",\n",
    "    \"course number\": \"UN5550\",\n",
    "    \"students\": 18\n",
    "}"
   ]
  },
  {
   "cell_type": "code",
   "execution_count": null,
   "metadata": {},
   "outputs": [],
   "source": [
    "print(mydict)"
   ]
  },
  {
   "cell_type": "code",
   "execution_count": null,
   "metadata": {},
   "outputs": [],
   "source": [
    "with open(\"mydict_ex1.json\",\"w\") as write_file:\n",
    "    json.dump(mydict,write_file)"
   ]
  },
  {
   "cell_type": "markdown",
   "metadata": {},
   "source": [
    "This file isn't very readable.  perhaps we can add some whitespace"
   ]
  },
  {
   "cell_type": "code",
   "execution_count": null,
   "metadata": {},
   "outputs": [],
   "source": [
    "with open(\"mydict_ex1.json\",\"w\") as write_file:\n",
    "    json.dump(mydict,write_file,indent=5)"
   ]
  },
  {
   "cell_type": "code",
   "execution_count": null,
   "metadata": {},
   "outputs": [],
   "source": [
    "mydict = {\n",
    "    \"semester\": \"Fall 2018\",\n",
    "    \"course number\": \"UN5550\",\n",
    "    \"students\": 18,\n",
    "    \"location\": {\"building\": \"fisher\",\n",
    "                \"room\": 330}\n",
    "}"
   ]
  },
  {
   "cell_type": "code",
   "execution_count": null,
   "metadata": {},
   "outputs": [],
   "source": [
    "with open(\"mydict_ex2.json\",\"w\") as write_file:\n",
    "    json.dump(mydict,write_file,indent=2)"
   ]
  },
  {
   "cell_type": "markdown",
   "metadata": {},
   "source": [
    "# XML\n",
    "\n",
    "XML stands for \"Extensible Markup Language\".  It is a markup language developed by the World Wide Web Consortium, and is widely used in document formats (e.g. XHTML, RSS) as well as the default for many common tools, such as microsoft office.   HL7 (Health Level 7) is also based on XML.  The basic construct is the idea of Tags and Elements.  \n",
    "\n",
    "- A tag is a markup construct that begins with &lt; and ends with &gt;.  There are three type of tags:\n",
    "    - start-tag, e.g. &lt;section&gt;\n",
    "    - end-tag, e.g. &lt;/section&gt;\n",
    "    - empty-element tag, such as &lt;line-break/&gt;\n",
    "\n",
    "- An element is the component that begins with a start-tag and ends with a match end-tag, or consists of only the empty-element tag.  For example, section or line-break are the elements above.\n",
    "\n",
    "- Element content, which may contain other elements, are the characters between the start tag and end tag.\n",
    "\n",
    "An attribute is a markup construct that contains a name-value pair within a start-tag or empty-element tag.  If you're familiar with HTML, an example might be:\n",
    "\n",
    "```html\n",
    "<img src=\"digits.jpg\" alt=\"Minst Digit data />\n",
    "```\n",
    "\n",
    "Here is an example XML file, taken from https://docs.python.org/2/library/xml.etree.elementtree.htm\n",
    "```XML\n",
    "<?xml version=\"1.0\"?>\n",
    "<data>\n",
    "    <country name=\"Liechtenstein\">\n",
    "        <rank>1</rank>\n",
    "        <year>2008</year>\n",
    "        <gdppc>141100</gdppc>\n",
    "        <neighbor name=\"Austria\" direction=\"E\"/>\n",
    "        <neighbor name=\"Switzerland\" direction=\"W\"/>\n",
    "    </country>\n",
    "    <country name=\"Singapore\">\n",
    "        <rank>4</rank>\n",
    "        <year>2011</year>\n",
    "        <gdppc>59900</gdppc>\n",
    "        <neighbor name=\"Malaysia\" direction=\"N\"/>\n",
    "    </country>\n",
    "    <country name=\"Panama\">\n",
    "        <rank>68</rank>\n",
    "        <year>2011</year>\n",
    "        <gdppc>13600</gdppc>\n",
    "        <neighbor name=\"Costa Rica\" direction=\"W\"/>\n",
    "        <neighbor name=\"Colombia\" direction=\"E\"/>\n",
    "    </country>\n",
    "</data>\n",
    "```"
   ]
  },
  {
   "cell_type": "markdown",
   "metadata": {},
   "source": [
    "A popular way to parse XML files is the beautifulsoup package."
   ]
  },
  {
   "cell_type": "code",
   "execution_count": null,
   "metadata": {},
   "outputs": [],
   "source": [
    "from bs4 import BeautifulSoup\n",
    "\n",
    "datafile = open(\"data/country.xml\",\"r\")\n",
    "contents = datafile.read()\n",
    "datafile.close()\n",
    "data = BeautifulSoup(contents,'xml')"
   ]
  },
  {
   "cell_type": "code",
   "execution_count": null,
   "metadata": {},
   "outputs": [],
   "source": [
    "print(data.prettify())"
   ]
  },
  {
   "cell_type": "code",
   "execution_count": null,
   "metadata": {},
   "outputs": [],
   "source": [
    "data.country "
   ]
  },
  {
   "cell_type": "code",
   "execution_count": null,
   "metadata": {},
   "outputs": [],
   "source": [
    "data.country['name']"
   ]
  },
  {
   "cell_type": "code",
   "execution_count": null,
   "metadata": {},
   "outputs": [],
   "source": [
    "cnames = data.find_all('country')\n",
    "for cname in cnames:\n",
    "    print(cname['name'])  # use this to specify which attribute\n",
    "    print \"  GDP per capita = $\",cname.gdppc.string "
   ]
  },
  {
   "cell_type": "code",
   "execution_count": null,
   "metadata": {},
   "outputs": [],
   "source": [
    "cname.gdppc"
   ]
  },
  {
   "cell_type": "code",
   "execution_count": null,
   "metadata": {},
   "outputs": [],
   "source": [
    "print(cname.gdppc.name)"
   ]
  },
  {
   "cell_type": "code",
   "execution_count": null,
   "metadata": {},
   "outputs": [],
   "source": [
    "print(cname.gdppc.string)"
   ]
  },
  {
   "cell_type": "markdown",
   "metadata": {},
   "source": [
    "Question: how would you script out how to display all the neighbors of each country?  i.e., how would you retrieve:\n",
    "\n",
    "Liechtenstein is next to Austria\n",
    "\n",
    "Liechtenstein is next to Switzerland\n",
    "\n",
    "Singapore is next to Malaysia\n",
    "\n",
    "Panama is next to Costa Rica\n",
    "\n",
    "Panama is next to Colombia"
   ]
  },
  {
   "cell_type": "markdown",
   "metadata": {},
   "source": [
    "Lastly, if you want to export your xml to file, once can again use the prettify function."
   ]
  },
  {
   "cell_type": "code",
   "execution_count": null,
   "metadata": {},
   "outputs": [],
   "source": [
    "outfile = open(\"test_out.xml\",\"w\")\n",
    "outfile.write(data.prettify())\n",
    "outfile.close()"
   ]
  },
  {
   "cell_type": "code",
   "execution_count": null,
   "metadata": {},
   "outputs": [],
   "source": []
  }
 ],
 "metadata": {
  "kernelspec": {
   "display_name": "Python 2",
   "language": "python",
   "name": "python2"
  },
  "language_info": {
   "codemirror_mode": {
    "name": "ipython",
    "version": 2
   },
   "file_extension": ".py",
   "mimetype": "text/x-python",
   "name": "python",
   "nbconvert_exporter": "python",
   "pygments_lexer": "ipython2",
   "version": "2.7.15"
  }
 },
 "nbformat": 4,
 "nbformat_minor": 2
}
