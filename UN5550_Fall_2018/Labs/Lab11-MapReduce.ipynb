{
 "cells": [
  {
   "cell_type": "markdown",
   "metadata": {},
   "source": [
    "<a id=\"MapReduce\"></a>\n",
    "\n",
    "# Lab 11 - MapReduce Coding\n",
    "\n",
    "***\n",
    "\n",
    "In this lab session we will learn\n",
    "   * Mapper, Reducer and Applications of MapReduce\n",
    "   * Python methods for MapReduce\n",
    "   * Some functions\n",
    "   \n",
    "   \n",
    "Highly recommended to look into the white paper from Google - http://static.googleusercontent.com/media/research.google.com/en/us/archive/mapreduce-osdi04.pdf   \n",
    "   \n",
    "Datasets:\n",
    "\n",
    "[1.] https://www.ssa.gov/oact/babynames/limits.html"
   ]
  },
  {
   "cell_type": "markdown",
   "metadata": {},
   "source": [
    "Resources for further readings\n",
    "\n",
    "[1.] https://engineering.purdue.edu/~puma/pumabenchmarks.htm - Classical Mapreduce examples/projects\n",
    "\n",
    "[2.] http://michaelnielsen.org/blog/write-your-first-mapreduce-program-in-20-minutes/ - blog on MapReduce\n",
    "\n",
    "[3.] https://cs.nyu.edu/~mwalfish/classes/16sp/hw/hw3.html - MapReduce with mrjob (working on VM)\n",
    "\n",
    "[4.] https://www.youtube.com/watch?v=30RaNpaupj0&list=PLtzRLOcrx9SS1Ir6_viv-yLJd0PX3GR5O - Video explaining Mapreduce applications:- \n",
    "\n",
    "\n",
    "[5.] https://mapr.com/blog/5-google-projects-changed-big-data-forever/ -  Google Projects that changed the latitude of Big Data "
   ]
  },
  {
   "cell_type": "markdown",
   "metadata": {},
   "source": [
    "### **MapReduce** is a programming model for performing parallel processing on large datasets."
   ]
  },
  {
   "cell_type": "code",
   "execution_count": 1,
   "metadata": {
    "collapsed": true
   },
   "outputs": [],
   "source": [
    "from __future__ import division\n",
    "import math, random, re, datetime\n",
    "from collections import defaultdict, Counter\n",
    "from functools import partial"
   ]
  },
  {
   "cell_type": "markdown",
   "metadata": {},
   "source": [
    "### WordCount - classical way to count"
   ]
  },
  {
   "cell_type": "code",
   "execution_count": 2,
   "metadata": {
    "collapsed": true
   },
   "outputs": [],
   "source": [
    "def tokenize(message):\n",
    "    message = message.lower()                       # convert to lowercase\n",
    "    all_words = re.findall(\"[a-z0-9']+\", message)   # extract the words\n",
    "    return (set(all_words))                           # remove duplicates"
   ]
  },
  {
   "cell_type": "markdown",
   "metadata": {},
   "source": [
    "Here the tokenizer is used to split the data"
   ]
  },
  {
   "cell_type": "code",
   "execution_count": 3,
   "metadata": {
    "collapsed": true
   },
   "outputs": [],
   "source": [
    "def word_count_old(documents):\n",
    "    \"\"\" Word count without using map reduce\"\"\"\n",
    "    return Counter (word for document in documents \n",
    "                    for word in tokenize(document))"
   ]
  },
  {
   "cell_type": "markdown",
   "metadata": {},
   "source": [
    "#### Add text to the document list and observe the output from function"
   ]
  },
  {
   "cell_type": "code",
   "execution_count": 4,
   "metadata": {},
   "outputs": [
    {
     "name": "stdout",
     "output_type": "stream",
     "text": [
      "Counter({'data': 4, 'science': 1, 'mining': 1, 'visualization': 1, 'big': 1})\n"
     ]
    }
   ],
   "source": [
    "documents=[\"data science\",\"big data\", 'data Mining', \"Data Visualization\"]\n",
    "word_counts=word_count_old(documents)\n",
    "print(word_counts)"
   ]
  },
  {
   "cell_type": "markdown",
   "metadata": {},
   "source": [
    "### 1. Read through Chapter 24 of the resource (shared in the lab repository), create a basic function for mapper and reducer for counting the number of words from a list. Print output from each functions"
   ]
  },
  {
   "cell_type": "markdown",
   "metadata": {},
   "source": [
    "### Mapper\n",
    "\n",
    "* A **Mapper** function returns each item into zero or more key-value pairs.\n",
    "* Map function in python and Map function described here are two different aspects"
   ]
  },
  {
   "cell_type": "code",
   "execution_count": 5,
   "metadata": {
    "collapsed": true
   },
   "outputs": [],
   "source": [
    "# The mapper functions maps the task\n",
    "def wc_mapper(document):\n",
    "    print ('*****Mapper output******')\n",
    "    \"\"\"for each word in document, emit (word,1)\"\"\"\n",
    "    for word in tokenize(document):\n",
    "        print (word, 1)\n",
    "        yield (word, 1)"
   ]
  },
  {
   "cell_type": "markdown",
   "metadata": {},
   "source": [
    "### Reducer\n",
    "\n",
    "* A Reducer function aggregates the *values* corresponding to each *key* i.e., produces output values by grouping together values from each corresponding key.\n",
    "* Aggregation can be anything say summing or fincing maximum or mathematical function\n",
    "* A Reducer loops through the list of key and values and aggregates it. Say sum or max or min or other function\n",
    "        "
   ]
  },
  {
   "cell_type": "code",
   "execution_count": 6,
   "metadata": {
    "collapsed": true
   },
   "outputs": [],
   "source": [
    "# The reducer function collects the results\n",
    "def wc_reducer(word, counts):\n",
    "    \"\"\"sum up the counts for a word\"\"\"\n",
    "    yield (word, sum(counts))"
   ]
  },
  {
   "cell_type": "markdown",
   "metadata": {},
   "source": [
    "### Calling Mapper and reducer"
   ]
  },
  {
   "cell_type": "code",
   "execution_count": 7,
   "metadata": {
    "collapsed": true
   },
   "outputs": [],
   "source": [
    "# The below function feeds the input data to mapper, consoildates the output from mapper (i.e., collector) \n",
    "# to reducer function and finally output the result from reducer. Map_reduce function!\n",
    "def word_count(documents):\n",
    "    \"\"\"count the words in the input documents using MapReduce\"\"\"\n",
    "    \n",
    "    # place to store grouped values\n",
    "    collector = defaultdict(list)\n",
    "    \n",
    "    for document in documents:\n",
    "        for word, count in wc_mapper(document):\n",
    "            collector[word].append(count)\n",
    "            \n",
    "    print ('\\n*****Collector Output*****')\n",
    "    # groups the data, also similar to \"shuffle and sort\", which is key, list of value\n",
    "    print(collector)\n",
    "    # add a statement to print the collector here\n",
    "            \n",
    "    return [output\n",
    "            # replace items() with iteritems() if you get an error\n",
    "           for word, counts in collector.items()\n",
    "           for output in wc_reducer(word,counts)]"
   ]
  },
  {
   "cell_type": "markdown",
   "metadata": {},
   "source": [
    "### Create a list of words related to your area expertise and pass it to your MapReduce function"
   ]
  },
  {
   "cell_type": "code",
   "execution_count": 8,
   "metadata": {},
   "outputs": [
    {
     "name": "stdout",
     "output_type": "stream",
     "text": [
      "*****Mapper output******\n",
      "('science', 1)\n",
      "('data', 1)\n",
      "*****Mapper output******\n",
      "('big', 1)\n",
      "('data', 1)\n",
      "*****Mapper output******\n",
      "('science', 1)\n",
      "('fiction', 1)\n",
      "*****Mapper output******\n",
      "('visualization', 1)\n",
      "('data', 1)\n",
      "*****Mapper output******\n",
      "('mining', 1)\n",
      "('data', 1)\n",
      "*****Mapper output******\n",
      "('text', 1)\n",
      "('data', 1)\n",
      "('analysis', 1)\n",
      "\n",
      "*****Collector Output*****\n",
      "defaultdict(<type 'list'>, {'visualization': [1], 'mining': [1], 'science': [1, 1], 'analysis': [1], 'fiction': [1], 'text': [1], 'big': [1], 'data': [1, 1, 1, 1, 1]})\n"
     ]
    },
    {
     "data": {
      "text/plain": [
       "[('visualization', 1),\n",
       " ('mining', 1),\n",
       " ('science', 2),\n",
       " ('analysis', 1),\n",
       " ('fiction', 1),\n",
       " ('text', 1),\n",
       " ('big', 1),\n",
       " ('data', 5)]"
      ]
     },
     "execution_count": 8,
     "metadata": {},
     "output_type": "execute_result"
    }
   ],
   "source": [
    "# Make a list of documents here\n",
    "documents=[\"data science\", \"big data\", \"science fiction\", \"data visualization\", \"data mining\", \"data text analysis\"]\n",
    "word_count(documents)"
   ]
  },
  {
   "cell_type": "markdown",
   "metadata": {},
   "source": [
    "## 2. MapReduce Paradigm"
   ]
  },
  {
   "cell_type": "markdown",
   "metadata": {},
   "source": [
    "https://pythonhosted.org/mrjob/guides/concepts.html#mapreduce-and-apache-hadoop"
   ]
  },
  {
   "cell_type": "markdown",
   "metadata": {},
   "source": [
    "### 2.1 The above link illustrates with an example about the MapReduce paradigm and each functional outputs. Please answer the following\n",
    "\n",
    "### The input file contains a list of technical skills sets extracted from the job applications \"Python, R, Hadoop, SQL\", \"Python, Rshiny, Matlab\", \"R, SQL, Hadoop\", \"SQL, C#, Python\"\n",
    "\n",
    "###  a. What would be the mapping function output for job applicant #1"
   ]
  },
  {
   "cell_type": "markdown",
   "metadata": {},
   "source": [
    "r 1\n",
    "\n",
    "python 1\n",
    "\n",
    "sql 1\n",
    "\n",
    "hadoop 1"
   ]
  },
  {
   "cell_type": "markdown",
   "metadata": {},
   "source": [
    "### b. What is the output from Shuffling function for python and R"
   ]
  },
  {
   "cell_type": "markdown",
   "metadata": {},
   "source": [
    "python, [1, 1, 1]\n",
    "\n",
    "R, [1, 1]"
   ]
  },
  {
   "cell_type": "markdown",
   "metadata": {},
   "source": [
    "### c. If reducer employs the Sum aggregation, what is the most famous programming language among the 4 applicants?"
   ]
  },
  {
   "cell_type": "markdown",
   "metadata": {},
   "source": [
    "Python and Sql since, 3 out of 4 applicant has these skills"
   ]
  },
  {
   "cell_type": "markdown",
   "metadata": {},
   "source": [
    "### We can verify them by applying mapreduce "
   ]
  },
  {
   "cell_type": "code",
   "execution_count": 9,
   "metadata": {},
   "outputs": [
    {
     "name": "stdout",
     "output_type": "stream",
     "text": [
      "*****Mapper output******\n",
      "('python', 1)\n",
      "('r', 1)\n",
      "('hadoop', 1)\n",
      "('sql', 1)\n",
      "*****Mapper output******\n",
      "('python', 1)\n",
      "('rshiny', 1)\n",
      "('matlab', 1)\n",
      "*****Mapper output******\n",
      "('r', 1)\n",
      "('hadoop', 1)\n",
      "('sql', 1)\n",
      "*****Mapper output******\n",
      "('python', 1)\n",
      "('c', 1)\n",
      "('sql', 1)\n",
      "\n",
      "*****Collector Output*****\n",
      "defaultdict(<type 'list'>, {'c': [1], 'python': [1, 1, 1], 'hadoop': [1, 1], 'rshiny': [1], 'r': [1, 1], 'matlab': [1], 'sql': [1, 1, 1]})\n"
     ]
    },
    {
     "data": {
      "text/plain": [
       "[('c', 1),\n",
       " ('python', 3),\n",
       " ('hadoop', 2),\n",
       " ('rshiny', 1),\n",
       " ('r', 2),\n",
       " ('matlab', 1),\n",
       " ('sql', 3)]"
      ]
     },
     "execution_count": 9,
     "metadata": {},
     "output_type": "execute_result"
    }
   ],
   "source": [
    "skills =[ \"Python, R, Hadoop, SQL\", \"Python, Rshiny, Matlab\", \"R, SQL, Hadoop\", \"SQL, C#, Python\"]\n",
    "\n",
    "word_count(skills)"
   ]
  },
  {
   "cell_type": "markdown",
   "metadata": {},
   "source": [
    "### More generic approach to add both mapper and redcuer in a single function is shown below.\n",
    "\n",
    "#### Binding them all together under a single function - map_reduce"
   ]
  },
  {
   "cell_type": "code",
   "execution_count": 10,
   "metadata": {
    "collapsed": true
   },
   "outputs": [],
   "source": [
    "def map_reduce(inputs, mapper, reducer):\n",
    "    \"\"\"runs MapReduce on input using functions mapper and reducer\"\"\"\n",
    "    collector = defaultdict(list)\n",
    "    \n",
    "    # write a for loop over the inputs that calls mapper\n",
    "    for i in inputs:\n",
    "        for key,value in mapper(i):\n",
    "            collector[key].append(value)\n",
    "    # write a return statement that calls the reducer\n",
    "    return[output\n",
    "          for key,value in collector.items()\n",
    "          for output in reducer(key,value)]"
   ]
  },
  {
   "cell_type": "code",
   "execution_count": 11,
   "metadata": {},
   "outputs": [
    {
     "name": "stdout",
     "output_type": "stream",
     "text": [
      "*****Mapper output******\n",
      "('science', 1)\n",
      "('data', 1)\n",
      "*****Mapper output******\n",
      "('big', 1)\n",
      "('data', 1)\n",
      "*****Mapper output******\n",
      "('science', 1)\n",
      "('fiction', 1)\n",
      "*****Mapper output******\n",
      "('visualization', 1)\n",
      "('data', 1)\n",
      "*****Mapper output******\n",
      "('mining', 1)\n",
      "('data', 1)\n",
      "*****Mapper output******\n",
      "('text', 1)\n",
      "('data', 1)\n",
      "('analysis', 1)\n",
      "[('visualization', 1), ('mining', 1), ('science', 2), ('analysis', 1), ('fiction', 1), ('text', 1), ('big', 1), ('data', 5)]\n"
     ]
    }
   ],
   "source": [
    "word_counts = map_reduce(documents, wc_mapper, wc_reducer)\n",
    "print(word_counts)"
   ]
  },
  {
   "cell_type": "markdown",
   "metadata": {},
   "source": [
    "### 2.2 MapReduce Python function\n",
    "\n",
    "Some of the MapReduce function available are:\n",
    "* mapreduce : https://pypi.org/project/mapreduce/\n",
    "* kotti_mapreduce: https://pypi.org/project/kotti_mapreduce/\n",
    "* mrs_mapreduce: https://pypi.org/project/mrs-mapreduce/\n",
    "* mrjob: /pypi.org/project/mrjob/\n",
    "* pydoop 1.2.0 : https://pypi.org/project/pydoop/\n",
    "\n"
   ]
  },
  {
   "cell_type": "markdown",
   "metadata": {},
   "source": [
    "## 3. Lets implement the MapReduce on a larger problem \n",
    "\n",
    "#### The dataset reference [1] provides a list of all the baby names that classified according to popular names by state. \n",
    "#### Our task now is to create a function that could load all the files in mapper (). The final goal of the MapReduce is to output the most common words and visualize them using Treemap\n",
    "\n",
    "Reference: Courtesy of UN5550-Fall 2017 assignment."
   ]
  },
  {
   "cell_type": "code",
   "execution_count": 12,
   "metadata": {
    "collapsed": true
   },
   "outputs": [],
   "source": [
    "'''Under mapper we would need to extract data from all the files from a folder and \n",
    "tokenize as we did for previous case.\n",
    "\n",
    "we donot want to enter the name of each file that needs to be read, we would need to implement method \n",
    "to read the file contents \n",
    "in the folder and extract the info'''\n",
    "\n",
    "\n",
    "# Loading all necessary libraries\n",
    "import glob, os, fileinput, re, datetime, sys, collections, string \n",
    "from collections import defaultdict, Counter, OrderedDict\n",
    "from functools import partial\n",
    "import pandas as pd     \n"
   ]
  },
  {
   "cell_type": "code",
   "execution_count": 13,
   "metadata": {
    "collapsed": true
   },
   "outputs": [],
   "source": [
    "#Function to read all the words from the file\n",
    "def tokenize(message):\n",
    "    message = message.lower()                    \n",
    "    all_words = re.findall(\"[a-z']+\", message)  \n",
    "    return (all_words)  "
   ]
  },
  {
   "cell_type": "markdown",
   "metadata": {},
   "source": [
    "### 3.1 Create a mapper function which works locally to produce a key, value pair for words that start with given letter "
   ]
  },
  {
   "cell_type": "markdown",
   "metadata": {},
   "source": [
    "* __Mapper__"
   ]
  },
  {
   "cell_type": "code",
   "execution_count": 14,
   "metadata": {},
   "outputs": [],
   "source": [
    "# The following code would produce mapper output with top 'n' names that start with the letter\n",
    "\n",
    "# mapper function which reads each line in the file on certain condition and returns the key value pairs\n",
    "def mapper1(alpha, filename ):\n",
    "    collector = defaultdict(list) # dictionary to collect the number of occurences grouped by \n",
    "    \n",
    "    # read each line of the file\n",
    "    for line in open(filename).readlines():\n",
    "        if line[0].lower() == str(alpha).lower(): # as the file format is near csv and first value is name, we check if the name is starting with the letter alpha and add name as key, number of occurences as value to the dictionary.\n",
    "            collector[re.split(',',line)[0]].append(re.split(',',line)[2])\n",
    "    \n",
    "    # for each key in dictionary, we are summing up the number of occurences and yielding them back to be passed to reducer\n",
    "    for key,value in collector.items():\n",
    "        yield (\"total_name_count\",(key,sum(list(map(int, value)))))       \n",
    "        \n",
    " "
   ]
  },
  {
   "cell_type": "markdown",
   "metadata": {},
   "source": [
    "* __Reducer__"
   ]
  },
  {
   "cell_type": "code",
   "execution_count": 15,
   "metadata": {
    "collapsed": true
   },
   "outputs": [],
   "source": [
    "# reducer function which yields most 'n' common words being used.\n",
    "def reducer1(n, key, wordNcounts):\n",
    "    word_counts = Counter()\n",
    "    # using a counter to add each count for the given word\n",
    "    for word, count in wordNcounts:\n",
    "        word_counts[word] += count\n",
    "    \n",
    "    # yield the 'n' most common words along with their counts.\n",
    "    yield word_counts.most_common(n)  \n",
    "    \n",
    "    "
   ]
  },
  {
   "cell_type": "markdown",
   "metadata": {},
   "source": [
    "* MapReduce"
   ]
  },
  {
   "cell_type": "code",
   "execution_count": 16,
   "metadata": {
    "collapsed": true
   },
   "outputs": [],
   "source": [
    "def map_reduce(inputs, mapper, reducer):\n",
    "    \"\"\"runs MapReduce on input using functions mapper and reducer\"\"\"\n",
    "    collector = defaultdict(list)\n",
    "    \n",
    "    # write a for loop over the inputs that calls mapper\n",
    "    for i in inputs:\n",
    "        for key,value in mapper(i):\n",
    "            collector[key].append(value)\n",
    "    # write a return statement that calls the reducer\n",
    "    return[output\n",
    "          for key,value in collector.items()\n",
    "          for output in reducer(key,value)]\n",
    "\n",
    "\n"
   ]
  },
  {
   "cell_type": "markdown",
   "metadata": {},
   "source": [
    "* __Reading all files from a folder, look into options of os libraries__\n",
    "\n",
    "https://docs.python.org/3/library/os.html\n",
    "\n",
    "https://docs.python.org/2/library/functools.html\n"
   ]
  },
  {
   "cell_type": "code",
   "execution_count": 17,
   "metadata": {},
   "outputs": [
    {
     "name": "stdout",
     "output_type": "stream",
     "text": [
      "[[('Anthony', 1439784), ('Andrew', 1288799), ('Anna', 891245), ('Ashley', 859453), ('Amanda', 787025), ('Amy', 692096), ('Angela', 665832), ('Alexander', 665492), ('Aaron', 579589), ('Alice', 562006), ('Adam', 551804), ('Arthur', 530474), ('Albert', 490125), ('Ann', 469710), ('Andrea', 437022), ('Austin', 412179), ('Alexis', 399551), ('Amber', 370879), ('Abigail', 357031), ('Annie', 351289), ('Alan', 347750), ('Anne', 321932), ('Angel', 321556), ('Alyssa', 305014), ('Allison', 298819)]]\n"
     ]
    }
   ],
   "source": [
    "# read all the filenames and path in the given directory\n",
    "Path = \"/home/campus11/nkattapr/UN5550-Fall2018/data/names/\"\n",
    "\n",
    "documents_all = [(Path + '/' + x) for x in os.listdir(Path) if x.endswith(\".txt\")]\n",
    "\n",
    "\n",
    "# using partial we are passing the required string i.e., the alphabet of which each names should be starting from.\n",
    "findletter = 'A'\n",
    "\n",
    "# using partial for passing values to the mapper function\n",
    "mapper = partial(mapper1, findletter)\n",
    "\n",
    "# using partial for passing values to the reducer function\n",
    "reducer = partial(reducer1, 25)\n",
    "\n",
    "top_name_counts = map_reduce(documents_all, mapper, reducer)\n",
    "print(top_name_counts)\n",
    "\n",
    "\n",
    "\n",
    "bpd = pd.DataFrame(top_name_counts[0])\n",
    "\n"
   ]
  },
  {
   "cell_type": "markdown",
   "metadata": {},
   "source": [
    "### 3.2 Plotting Treemap\n",
    "\n",
    "An example for plotting treemap is described below: \n",
    "\n",
    "https://python-graph-gallery.com/200-basic-treemap-with-python/\n",
    "\n",
    "There is a necessity to pip install squarify library for building the treemap."
   ]
  },
  {
   "cell_type": "code",
   "execution_count": 18,
   "metadata": {},
   "outputs": [
    {
     "name": "stdout",
     "output_type": "stream",
     "text": [
      "Requirement already satisfied (use --upgrade to upgrade): squarify in /home/campus11/nkattapr/.local/lib/python2.7/site-packages\n",
      "\u001b[33mYou are using pip version 8.1.2, however version 18.1 is available.\n",
      "You should consider upgrading via the 'pip install --upgrade pip' command.\u001b[0m\n"
     ]
    }
   ],
   "source": [
    "!pip install --user squarify"
   ]
  },
  {
   "cell_type": "code",
   "execution_count": 19,
   "metadata": {},
   "outputs": [
    {
     "data": {
      "image/png": "[encoded data removed]",
      "text/plain": [
       "<Figure size 432x288 with 1 Axes>"
      ]
     },
     "metadata": {},
     "output_type": "display_data"
    }
   ],
   "source": [
    "# libraries\n",
    "import matplotlib \n",
    "from matplotlib import style\n",
    "import matplotlib.pyplot as plt\n",
    "import squarify    # use !pip install squarify (necessary for treemap)\n",
    "# If you have 2 lists\n",
    "\n",
    "squarify.plot(sizes=bpd[1], label=bpd[0], alpha=.7)\n",
    "plt.axis('off')\n",
    "plt.show() \n"
   ]
  },
  {
   "cell_type": "markdown",
   "metadata": {},
   "source": [
    "### 3.3 Modify the above mapper function to produce a key, value pair for words that contains the given subword say 'an' in all the words"
   ]
  },
  {
   "cell_type": "code",
   "execution_count": 20,
   "metadata": {
    "collapsed": true
   },
   "outputs": [],
   "source": [
    "# mapper function which reads each line in the file on certain condition and returns the key value pairs\n",
    "def mapper2(string, filename):\n",
    "    collector = defaultdict(list) # dictionary to collect the number of occurences grouped by \n",
    "    \n",
    "    for line in open(filename).readlines(): # read each line of the file\n",
    "        name = re.split(',',line)[0]  # as the file format is near csv and first value is name\n",
    "        if string in name: # if the name contains the given string then append to dictionary as key and number of occurences as value\n",
    "            collector[name].append(re.split(',',line)[2])\n",
    "\n",
    "    for key,value in collector.items():\n",
    "        yield (\"total_name_count\",(key,sum(list(map(int, value)))))        \n",
    "        "
   ]
  },
  {
   "cell_type": "code",
   "execution_count": 21,
   "metadata": {
    "collapsed": true
   },
   "outputs": [],
   "source": [
    "# reducer function which yields most 'n' common words being used.\n",
    "def reducer2(n, key, wordNcounts):\n",
    "    word_counts = Counter()\n",
    "    # using a counter to add each count for the given word\n",
    "    for word, count in wordNcounts:\n",
    "        word_counts[word] += count\n",
    "    \n",
    "    # yield the 'n' most common words along with their counts.\n",
    "    yield (word_counts.most_common(n)  )\n",
    "    \n",
    "    \n",
    "    "
   ]
  },
  {
   "cell_type": "code",
   "execution_count": 22,
   "metadata": {},
   "outputs": [
    {
     "name": "stdout",
     "output_type": "stream",
     "text": [
      "[[('Daniel', 1915517), ('Brian', 1168503), ('Susan', 1123983), ('Nancy', 1004956), ('Ryan', 947787), ('Frank', 914943), ('Sandra', 876205), ('Jonathan', 837403), ('Amanda', 787025), ('Brandon', 757774), ('Stephanie', 741923), ('Alexander', 665492), ('Frances', 594325), ('Samantha', 571862), ('Janet', 557448)]]\n"
     ]
    }
   ],
   "source": [
    "mapper = partial(mapper2,'an')\n",
    "reducer = partial(reducer2, 15)\n",
    "top_name_counts = map_reduce(documents_all, mapper, reducer)\n",
    "print(top_name_counts)\n",
    "\n"
   ]
  }
 ],
 "metadata": {
  "kernelspec": {
   "display_name": "Python 3",
   "language": "python",
   "name": "python3"
  },
  "language_info": {
   "codemirror_mode": {
    "name": "ipython",
    "version": 3
   },
   "file_extension": ".py",
   "mimetype": "text/x-python",
   "name": "python",
   "nbconvert_exporter": "python",
   "pygments_lexer": "ipython3",
   "version": "3.6.5"
  }
 },
 "nbformat": 4,
 "nbformat_minor": 2
}
