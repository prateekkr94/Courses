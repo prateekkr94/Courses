{
 "cells": [
  {
   "cell_type": "markdown",
   "metadata": {},
   "source": [
    ">>> # Supervised learning (Chapter 5)\n",
    "## 10/04/2018 \n",
    "\n",
    "In Tuesday's class you had been introduced to the concepts of supervised learning and unsupervised learning in ML. \n",
    "* Exposure to the Scikit-learn toolbox\n",
    "* Metrics to evaluate performance of ML algorithm\n",
    "* Training / Validation / Testing\n",
    "* Awareness of some ML algorithms and their mathematical foundations\n",
    "* KNN classification using Iris dataset \n",
    "\n",
    "Particularly, the module focused on a supervised machine learning - classification. The chap 5 in the textbook provides the  basics of Machine learning and example codes in python are expicitly demonstrated. \n",
    "\n",
    "\n",
    "In this lab session, we will look into\n",
    "* Correctness meansure in detail with hands-on calculation\n",
    "* SciKit learning methods and useful functions\n",
    "* Install the required libraries for Project\n",
    "* Scikit-plot module\n",
    "* Importing and loading the MNIST Data \n",
    "\n",
    "Please also download, the week-05 jupyter notebook file, there are explanations that might be necessary for this excercise. \n",
    "\n",
    "**Dataset used:** Iris, breast cancer and MNIST dataset."
   ]
  },
  {
   "cell_type": "markdown",
   "metadata": {},
   "source": [
    "### scikit learn: More information in following link:  http://scikit-learn.org/stable/index.html\n",
    "        "
   ]
  },
  {
   "cell_type": "markdown",
   "metadata": {},
   "source": [
    "## 1. Using scikit-learn package load the toy dataset\n",
    "\n",
    "load iris, breast cancer and wine standard datasets and assign them to iris, cancer and wine."
   ]
  },
  {
   "cell_type": "code",
   "execution_count": 1,
   "metadata": {},
   "outputs": [
    {
     "name": "stdout",
     "output_type": "stream",
     "text": [
      "<class 'sklearn.utils.Bunch'>\n"
     ]
    }
   ],
   "source": [
    "# loading std datasets\n",
    "from sklearn.datasets import load_iris, load_breast_cancer, load_wine\n",
    "\n",
    "\n",
    "# assign them to iris, cancer and wine\n",
    "iris = load_iris()\n",
    "cancer = load_breast_cancer()\n",
    "wine = load_wine()\n",
    "\n",
    "# print(iris.data[0:10, ])\n",
    "# print (iris.target)\n",
    "print(type(iris))"
   ]
  },
  {
   "cell_type": "markdown",
   "metadata": {},
   "source": [
    "Next lab session, we will load some of the large datasets for regression problems"
   ]
  },
  {
   "cell_type": "markdown",
   "metadata": {},
   "source": [
    "### 1A. Read Section 5.3 and from class material week-05, what does the following represent\n",
    "    i. Columns\n",
    "    ii. Rows\n",
    "    iii. Target\n",
    "\n",
    "    a. How many rows and columns are there in the iris, cancer and wine.\n",
    "    b. what is the label vectors in this datasets?"
   ]
  },
  {
   "cell_type": "code",
   "execution_count": 2,
   "metadata": {},
   "outputs": [
    {
     "name": "stdout",
     "output_type": "stream",
     "text": [
      "No of samples and features in iris datasets is 150 and 4 respectively\n",
      "No of samples and features in cancer datasets is 569 and 30 respectively\n",
      "No of samples and features in wine datasets is 178 and 13 respectively\n",
      "('iris:\\n', array(['setosa', 'versicolor', 'virginica'], dtype='|S10'))\n",
      "('cancer:\\n', array(['malignant', 'benign'], dtype='|S9'))\n",
      "('wine:\\n', array(['class_0', 'class_1', 'class_2'], dtype='|S7'))\n"
     ]
    }
   ],
   "source": [
    "#  From section 5.3 and week-05, the input data and its structure are described\n",
    "\n",
    "\n",
    "\"\"\"\n",
    " The n_samples and n_features are the size of an array. \n",
    "\n",
    " The columns represent: features, attributes, dimensions, regressors, covariates, predictors or independent variables.\n",
    " whereas the rows represent the instances, samples or examples.\n",
    " Target represent the label, outcome or dependent variables. \n",
    " \n",
    " \"\"\"\n",
    "\n",
    "print (\"No of samples and features in iris datasets is {} and {} respectively\".format(iris.data.shape[0], iris.data.shape[1]))\n",
    "print (\"No of samples and features in cancer datasets is {} and {} respectively\".format(cancer.data.shape[0], cancer.data.shape[1]))\n",
    "print (\"No of samples and features in wine datasets is {} and {} respectively\".format(wine.data.shape[0], wine.data.shape[1]))\n",
    "\n",
    "\n",
    "print (\"iris:\\n\", iris.target_names)\n",
    "print (\"cancer:\\n\", cancer.target_names)\n",
    "print (\"wine:\\n\", wine.target_names)"
   ]
  },
  {
   "cell_type": "markdown",
   "metadata": {},
   "source": [
    "### 1B. From the link below: learn about the dataset loading utilities. How do you access these dataset. \n",
    "\n",
    "http://scikit-learn.org/stable/datasets/index.html\n",
    "\n",
    "### iris"
   ]
  },
  {
   "cell_type": "code",
   "execution_count": 3,
   "metadata": {},
   "outputs": [
    {
     "name": "stdout",
     "output_type": "stream",
     "text": [
      "[[5.1 3.5 1.4 0.2]\n",
      " [4.9 3.  1.4 0.2]\n",
      " [4.7 3.2 1.3 0.2]\n",
      " [4.6 3.1 1.5 0.2]\n",
      " [5.  3.6 1.4 0.2]]\n",
      "[0 0 0 0 0 0 0 0 0 0 0 0 0 0 0 0 0 0 0 0 0 0 0 0 0 0 0 0 0 0 0 0 0 0 0 0 0\n",
      " 0 0 0 0 0 0 0 0 0 0 0 0 0 1 1 1 1 1 1 1 1 1 1 1 1 1 1 1 1 1 1 1 1 1 1 1 1\n",
      " 1 1 1 1 1 1 1 1 1 1 1 1 1 1 1 1 1 1 1 1 1 1 1 1 1 1 2 2 2 2 2 2 2 2 2 2 2\n",
      " 2 2 2 2 2 2 2 2 2 2 2 2 2 2 2 2 2 2 2 2 2 2 2 2 2 2 2 2 2 2 2 2 2 2 2 2 2\n",
      " 2 2]\n",
      "Iris Plants Database\n",
      "====================\n",
      "\n",
      "Notes\n",
      "-----\n",
      "Data Set Characteristics:\n",
      "    :Number of Instances: 150 (50 in each of three classes)\n",
      "    :Number of Attributes: 4 numeric, predictive attributes and the class\n",
      "    :Attribute Information:\n",
      "        - sepal length in cm\n",
      "        - sepal width in cm\n",
      "        - petal length in cm\n",
      "        - petal width in cm\n",
      "        - class:\n",
      "                - Iris-Setosa\n",
      "                - Iris-Versicolour\n",
      "                - Iris-Virginica\n",
      "    :Summary Statistics:\n",
      "\n",
      "    ============== ==== ==== ======= ===== ====================\n",
      "                    Min  Max   Mean    SD   Class Correlation\n",
      "    ============== ==== ==== ======= ===== ====================\n",
      "    sepal length:   4.3  7.9   5.84   0.83    0.7826\n",
      "    sepal width:    2.0  4.4   3.05   0.43   -0.4194\n",
      "    petal length:   1.0  6.9   3.76   1.76    0.9490  (high!)\n",
      "    petal width:    0.1  2.5   1.20  0.76     0.9565  (high!)\n",
      "    ============== ==== ==== ======= ===== ====================\n",
      "\n",
      "    :Missing Attribute Values: None\n",
      "    :Class Distribution: 33.3% for each of 3 classes.\n",
      "    :Creator: R.A. Fisher\n",
      "    :Donor: Michael Marshall (MARSHALL%PLU@io.arc.nasa.gov)\n",
      "    :Date: July, 1988\n",
      "\n",
      "This is a copy of UCI ML iris datasets.\n",
      "http://archive.ics.uci.edu/ml/datasets/Iris\n",
      "\n",
      "The famous Iris database, first used by Sir R.A Fisher\n",
      "\n",
      "This is perhaps the best known database to be found in the\n",
      "pattern recognition literature.  Fisher's paper is a classic in the field and\n",
      "is referenced frequently to this day.  (See Duda & Hart, for example.)  The\n",
      "data set contains 3 classes of 50 instances each, where each class refers to a\n",
      "type of iris plant.  One class is linearly separable from the other 2; the\n",
      "latter are NOT linearly separable from each other.\n",
      "\n",
      "References\n",
      "----------\n",
      "   - Fisher,R.A. \"The use of multiple measurements in taxonomic problems\"\n",
      "     Annual Eugenics, 7, Part II, 179-188 (1936); also in \"Contributions to\n",
      "     Mathematical Statistics\" (John Wiley, NY, 1950).\n",
      "   - Duda,R.O., & Hart,P.E. (1973) Pattern Classification and Scene Analysis.\n",
      "     (Q327.D83) John Wiley & Sons.  ISBN 0-471-22361-1.  See page 218.\n",
      "   - Dasarathy, B.V. (1980) \"Nosing Around the Neighborhood: A New System\n",
      "     Structure and Classification Rule for Recognition in Partially Exposed\n",
      "     Environments\".  IEEE Transactions on Pattern Analysis and Machine\n",
      "     Intelligence, Vol. PAMI-2, No. 1, 67-71.\n",
      "   - Gates, G.W. (1972) \"The Reduced Nearest Neighbor Rule\".  IEEE Transactions\n",
      "     on Information Theory, May 1972, 431-433.\n",
      "   - See also: 1988 MLC Proceedings, 54-64.  Cheeseman et al\"s AUTOCLASS II\n",
      "     conceptual clustering system finds 3 classes in the data.\n",
      "   - Many, many more ...\n",
      "\n"
     ]
    }
   ],
   "source": [
    "\"\"\" We can access the scikit datasets by using .data, **.target and **.DESCR \"\"\"\n",
    "print(iris.data [0:5,])\n",
    "print(iris.target)\n",
    "print (iris.DESCR)"
   ]
  },
  {
   "cell_type": "markdown",
   "metadata": {},
   "source": [
    "## Cancer"
   ]
  },
  {
   "cell_type": "code",
   "execution_count": 4,
   "metadata": {},
   "outputs": [
    {
     "name": "stdout",
     "output_type": "stream",
     "text": [
      "[[1.799e+01 1.038e+01 1.228e+02 1.001e+03 1.184e-01 2.776e-01 3.001e-01\n",
      "  1.471e-01 2.419e-01 7.871e-02 1.095e+00 9.053e-01 8.589e+00 1.534e+02\n",
      "  6.399e-03 4.904e-02 5.373e-02 1.587e-02 3.003e-02 6.193e-03 2.538e+01\n",
      "  1.733e+01 1.846e+02 2.019e+03 1.622e-01 6.656e-01 7.119e-01 2.654e-01\n",
      "  4.601e-01 1.189e-01]\n",
      " [2.057e+01 1.777e+01 1.329e+02 1.326e+03 8.474e-02 7.864e-02 8.690e-02\n",
      "  7.017e-02 1.812e-01 5.667e-02 5.435e-01 7.339e-01 3.398e+00 7.408e+01\n",
      "  5.225e-03 1.308e-02 1.860e-02 1.340e-02 1.389e-02 3.532e-03 2.499e+01\n",
      "  2.341e+01 1.588e+02 1.956e+03 1.238e-01 1.866e-01 2.416e-01 1.860e-01\n",
      "  2.750e-01 8.902e-02]\n",
      " [1.969e+01 2.125e+01 1.300e+02 1.203e+03 1.096e-01 1.599e-01 1.974e-01\n",
      "  1.279e-01 2.069e-01 5.999e-02 7.456e-01 7.869e-01 4.585e+00 9.403e+01\n",
      "  6.150e-03 4.006e-02 3.832e-02 2.058e-02 2.250e-02 4.571e-03 2.357e+01\n",
      "  2.553e+01 1.525e+02 1.709e+03 1.444e-01 4.245e-01 4.504e-01 2.430e-01\n",
      "  3.613e-01 8.758e-02]\n",
      " [1.142e+01 2.038e+01 7.758e+01 3.861e+02 1.425e-01 2.839e-01 2.414e-01\n",
      "  1.052e-01 2.597e-01 9.744e-02 4.956e-01 1.156e+00 3.445e+00 2.723e+01\n",
      "  9.110e-03 7.458e-02 5.661e-02 1.867e-02 5.963e-02 9.208e-03 1.491e+01\n",
      "  2.650e+01 9.887e+01 5.677e+02 2.098e-01 8.663e-01 6.869e-01 2.575e-01\n",
      "  6.638e-01 1.730e-01]\n",
      " [2.029e+01 1.434e+01 1.351e+02 1.297e+03 1.003e-01 1.328e-01 1.980e-01\n",
      "  1.043e-01 1.809e-01 5.883e-02 7.572e-01 7.813e-01 5.438e+00 9.444e+01\n",
      "  1.149e-02 2.461e-02 5.688e-02 1.885e-02 1.756e-02 5.115e-03 2.254e+01\n",
      "  1.667e+01 1.522e+02 1.575e+03 1.374e-01 2.050e-01 4.000e-01 1.625e-01\n",
      "  2.364e-01 7.678e-02]]\n",
      "[0 0 0 0 0 0 0 0 0 0 0 0 0 0 0 0 0 0 0 1 1 1 0 0 0 0 0 0 0 0 0 0 0 0 0 0 0\n",
      " 1 0 0 0 0 0 0 0 0 1 0 1 1 1 1 1 0 0 1 0 0 1 1 1 1 0 1 0 0 1 1 1 1 0 1 0 0\n",
      " 1 0 1 0 0 1 1 1 0 0 1 0 0 0 1 1 1 0 1 1 0 0 1 1 1 0 0 1 1 1 1 0 1 1 0 1 1\n",
      " 1 1 1 1 1 1 0 0 0 1 0 0 1 1 1 0 0 1 0 1 0 0 1 0 0 1 1 0 1 1 0 1 1 1 1 0 1\n",
      " 1 1 1 1 1 1 1 1 0 1 1 1 1 0 0 1 0 1 1 0 0 1 1 0 0 1 1 1 1 0 1 1 0 0 0 1 0\n",
      " 1 0 1 1 1 0 1 1 0 0 1 0 0 0 0 1 0 0 0 1 0 1 0 1 1 0 1 0 0 0 0 1 1 0 0 1 1\n",
      " 1 0 1 1 1 1 1 0 0 1 1 0 1 1 0 0 1 0 1 1 1 1 0 1 1 1 1 1 0 1 0 0 0 0 0 0 0\n",
      " 0 0 0 0 0 0 0 1 1 1 1 1 1 0 1 0 1 1 0 1 1 0 1 0 0 1 1 1 1 1 1 1 1 1 1 1 1\n",
      " 1 0 1 1 0 1 0 1 1 1 1 1 1 1 1 1 1 1 1 1 1 0 1 1 1 0 1 0 1 1 1 1 0 0 0 1 1\n",
      " 1 1 0 1 0 1 0 1 1 1 0 1 1 1 1 1 1 1 0 0 0 1 1 1 1 1 1 1 1 1 1 1 0 0 1 0 0\n",
      " 0 1 0 0 1 1 1 1 1 0 1 1 1 1 1 0 1 1 1 0 1 1 0 0 1 1 1 1 1 1 0 1 1 1 1 1 1\n",
      " 1 0 1 1 1 1 1 0 1 1 0 1 1 1 1 1 1 1 1 1 1 1 1 0 1 0 0 1 0 1 1 1 1 1 0 1 1\n",
      " 0 1 0 1 1 0 1 0 1 1 1 1 1 1 1 1 0 0 1 1 1 1 1 1 0 1 1 1 1 1 1 1 1 1 1 0 1\n",
      " 1 1 1 1 1 1 0 1 0 1 1 0 1 1 1 1 1 0 0 1 0 1 0 1 1 1 1 1 0 1 1 0 1 0 1 0 0\n",
      " 1 1 1 0 1 1 1 1 1 1 1 1 1 1 1 0 1 0 0 1 1 1 1 1 1 1 1 1 1 1 1 1 1 1 1 1 1\n",
      " 1 1 1 1 1 1 1 0 0 0 0 0 0 1]\n",
      "Breast Cancer Wisconsin (Diagnostic) Database\n",
      "=============================================\n",
      "\n",
      "Notes\n",
      "-----\n",
      "Data Set Characteristics:\n",
      "    :Number of Instances: 569\n",
      "\n",
      "    :Number of Attributes: 30 numeric, predictive attributes and the class\n",
      "\n",
      "    :Attribute Information:\n",
      "        - radius (mean of distances from center to points on the perimeter)\n",
      "        - texture (standard deviation of gray-scale values)\n",
      "        - perimeter\n",
      "        - area\n",
      "        - smoothness (local variation in radius lengths)\n",
      "        - compactness (perimeter^2 / area - 1.0)\n",
      "        - concavity (severity of concave portions of the contour)\n",
      "        - concave points (number of concave portions of the contour)\n",
      "        - symmetry \n",
      "        - fractal dimension (\"coastline approximation\" - 1)\n",
      "\n",
      "        The mean, standard error, and \"worst\" or largest (mean of the three\n",
      "        largest values) of these features were computed for each image,\n",
      "        resulting in 30 features.  For instance, field 3 is Mean Radius, field\n",
      "        13 is Radius SE, field 23 is Worst Radius.\n",
      "\n",
      "        - class:\n",
      "                - WDBC-Malignant\n",
      "                - WDBC-Benign\n",
      "\n",
      "    :Summary Statistics:\n",
      "\n",
      "    ===================================== ====== ======\n",
      "                                           Min    Max\n",
      "    ===================================== ====== ======\n",
      "    radius (mean):                        6.981  28.11\n",
      "    texture (mean):                       9.71   39.28\n",
      "    perimeter (mean):                     43.79  188.5\n",
      "    area (mean):                          143.5  2501.0\n",
      "    smoothness (mean):                    0.053  0.163\n",
      "    compactness (mean):                   0.019  0.345\n",
      "    concavity (mean):                     0.0    0.427\n",
      "    concave points (mean):                0.0    0.201\n",
      "    symmetry (mean):                      0.106  0.304\n",
      "    fractal dimension (mean):             0.05   0.097\n",
      "    radius (standard error):              0.112  2.873\n",
      "    texture (standard error):             0.36   4.885\n",
      "    perimeter (standard error):           0.757  21.98\n",
      "    area (standard error):                6.802  542.2\n",
      "    smoothness (standard error):          0.002  0.031\n",
      "    compactness (standard error):         0.002  0.135\n",
      "    concavity (standard error):           0.0    0.396\n",
      "    concave points (standard error):      0.0    0.053\n",
      "    symmetry (standard error):            0.008  0.079\n",
      "    fractal dimension (standard error):   0.001  0.03\n",
      "    radius (worst):                       7.93   36.04\n",
      "    texture (worst):                      12.02  49.54\n",
      "    perimeter (worst):                    50.41  251.2\n",
      "    area (worst):                         185.2  4254.0\n",
      "    smoothness (worst):                   0.071  0.223\n",
      "    compactness (worst):                  0.027  1.058\n",
      "    concavity (worst):                    0.0    1.252\n",
      "    concave points (worst):               0.0    0.291\n",
      "    symmetry (worst):                     0.156  0.664\n",
      "    fractal dimension (worst):            0.055  0.208\n",
      "    ===================================== ====== ======\n",
      "\n",
      "    :Missing Attribute Values: None\n",
      "\n",
      "    :Class Distribution: 212 - Malignant, 357 - Benign\n",
      "\n",
      "    :Creator:  Dr. William H. Wolberg, W. Nick Street, Olvi L. Mangasarian\n",
      "\n",
      "    :Donor: Nick Street\n",
      "\n",
      "    :Date: November, 1995\n",
      "\n",
      "This is a copy of UCI ML Breast Cancer Wisconsin (Diagnostic) datasets.\n",
      "https://goo.gl/U2Uwz2\n",
      "\n",
      "Features are computed from a digitized image of a fine needle\n",
      "aspirate (FNA) of a breast mass.  They describe\n",
      "characteristics of the cell nuclei present in the image.\n",
      "\n",
      "Separating plane described above was obtained using\n",
      "Multisurface Method-Tree (MSM-T) [K. P. Bennett, \"Decision Tree\n",
      "Construction Via Linear Programming.\" Proceedings of the 4th\n",
      "Midwest Artificial Intelligence and Cognitive Science Society,\n",
      "pp. 97-101, 1992], a classification method which uses linear\n",
      "programming to construct a decision tree.  Relevant features\n",
      "were selected using an exhaustive search in the space of 1-4\n",
      "features and 1-3 separating planes.\n",
      "\n",
      "The actual linear program used to obtain the separating plane\n",
      "in the 3-dimensional space is that described in:\n",
      "[K. P. Bennett and O. L. Mangasarian: \"Robust Linear\n",
      "Programming Discrimination of Two Linearly Inseparable Sets\",\n",
      "Optimization Methods and Software 1, 1992, 23-34].\n",
      "\n",
      "This database is also available through the UW CS ftp server:\n",
      "\n",
      "ftp ftp.cs.wisc.edu\n",
      "cd math-prog/cpo-dataset/machine-learn/WDBC/\n",
      "\n",
      "References\n",
      "----------\n",
      "   - W.N. Street, W.H. Wolberg and O.L. Mangasarian. Nuclear feature extraction \n",
      "     for breast tumor diagnosis. IS&T/SPIE 1993 International Symposium on \n",
      "     Electronic Imaging: Science and Technology, volume 1905, pages 861-870,\n",
      "     San Jose, CA, 1993.\n",
      "   - O.L. Mangasarian, W.N. Street and W.H. Wolberg. Breast cancer diagnosis and \n",
      "     prognosis via linear programming. Operations Research, 43(4), pages 570-577, \n",
      "     July-August 1995.\n",
      "   - W.H. Wolberg, W.N. Street, and O.L. Mangasarian. Machine learning techniques\n",
      "     to diagnose breast cancer from fine-needle aspirates. Cancer Letters 77 (1994) \n",
      "     163-171.\n",
      "\n"
     ]
    }
   ],
   "source": [
    "\"\"\" We can access the scikit datasets by using .data, **.target and **.DESCR \"\"\"\n",
    "print(cancer.data [0:5,])\n",
    "print(cancer.target)\n",
    "print (cancer.DESCR)\n"
   ]
  },
  {
   "cell_type": "markdown",
   "metadata": {},
   "source": [
    "## Wine"
   ]
  },
  {
   "cell_type": "code",
   "execution_count": 5,
   "metadata": {},
   "outputs": [
    {
     "name": "stdout",
     "output_type": "stream",
     "text": [
      "[[1.423e+01 1.710e+00 2.430e+00 1.560e+01 1.270e+02 2.800e+00 3.060e+00\n",
      "  2.800e-01 2.290e+00 5.640e+00 1.040e+00 3.920e+00 1.065e+03]\n",
      " [1.320e+01 1.780e+00 2.140e+00 1.120e+01 1.000e+02 2.650e+00 2.760e+00\n",
      "  2.600e-01 1.280e+00 4.380e+00 1.050e+00 3.400e+00 1.050e+03]\n",
      " [1.316e+01 2.360e+00 2.670e+00 1.860e+01 1.010e+02 2.800e+00 3.240e+00\n",
      "  3.000e-01 2.810e+00 5.680e+00 1.030e+00 3.170e+00 1.185e+03]\n",
      " [1.437e+01 1.950e+00 2.500e+00 1.680e+01 1.130e+02 3.850e+00 3.490e+00\n",
      "  2.400e-01 2.180e+00 7.800e+00 8.600e-01 3.450e+00 1.480e+03]\n",
      " [1.324e+01 2.590e+00 2.870e+00 2.100e+01 1.180e+02 2.800e+00 2.690e+00\n",
      "  3.900e-01 1.820e+00 4.320e+00 1.040e+00 2.930e+00 7.350e+02]]\n",
      "[0 0 0 0 0 0 0 0 0 0 0 0 0 0 0 0 0 0 0 0 0 0 0 0 0 0 0 0 0 0 0 0 0 0 0 0 0\n",
      " 0 0 0 0 0 0 0 0 0 0 0 0 0 0 0 0 0 0 0 0 0 0 1 1 1 1 1 1 1 1 1 1 1 1 1 1 1\n",
      " 1 1 1 1 1 1 1 1 1 1 1 1 1 1 1 1 1 1 1 1 1 1 1 1 1 1 1 1 1 1 1 1 1 1 1 1 1\n",
      " 1 1 1 1 1 1 1 1 1 1 1 1 1 1 1 1 1 1 1 2 2 2 2 2 2 2 2 2 2 2 2 2 2 2 2 2 2\n",
      " 2 2 2 2 2 2 2 2 2 2 2 2 2 2 2 2 2 2 2 2 2 2 2 2 2 2 2 2 2 2]\n",
      "Wine Data Database\n",
      "====================\n",
      "\n",
      "Notes\n",
      "-----\n",
      "Data Set Characteristics:\n",
      "    :Number of Instances: 178 (50 in each of three classes)\n",
      "    :Number of Attributes: 13 numeric, predictive attributes and the class\n",
      "    :Attribute Information:\n",
      " \t\t- 1) Alcohol\n",
      " \t\t- 2) Malic acid\n",
      " \t\t- 3) Ash\n",
      "\t\t- 4) Alcalinity of ash  \n",
      " \t\t- 5) Magnesium\n",
      "\t\t- 6) Total phenols\n",
      " \t\t- 7) Flavanoids\n",
      " \t\t- 8) Nonflavanoid phenols\n",
      " \t\t- 9) Proanthocyanins\n",
      "\t\t- 10)Color intensity\n",
      " \t\t- 11)Hue\n",
      " \t\t- 12)OD280/OD315 of diluted wines\n",
      " \t\t- 13)Proline\n",
      "        \t- class:\n",
      "                - class_0\n",
      "                - class_1\n",
      "                - class_2\n",
      "\t\t\n",
      "    :Summary Statistics:\n",
      "    \n",
      "    ============================= ==== ===== ======= =====\n",
      "                                   Min   Max   Mean     SD\n",
      "    ============================= ==== ===== ======= =====\n",
      "    Alcohol:                      11.0  14.8    13.0   0.8\n",
      "    Malic Acid:                   0.74  5.80    2.34  1.12\n",
      "    Ash:                          1.36  3.23    2.36  0.27\n",
      "    Alcalinity of Ash:            10.6  30.0    19.5   3.3\n",
      "    Magnesium:                    70.0 162.0    99.7  14.3\n",
      "    Total Phenols:                0.98  3.88    2.29  0.63\n",
      "    Flavanoids:                   0.34  5.08    2.03  1.00\n",
      "    Nonflavanoid Phenols:         0.13  0.66    0.36  0.12\n",
      "    Proanthocyanins:              0.41  3.58    1.59  0.57\n",
      "    Colour Intensity:              1.3  13.0     5.1   2.3\n",
      "    Hue:                          0.48  1.71    0.96  0.23\n",
      "    OD280/OD315 of diluted wines: 1.27  4.00    2.61  0.71\n",
      "    Proline:                       278  1680     746   315\n",
      "    ============================= ==== ===== ======= =====\n",
      "\n",
      "    :Missing Attribute Values: None\n",
      "    :Class Distribution: class_0 (59), class_1 (71), class_2 (48)\n",
      "    :Creator: R.A. Fisher\n",
      "    :Donor: Michael Marshall (MARSHALL%PLU@io.arc.nasa.gov)\n",
      "    :Date: July, 1988\n",
      "\n",
      "This is a copy of UCI ML Wine recognition datasets.\n",
      "https://archive.ics.uci.edu/ml/machine-learning-databases/wine/wine.data\n",
      "\n",
      "The data is the results of a chemical analysis of wines grown in the same\n",
      "region in Italy by three different cultivators. There are thirteen different\n",
      "measurements taken for different constituents found in the three types of\n",
      "wine.\n",
      "\n",
      "Original Owners: \n",
      "\n",
      "Forina, M. et al, PARVUS - \n",
      "An Extendible Package for Data Exploration, Classification and Correlation. \n",
      "Institute of Pharmaceutical and Food Analysis and Technologies,\n",
      "Via Brigata Salerno, 16147 Genoa, Italy.\n",
      "\n",
      "Citation:\n",
      "\n",
      "Lichman, M. (2013). UCI Machine Learning Repository\n",
      "[http://archive.ics.uci.edu/ml]. Irvine, CA: University of California,\n",
      "School of Information and Computer Science. \n",
      "\n",
      "References\n",
      "----------\n",
      "(1) \n",
      "S. Aeberhard, D. Coomans and O. de Vel, \n",
      "Comparison of Classifiers in High Dimensional Settings, \n",
      "Tech. Rep. no. 92-02, (1992), Dept. of Computer Science and Dept. of \n",
      "Mathematics and Statistics, James Cook University of North Queensland. \n",
      "(Also submitted to Technometrics). \n",
      "\n",
      "The data was used with many others for comparing various \n",
      "classifiers. The classes are separable, though only RDA \n",
      "has achieved 100% correct classification. \n",
      "(RDA : 100%, QDA 99.4%, LDA 98.9%, 1NN 96.1% (z-transformed data)) \n",
      "(All results using the leave-one-out technique) \n",
      "\n",
      "(2) \n",
      "S. Aeberhard, D. Coomans and O. de Vel, \n",
      "\"THE CLASSIFICATION PERFORMANCE OF RDA\" \n",
      "Tech. Rep. no. 92-01, (1992), Dept. of Computer Science and Dept. of \n",
      "Mathematics and Statistics, James Cook University of North Queensland. \n",
      "(Also submitted to Journal of Chemometrics). \n",
      "\n"
     ]
    }
   ],
   "source": [
    "\"\"\" We can access the scikit datasets by using .data, **.target and **.DESCR \"\"\"\n",
    "print(wine.data [0:5,])\n",
    "print(wine.target)\n",
    "print (wine.DESCR)"
   ]
  },
  {
   "cell_type": "markdown",
   "metadata": {},
   "source": [
    "## 2. Import other important packages necessary for supervised learning. The below links gives information and significance of each sklearn modules.\n",
    "\n",
    "https://docs.python.org/3/library/math.html\n",
    "\n",
    "https://docs.python.org/2/library/random.html\n",
    "\n",
    "http://scikit-learn.org/stable/modules/neighbors.html\n",
    "\n",
    "http://scikit-learn.org/stable/modules/generated/sklearn.decomposition.PCA.html\n",
    "\n",
    "http://scikit-learn.org/stable/modules/cross_validation.html\n",
    "\n"
   ]
  },
  {
   "cell_type": "code",
   "execution_count": 6,
   "metadata": {},
   "outputs": [
    {
     "name": "stderr",
     "output_type": "stream",
     "text": [
      "/home/campus11/nkattapr/.local/lib/python2.7/site-packages/sklearn/cross_validation.py:41: DeprecationWarning: This module was deprecated in version 0.18 in favor of the model_selection module into which all the refactored classes and functions are moved. Also note that the interface of the new CV iterators are different from that of this module. This module will be removed in 0.20.\n",
      "  \"This module will be removed in 0.20.\", DeprecationWarning)\n"
     ]
    }
   ],
   "source": [
    "# import matplotlib.pyplot for plotting framework\n",
    "import matplotlib.pyplot as plt\n",
    "import matplotlib as mpl\n",
    "# from mpl_toolkits.mplot3d import Axes3D\n",
    "\n",
    "\n",
    "# for ploting in within notebook\n",
    "% matplotlib inline \n",
    "\n",
    "# import numpy\n",
    "import numpy as np\n",
    "\n",
    "# import counter from collections.\n",
    "from collections import Counter\n",
    "\n",
    "\n",
    "# import math and random modules\n",
    "import math, random\n",
    "\n",
    "\n",
    "# sklearn is most important module for supervised learning. For knn import neighbors, metrics\n",
    "# the need for sklearn's above modules are detailed in the link provided above. \n",
    "\n",
    "# import neighbors and metrics\n",
    "from sklearn import neighbors, metrics\n",
    "\n",
    "# look into metrics and import confusion matrix function\n",
    "from sklearn.metrics import confusion_matrix\n",
    "\n",
    "# import train and test split function from sklearn\n",
    "from sklearn.cross_validation import train_test_split\n",
    "\n",
    "# import cross validation score from sklearn validation\n",
    "from sklearn.cross_validation import cross_val_score"
   ]
  },
  {
   "cell_type": "markdown",
   "metadata": {},
   "source": [
    "### We know that Sci-kit learn input data is structured in Numpy arrays, organized as\n",
    "\n",
    "### X := n_samples x  n_features"
   ]
  },
  {
   "cell_type": "code",
   "execution_count": 7,
   "metadata": {
    "collapsed": true
   },
   "outputs": [],
   "source": [
    "\"\"\" Assign the data of iris to Xi and target class to yi (beware of case sensitive variables defined here)\n",
    "Similarly, assign Xc and yc to cancer data and target respectively\n",
    "\n",
    "\"\"\"\n",
    "#i suffix for iris dataset\n",
    "Xi = iris.data \n",
    "yi = iris.target \n",
    "\n",
    "# c suffix for cancer dataset\n",
    "Xc = cancer.data\n",
    "yc = cancer.target\n",
    "\n",
    "# w suffix for wine dataset\n",
    "Xw = wine.data\n",
    "yw = wine.target"
   ]
  },
  {
   "cell_type": "markdown",
   "metadata": {},
   "source": [
    "# 3 KNN \n",
    "\n",
    "To implement KNN, following steps are to be followed:\n",
    "1. Pick a value of $k$: the number of neighbors we wish to use for classification.\n",
    "2. Compute some measure between the test sample and each training sample. \n",
    "3. Sort the computed distances in increasing order based on distance values\n",
    "4. for the $k$ closest training samples, return the most frequent class as the predicted class.\n"
   ]
  },
  {
   "cell_type": "markdown",
   "metadata": {},
   "source": [
    "## 3 A. Scikit learn model selection \n",
    "\n",
    "\n",
    "### In section 5.3, page 75, the dataset is randomly split to train and test data. The code uses random function with permutation and a ravel() function. Let us use scikit learn function to perform the similar action.\n",
    "\n",
    "### scikit module, under model_selection function, import the function to split the dataset into test and train. \n",
    "\n",
    "    * Test size (iris): 33% \n",
    "    * Test size (cancer and wine): 1/4th of sample\n",
    "    * random state : 5\n",
    "\n",
    "    Refer link below to learn more:\n",
    "    http://scikit-learn.org/stable/modules/generated/sklearn.model_selection.train_test_split.html\n",
    "\n",
    "    Lets suffix i--> for iris dataset, c--> Cancer and w--> wine datasets  \n",
    "    \n",
    "#### Hopefully the module from train_test_split is imported from cross validation library. If not import below.\n"
   ]
  },
  {
   "cell_type": "code",
   "execution_count": 8,
   "metadata": {
    "collapsed": true
   },
   "outputs": [],
   "source": [
    "# for iris dataset\n",
    "Xitrain, Xitest, yitrain, yitest = train_test_split(Xi, yi, test_size = 0.33, random_state=5)\n",
    "# Xtrain, Xtest, ytrain, ytest = train_test_split(X, y, test_size = 0.2, random_state=4)\n",
    "\n",
    "# for cancer dataset\n",
    "Xctrain, Xctest, yctrain, yctest = train_test_split(Xc, yc, test_size = 0.25, random_state=5)\n",
    "\n",
    "# for wine dataset\n",
    "Xwtrain, Xwtest, ywtrain, ywtest = train_test_split(Xw, yw, test_size = 0.25, random_state=5)"
   ]
  },
  {
   "cell_type": "markdown",
   "metadata": {},
   "source": [
    "** Observe the size of test and train variables **"
   ]
  },
  {
   "cell_type": "code",
   "execution_count": 9,
   "metadata": {},
   "outputs": [
    {
     "name": "stdout",
     "output_type": "stream",
     "text": [
      "For Iris Dataset\n",
      "('data shape (X):', (150, 4), 'and', 'Target shape (y):', (150,))\n",
      "('Training shape:', (100, 4), 'and', 'Training targets shape:', (100,))\n",
      "('Testing shape:', (50, 4), 'and', 'Testing targets shape:', (50,))\n",
      "\n",
      "\n",
      "\n",
      "For Cancer Dataset\n",
      "('data shape (X):', (569, 30), 'and', 'Target shape (y):', (569,))\n",
      "('Training shape:', (426, 30), 'and', 'Training targets shape:', (426,))\n",
      "('Testing shape:', (143, 30), 'and', 'Testing targets shape:', (143,))\n",
      "\n",
      "\n",
      "\n",
      "For wine Dataset\n",
      "('data shape (X):', (178, 13), 'and', 'Target shape (y):', (178,))\n",
      "('Training shape:', (133, 13), 'and', 'Training targets shape:', (133,))\n",
      "('Testing shape:', (45, 13), 'and', 'Testing targets shape:', (45,))\n"
     ]
    }
   ],
   "source": [
    "print(\"For Iris Dataset\")\n",
    "print(\"data shape (X):\", Xi.shape, \"and\",  \"Target shape (y):\", yi.shape)\n",
    "print(\"Training shape:\", Xitrain.shape, \"and\",  \"Training targets shape:\", yitrain.shape)\n",
    "print(\"Testing shape:\", Xitest.shape, \"and\",  \"Testing targets shape:\", yitest.shape)\n",
    "\n",
    "print (\"\\n\\n\")\n",
    "\n",
    "print(\"For Cancer Dataset\")\n",
    "print(\"data shape (X):\", Xc.shape, \"and\",  \"Target shape (y):\", yc.shape)\n",
    "print(\"Training shape:\", Xctrain.shape, \"and\",  \"Training targets shape:\", yctrain.shape)\n",
    "print(\"Testing shape:\", Xctest.shape, \"and\",  \"Testing targets shape:\", yctest.shape)\n",
    "\n",
    "\n",
    "print (\"\\n\\n\")\n",
    "print(\"For wine Dataset\")\n",
    "print(\"data shape (X):\", Xw.shape, \"and\",  \"Target shape (y):\", yw.shape)\n",
    "print(\"Training shape:\", Xwtrain.shape, \"and\",  \"Training targets shape:\", ywtrain.shape)\n",
    "print(\"Testing shape:\", Xwtest.shape, \"and\",  \"Testing targets shape:\", ywtest.shape)"
   ]
  },
  {
   "cell_type": "markdown",
   "metadata": {},
   "source": [
    "## 3B. Training the model\n",
    "\n",
    "### for Knn classification, use 5 neighbors initially "
   ]
  },
  {
   "cell_type": "code",
   "execution_count": 10,
   "metadata": {
    "collapsed": true
   },
   "outputs": [],
   "source": [
    "# \"\"\" let n_neighbors = 5 be used here \"\"\"\n",
    "\n",
    "\"\"\" For iris dataset analysis \"\"\"\n",
    "X_train = Xitrain\n",
    "y_train = yitrain\n",
    "X_test =  Xitest\n",
    "y_test =  yitest\n",
    "target_names = iris.target_names\n",
    "\n",
    "\n",
    "\n",
    "\"\"\" For cancer dataset analysis \"\"\"\n",
    "# X_train = Xctrain\n",
    "# y_train = yctrain\n",
    "# X_test =  Xctest\n",
    "# y_test =  yctest\n",
    "# target_names = cancer.target_names\n",
    "\n",
    "\n",
    "\"\"\" For wine dataset analysis \"\"\"\n",
    "# X_train = Xwtrain\n",
    "# y_train = ywtrain\n",
    "# X_test =  Xwtest\n",
    "# y_test =  ywtest\n",
    "# target_names = wine.target_names\n",
    "\n",
    "\n",
    "knn = neighbors.KNeighborsClassifier(n_neighbors = 5)"
   ]
  },
  {
   "cell_type": "code",
   "execution_count": 11,
   "metadata": {},
   "outputs": [
    {
     "data": {
      "text/plain": [
       "KNeighborsClassifier(algorithm='auto', leaf_size=30, metric='minkowski',\n",
       "           metric_params=None, n_jobs=1, n_neighbors=5, p=2,\n",
       "           weights='uniform')"
      ]
     },
     "execution_count": 11,
     "metadata": {},
     "output_type": "execute_result"
    }
   ],
   "source": [
    "# train the classifier using the training data, use fit()\n",
    "knn.fit(X_train, y_train)"
   ]
  },
  {
   "cell_type": "code",
   "execution_count": 12,
   "metadata": {},
   "outputs": [
    {
     "data": {
      "text/plain": [
       "0.98"
      ]
     },
     "execution_count": 12,
     "metadata": {},
     "output_type": "execute_result"
    }
   ],
   "source": [
    "# compute the prediction of the test set using predict()\n",
    "predict = knn.predict(X_test)\n",
    "\n",
    "from sklearn.metrics import accuracy_score \n",
    "accuracy_score(predict, y_test)"
   ]
  },
  {
   "cell_type": "markdown",
   "metadata": {},
   "source": [
    "### We saw that the accuracy score for iris dataset was above 0.95. For the same neighbor, how is the accuracy score for different datasets.\n",
    "\n",
    "* what was the accuracy score for breast cancer datasets?\n",
    "* What was the accuracy score for wine dataset"
   ]
  },
  {
   "cell_type": "code",
   "execution_count": 13,
   "metadata": {},
   "outputs": [
    {
     "data": {
      "text/plain": [
       "array([1, 2, 2, 0, 2, 1, 0, 2, 0, 1, 1, 2, 2, 2, 0, 0, 2, 2, 0, 0, 1, 2,\n",
       "       0, 1, 1, 2, 1, 1, 1, 2, 0, 1, 1, 0, 1, 0, 0, 2, 0, 2, 2, 1, 0, 0,\n",
       "       1, 2, 1, 2, 2, 0])"
      ]
     },
     "execution_count": 13,
     "metadata": {},
     "output_type": "execute_result"
    }
   ],
   "source": [
    "# check this out!\n",
    "predict"
   ]
  },
  {
   "cell_type": "markdown",
   "metadata": {},
   "source": [
    "## 3C. Performance Measures\n",
    "\n",
    "In the class, you had looked into performance measures for the model classification. TP, FP, TN, FN and other metrics of interest. let us again use the code from class for confusion matrix calculation."
   ]
  },
  {
   "cell_type": "code",
   "execution_count": 14,
   "metadata": {},
   "outputs": [
    {
     "name": "stdout",
     "output_type": "stream",
     "text": [
      "[[16.  0.  0.]\n",
      " [ 0. 16.  0.]\n",
      " [ 0.  1. 17.]]\n"
     ]
    }
   ],
   "source": [
    "# confusion matrix code from class week 05\n",
    "C = np.empty([3,3])\n",
    "for i in range(3):\n",
    "    for j in range(3):\n",
    "        C[i,j] = np.sum(np.logical_and(predict==i, y_test==j))\n",
    "print(C)"
   ]
  },
  {
   "cell_type": "markdown",
   "metadata": {},
   "source": [
    "### Now that we know how the confusion matrix in form of code. We could see, if there are any in-built functions to do the same ?\n",
    "\n",
    "### Import confusion matrix from sklearn metrics and solve the same problem set. Do you observe any difference ? "
   ]
  },
  {
   "cell_type": "code",
   "execution_count": 15,
   "metadata": {
    "collapsed": true
   },
   "outputs": [],
   "source": [
    "# Import confusion matrix from sklearn metrics\n",
    "\n",
    "from sklearn.metrics import confusion_matrix"
   ]
  },
  {
   "cell_type": "code",
   "execution_count": 16,
   "metadata": {},
   "outputs": [
    {
     "data": {
      "text/plain": [
       "array([[16,  0,  0],\n",
       "       [ 0, 16,  0],\n",
       "       [ 0,  1, 17]])"
      ]
     },
     "execution_count": 16,
     "metadata": {},
     "output_type": "execute_result"
    }
   ],
   "source": [
    "confusion_matrix(predict, y_test) \n",
    "\n",
    "# Note that both the confusion matrix solutions match. "
   ]
  },
  {
   "cell_type": "markdown",
   "metadata": {},
   "source": [
    "## 4. Performance Metrics\n",
    "\n",
    "### From page no 73, the performance metrics are defined. Create a functions for accuracy, sensitivity or recall, specificity, precision and negative predictive values. \n",
    "\n",
    "Refer to either class notes or textbook for these definitions. "
   ]
  },
  {
   "cell_type": "code",
   "execution_count": 17,
   "metadata": {
    "collapsed": true
   },
   "outputs": [],
   "source": [
    "def accuracy(tp, fp, fn, tn):\n",
    "    \"\"\"(TP+TN)/(TP+TN+FP+FN)\"\"\"\n",
    "    return ((tp+tn)/(tp+fp+fn+tn))\n",
    "\n",
    "\n",
    "def recall(tp, fp, fn, tn):\n",
    "    \"\"\"TP/Real Positives\"\"\"\n",
    "    return tp/(tp+fn)\n",
    "\n",
    "def specificity (tp, fp, fn, tn):\n",
    "    \"\"\"TN/Real Negatives\"\"\"\n",
    "    return tn/(tn+fp)\n",
    "\n",
    "\n",
    "def precision(tp, fp, fn, tn):\n",
    "    \"\"\"TP/(TP+FP)\"\"\"\n",
    "    return tp/(tp+fp)\n",
    "\n",
    "\n",
    "def NegativePredictiveValue(tp, fp, fn, tn):\n",
    "    \"\"\"Tn/Predicted Negatives\"\"\"\n",
    "    return tn/(tn+fn)\n",
    "    \n",
    "def f1_score(tp, fp, fn, tn):\n",
    "    \"\"\"Harmonic average of precision and recall\"\"\"\n",
    "    p=precision(tp,fp,fn,tn)\n",
    "    r=recall(tp,fp,fn,tn)\n",
    "    return 2*p*r/(p+r)    "
   ]
  },
  {
   "cell_type": "markdown",
   "metadata": {},
   "source": [
    "## 4.A. Test the function above for the binary case as detailed in Page [74] What values does the function return for accuracy, recall, specificity, precision, NegativePredictiveValue and F1 score."
   ]
  },
  {
   "cell_type": "code",
   "execution_count": 18,
   "metadata": {},
   "outputs": [
    {
     "name": "stdout",
     "output_type": "stream",
     "text": [
      "('Accuracy: ', 0.8316425120772947)\n",
      "('recall: ', 0.9979271542789458)\n",
      "('specificity: ', 0.09567496723460026)\n",
      "('precision: ', 0.8300492610837439)\n",
      "('NegativePredictiveValue: ', 0.9125)\n",
      "('f1_score:', 0.9062794137421004)\n",
      "(3370.0, 73.0, 7.0, 690.0)\n"
     ]
    }
   ],
   "source": [
    "tp=3370.\n",
    "tn=73.\n",
    "fn=7.\n",
    "fp=690.\n",
    "\n",
    "print(\"Accuracy: \", accuracy(tp,fn,fp,tn))\n",
    "print(\"recall: \", recall(tp,fp,fn,tn))\n",
    "print(\"specificity: \", specificity(tp,fp,fn,tn))\n",
    "print(\"precision: \", precision(tp,fp,fn,tn))\n",
    "print(\"NegativePredictiveValue: \", NegativePredictiveValue(tp,fp,fn,tn))\n",
    "print(\"f1_score:\", f1_score(tp,fp,fn,tn))\n",
    "print (tp, tn, fn, fp)"
   ]
  },
  {
   "cell_type": "markdown",
   "metadata": {},
   "source": [
    "## 4.B. Work on the following and using the function developed earlier, compute the performance metrices. \n",
    "We have 100 objects: 90 of the positive class, and 10 of the negative class.\n",
    "* The supervised learning algorithm correctly classified 45 of the positive class, and 5 of the negative class.\n",
    "* The supervised learning algorithm correctly classified 10 of the positive class, and 9 of the negative class.\n",
    "\n",
    "We have 100 objects: 50 of the positive class, and 50 of the negative class.\n",
    "* The supervised learning algorithm correctly classified 40 of the positive class, and 10 of the negative class.\n",
    "* The supervised learning algorithm correctly classified 40 of the positive class, and 40 of the negative class.\n",
    "\n",
    "\n",
    "What is the computed accuracy, precision, recall and f1 score for the above problem?\n",
    "(Question adapted from UN5550-assignment 2017)"
   ]
  },
  {
   "cell_type": "code",
   "execution_count": 19,
   "metadata": {},
   "outputs": [
    {
     "name": "stdout",
     "output_type": "stream",
     "text": [
      "\n",
      " Output A \n",
      "\n",
      "0.5\n",
      "0.9\n",
      "0.5\n",
      "0.642857142857\n",
      "\n",
      " Output B \n",
      "\n",
      "0.19\n",
      "0.909090909091\n",
      "0.111111111111\n",
      "0.19801980198\n",
      "\n",
      " Output C \n",
      "\n",
      "0.5\n",
      "0.5\n",
      "0.8\n",
      "0.615384615385\n",
      "\n",
      " Output D \n",
      "\n",
      "0.8\n",
      "0.8\n",
      "0.8\n",
      "0.8\n"
     ]
    }
   ],
   "source": [
    "# We know that we have 100 objects: 90 of the positive class, and 10 of the negative class.\n",
    "#a) Correctly classified 45 of the positive class, and 5 of the negative class.\n",
    "tp=45.\n",
    "tn=5.\n",
    "fn=45.\n",
    "fp=5.\n",
    "print(\"\\n Output A \\n\")\n",
    "print(accuracy(tp,fn,fp,tn))\n",
    "print(precision(tp,fp,fn,tn))\n",
    "print(recall(tp,fp,fn,tn))\n",
    "print(f1_score(tp,fp,fn,tn))\n",
    "\n",
    "\n",
    "# Correctly classified 10 of the positive class, and 9 of the negative class.\n",
    "tp=10.\n",
    "tn=9.\n",
    "fn=80.\n",
    "fp=1.\n",
    "print(\"\\n Output B \\n\")\n",
    "print(accuracy(tp,fn,fp,tn))\n",
    "print(precision(tp,fp,fn,tn))\n",
    "print(recall(tp,fp,fn,tn))\n",
    "print(f1_score(tp,fp,fn,tn))\n",
    "\n",
    "\n",
    "# We know that we have 100 objects: 50 of the positive class, and 50 of the negative class.\n",
    "# correctly classified 40 of the positive class, and 10 of the negative class.\n",
    "tp=40.\n",
    "tn=10.\n",
    "fn=10.\n",
    "fp=40.\n",
    "print(\"\\n Output C \\n\")\n",
    "print(accuracy(tp,fn,fp,tn))\n",
    "print(precision(tp,fp,fn,tn))\n",
    "print(recall(tp,fp,fn,tn))\n",
    "print(f1_score(tp,fp,fn,tn))\n",
    "\n",
    "# Correctly classifies 40 of the positive class, and 40 of the negative class.\n",
    "#  correctly classified 40 of the positive class, and 40 of the negative class\n",
    "tp=40.\n",
    "tn=40.\n",
    "fn=10.\n",
    "fp=10.\n",
    "print(\"\\n Output D \\n\")\n",
    "print(accuracy(tp,fn,fp,tn))\n",
    "print(precision(tp,fp,fn,tn))\n",
    "print(recall(tp,fp,fn,tn))\n",
    "print(f1_score(tp,fp,fn,tn))\n",
    "\n"
   ]
  },
  {
   "cell_type": "markdown",
   "metadata": {},
   "source": [
    "## 4C. Now that we have looked into performance metric, we can use the inbuilt function to measure the score or values"
   ]
  },
  {
   "cell_type": "code",
   "execution_count": 20,
   "metadata": {},
   "outputs": [
    {
     "name": "stdout",
     "output_type": "stream",
     "text": [
      "             precision    recall  f1-score   support\n",
      "\n",
      "     setosa       1.00      1.00      1.00        16\n",
      " versicolor       1.00      0.94      0.97        17\n",
      "  virginica       0.94      1.00      0.97        17\n",
      "\n",
      "avg / total       0.98      0.98      0.98        50\n",
      "\n",
      "('F1 score: ', array([1.        , 0.96969697, 0.97142857]))\n"
     ]
    }
   ],
   "source": [
    "\"\"\" Lets try to use classification report from metrics module. ALso individual performance metrics we coded are \n",
    "also available as functions in sklearn metrics\n",
    "\n",
    "\"\"\"\n",
    "\n",
    "\n",
    "# import classification report and F1 score\n",
    "from sklearn.metrics import classification_report, f1_score\n",
    "\n",
    "print(classification_report(y_test, predict, target_names= target_names))\n",
    "print (\"F1 score: \", f1_score(predict, y_test, average=None))"
   ]
  },
  {
   "cell_type": "markdown",
   "metadata": {},
   "source": [
    "## 4D. Cross Validation"
   ]
  },
  {
   "cell_type": "markdown",
   "metadata": {},
   "source": [
    "### Import cross_val_score from model selection library of sklearn. Learn more from the link given below:\n",
    "\n",
    "http://scikit-learn.org/stable/modules/generated/sklearn.model_selection.cross_val_score.html#examples-using-sklearn-model-selection-cross-val-score\n",
    "\n",
    "### Also in the below code, using for-loop check what is the impact of changing the no of neighbors in Knn for two different weights in the KNN. Measure the performance using cross_val_score for test samples and scoring for accuracy. \n",
    "\n",
    "#### Note: The no. of neightbors should be less than the test samples. Take either 20 or 25 or 30 \n",
    "\n",
    "Hint: Take two for-loops, first loop should take care of weights and second loop needs to take care of the no of neighbors. "
   ]
  },
  {
   "cell_type": "code",
   "execution_count": 21,
   "metadata": {},
   "outputs": [
    {
     "data": {
      "text/plain": [
       "<Figure size 432x288 with 0 Axes>"
      ]
     },
     "metadata": {},
     "output_type": "display_data"
    },
    {
     "data": {
      "image/png": "[encoded data removed]",
      "text/plain": [
       "<Figure size 720x360 with 1 Axes>"
      ]
     },
     "metadata": {},
     "output_type": "display_data"
    },
    {
     "data": {
      "text/plain": [
       "<Figure size 432x288 with 0 Axes>"
      ]
     },
     "metadata": {},
     "output_type": "display_data"
    },
    {
     "data": {
      "image/png": "[encoded data removed]",
      "text/plain": [
       "<Figure size 720x360 with 1 Axes>"
      ]
     },
     "metadata": {},
     "output_type": "display_data"
    }
   ],
   "source": [
    "# import the required library\n",
    "from sklearn.model_selection import cross_val_score\n",
    "\n",
    "\n",
    "# Create for loop for weights first\n",
    "for weights in ['uniform', 'distance']:\n",
    "    k_range = range(1,35)\n",
    "    k_score=[]\n",
    "    # create for loop for neighbors\n",
    "    for k in k_range:\n",
    "        # knn code here\n",
    "        knn = neighbors.KNeighborsClassifier(n_neighbors = k, weights = weights)\n",
    "        \n",
    "        # computing the score.\n",
    "        scores = cross_val_score(knn, X_test, y_test, cv = 5, scoring ='accuracy')\n",
    "        \n",
    "        # append the score to variable\n",
    "        k_score.append(scores.mean())\n",
    "\n",
    "        \n",
    "    # plot inside first loop to plot for each weights    \n",
    "    plt.figure()\n",
    "    fig = plt.figure(figsize=(10, 5))\n",
    "    \n",
    "    # Use line plot and observe\n",
    "    plt.plot(k_range, k_score)\n",
    "    plt.xlabel(' Value of K for knn')\n",
    "    plt.ylabel('Cross-Validated Accuracy')\n",
    "    plt.suptitle('%s' %(weights))"
   ]
  },
  {
   "cell_type": "markdown",
   "metadata": {},
   "source": [
    "### For the current dataset, which weight seems to more feasible??"
   ]
  },
  {
   "cell_type": "code",
   "execution_count": null,
   "metadata": {
    "collapsed": true
   },
   "outputs": [],
   "source": []
  },
  {
   "cell_type": "markdown",
   "metadata": {},
   "source": [
    "## 5. SVM\n",
    "\n",
    "## 5A. From Section 5.7.2, SVM learning technique is illustrated. Now use the sklearn function to analyze the dataset using SVM.\n",
    "\n",
    "http://scikit-learn.org/stable/modules/generated/sklearn.svm.SVC.html\n",
    "\n"
   ]
  },
  {
   "cell_type": "code",
   "execution_count": 22,
   "metadata": {
    "collapsed": true
   },
   "outputs": [],
   "source": [
    "\"\"\" For wine dataset analysis \"\"\"\n",
    "X_train = Xwtrain\n",
    "y_train = ywtrain\n",
    "X_test =  Xwtest\n",
    "y_test =  ywtest\n",
    "target_names = wine.target_names"
   ]
  },
  {
   "cell_type": "code",
   "execution_count": 23,
   "metadata": {
    "collapsed": true
   },
   "outputs": [],
   "source": [
    "# Lets use Kernel SVM model to classify.\n",
    "# Fitting to the Training set\n",
    "from sklearn.svm import SVC\n",
    "svm = SVC(kernel = 'rbf', random_state = 0)\n",
    "svm.fit(X_train, y_train)\n",
    "#Predicting the Test Set\n",
    "y_pred = svm.predict(X_test)\n",
    "\n",
    "cm = confusion_matrix(y_test, y_pred)\n",
    "\n",
    "# You will learn more about the scikit plot in the below sections especially for confusion matrix to plot\n"
   ]
  },
  {
   "cell_type": "markdown",
   "metadata": {},
   "source": [
    "## 5B. Explain, why is KNN called the lazy learning Algorithm"
   ]
  },
  {
   "cell_type": "markdown",
   "metadata": {},
   "source": [
    "### SOL: from Python Machine Learning textbook\n",
    "\n",
    "** The KNN has got a reputation of being lazy because of the fact that, it doesnot learn a discriminative function from the training data instead memorizes the training dataset. Please be aware that, it has nothing to do with the simplicity of the coding. ** \n",
    "\n",
    "\n",
    "\n",
    "\n"
   ]
  },
  {
   "cell_type": "markdown",
   "metadata": {},
   "source": [
    "## 5C. What do you think are the main challenges of Machine learning"
   ]
  },
  {
   "cell_type": "markdown",
   "metadata": {},
   "source": [
    "### SOL:\n",
    "Two major things that machine learning suffers is bad algorithm and bad data\n",
    "\n",
    "In other words, the below factors does impact\n",
    "* Insufficient quantity of training data\n",
    "* Non representative Tranining data\n",
    "* Poor Quality data\n",
    "* irrelevant features\n",
    "* Overfitting \n",
    "* Underfitting\n",
    "* Stepping back\n",
    "\n",
    "Ref: Hands on Machine learning with Scikit Learn and TensorFlow"
   ]
  },
  {
   "cell_type": "markdown",
   "metadata": {},
   "source": [
    "# 6. Scikit-plot  \n",
    "\n",
    "Go to link below. Make note of useful functions that could be applied for the current problem and for project.\n",
    "\n",
    "## https://scikit-plot.readthedocs.io/en/stable/Quickstart.html\n",
    "\n",
    "scikit-plot uses both scikit learn and matplot lib to generate the plots useful for ML problems. One such plot is to plot confusion matrix. \n",
    "\n",
    "Dont forget to install scikit plot, use **pip install scikit-plot**\n",
    "\n",
    "Use functions from scikit plot for plotting confusion matrix and learning curve"
   ]
  },
  {
   "cell_type": "code",
   "execution_count": 29,
   "metadata": {},
   "outputs": [
    {
     "name": "stdout",
     "output_type": "stream",
     "text": [
      "Collecting scikit-plot\n",
      "Requirement already satisfied (use --upgrade to upgrade): scikit-learn>=0.18 in /home/campus11/nkattapr/.local/lib/python2.7/site-packages (from scikit-plot)\n",
      "Requirement already satisfied (use --upgrade to upgrade): matplotlib>=1.4.0 in /home/campus11/nkattapr/.local/lib/python2.7/site-packages (from scikit-plot)\n",
      "Collecting joblib>=0.10 (from scikit-plot)\n",
      "  Using cached https://files.pythonhosted.org/packages/69/91/d217cec1fe6eac525ca964cd67e4f79b1d4ce68b64cb82d0b9ae1af2311e/joblib-0.12.5-py2.py3-none-any.whl\n",
      "Requirement already satisfied (use --upgrade to upgrade): scipy>=0.9 in /home/campus11/nkattapr/.local/lib/python2.7/site-packages (from scikit-plot)\n",
      "Requirement already satisfied (use --upgrade to upgrade): python-dateutil>=2.1 in /home/campus11/nkattapr/.local/lib/python2.7/site-packages (from matplotlib>=1.4.0->scikit-plot)\n",
      "Requirement already satisfied (use --upgrade to upgrade): subprocess32 in /home/campus11/nkattapr/.local/lib/python2.7/site-packages (from matplotlib>=1.4.0->scikit-plot)\n",
      "Requirement already satisfied (use --upgrade to upgrade): cycler>=0.10 in /home/campus11/nkattapr/.local/lib/python2.7/site-packages (from matplotlib>=1.4.0->scikit-plot)\n",
      "Requirement already satisfied (use --upgrade to upgrade): six>=1.10 in /home/campus11/nkattapr/.local/lib/python2.7/site-packages (from matplotlib>=1.4.0->scikit-plot)\n",
      "Requirement already satisfied (use --upgrade to upgrade): backports.functools-lru-cache in /home/campus11/nkattapr/.local/lib/python2.7/site-packages (from matplotlib>=1.4.0->scikit-plot)\n",
      "Requirement already satisfied (use --upgrade to upgrade): pytz in /home/campus11/nkattapr/.local/lib/python2.7/site-packages (from matplotlib>=1.4.0->scikit-plot)\n",
      "Requirement already satisfied (use --upgrade to upgrade): pyparsing!=2.0.4,!=2.1.2,!=2.1.6,>=2.0.1 in /home/campus11/nkattapr/.local/lib/python2.7/site-packages (from matplotlib>=1.4.0->scikit-plot)\n",
      "Requirement already satisfied (use --upgrade to upgrade): numpy>=1.7.1 in /home/campus11/nkattapr/.local/lib/python2.7/site-packages (from matplotlib>=1.4.0->scikit-plot)\n",
      "Requirement already satisfied (use --upgrade to upgrade): kiwisolver>=1.0.1 in /home/campus11/nkattapr/.local/lib/python2.7/site-packages (from matplotlib>=1.4.0->scikit-plot)\n",
      "Requirement already satisfied (use --upgrade to upgrade): setuptools in /home/campus11/nkattapr/.local/lib/python2.7/site-packages (from kiwisolver>=1.0.1->matplotlib>=1.4.0->scikit-plot)\n",
      "Installing collected packages: joblib, scikit-plot\n",
      "Successfully installed joblib-0.12.5 scikit-plot-0.3.7\n",
      "\u001b[33mYou are using pip version 8.1.2, however version 18.0 is available.\n",
      "You should consider upgrading via the 'pip install --upgrade pip' command.\u001b[0m\n"
     ]
    }
   ],
   "source": [
    "! pip install --user scikit-plot"
   ]
  },
  {
   "cell_type": "markdown",
   "metadata": {},
   "source": [
    "## 6A. Learning curves provided by scikit plot for any classifier."
   ]
  },
  {
   "cell_type": "code",
   "execution_count": 30,
   "metadata": {},
   "outputs": [
    {
     "data": {
      "text/plain": [
       "<matplotlib.axes._subplots.AxesSubplot at 0x2ae4fac28c90>"
      ]
     },
     "execution_count": 30,
     "metadata": {},
     "output_type": "execute_result"
    },
    {
     "data": {
      "image/png": "[encoded data removed]",
      "text/plain": [
       "<Figure size 432x288 with 1 Axes>"
      ]
     },
     "metadata": {},
     "output_type": "display_data"
    }
   ],
   "source": [
    "\"\"\" For wine dataset analysis \"\"\"\n",
    "X_train = Xwtrain\n",
    "y_train = ywtrain\n",
    "X_test =  Xwtest\n",
    "y_test =  ywtest\n",
    "target_names = wine.target_names\n",
    "\n",
    "# define the classifier method here\n",
    "knn = neighbors.KNeighborsClassifier(n_neighbors = 5)\n",
    "\n",
    "\n",
    "# Import the scikit plot and use plot_learning_curve to visualize the learning curves of KNN and SVM\n",
    "import scikitplot as skplt\n",
    "skplt.estimators.plot_learning_curve(knn, X_train, y_train)\n"
   ]
  },
  {
   "cell_type": "markdown",
   "metadata": {},
   "source": [
    "## 6B. Lets try to visualize the confusion matrix using functions from scikitplot. From the link provided visualize the confusion matrix."
   ]
  },
  {
   "cell_type": "code",
   "execution_count": 31,
   "metadata": {},
   "outputs": [
    {
     "name": "stdout",
     "output_type": "stream",
     "text": [
      "[[16  0  0]\n",
      " [ 0 16  0]\n",
      " [ 0  1 17]]\n"
     ]
    },
    {
     "data": {
      "image/png": "[encoded data removed]",
      "text/plain": [
       "<Figure size 432x288 with 2 Axes>"
      ]
     },
     "metadata": {},
     "output_type": "display_data"
    }
   ],
   "source": [
    "\"\"\" For iris dataset analysis \"\"\"\n",
    "X_train = Xitrain\n",
    "y_train = yitrain\n",
    "X_test =  Xitest\n",
    "y_test =  yitest\n",
    "target_names = iris.target_names\n",
    "\n",
    "\n",
    "knn = neighbors.KNeighborsClassifier(n_neighbors = 5)\n",
    "\n",
    "# train the classifier using the training data, use fit()\n",
    "knn.fit(X_train, y_train)\n",
    "# compute the prediction of the test set using predict()\n",
    "predict = knn.predict(X_test)\n",
    "\n",
    "# from sklearn.metrics import accuracy_score \n",
    "# accuracy_score(predict, y_test)\n",
    "\n",
    "# either use confucion matrix to infer \n",
    "print(confusion_matrix(predict, y_test))\n",
    "\n",
    "\n",
    "\n",
    "\n",
    "# import scikit plot without fail to use this function\n",
    "import scikitplot as skplt\n",
    "# or directly use the plot_confusion matrix to plot\n",
    "plot = skplt.metrics.plot_confusion_matrix(y_test, predict, normalize=False)\n",
    "\n",
    "# Observe if the both computed confusion matrix matches with the visualized confusion matrix"
   ]
  },
  {
   "cell_type": "markdown",
   "metadata": {},
   "source": [
    "### Read through the below link and apply the estimator module of plot_feature_importance to the problem defined in class. (iris dataset and for Knn)\n",
    "https://scikit-plot.readthedocs.io/en/stable/estimators.html\n",
    "\n",
    "    scikitplot.estimators.plot_feature_importances(clf, title='Feature Importance', feature_names=None, max_num_features=20, order='descending', x_tick_rotation=0, ax=None, figsize=None, title_fontsize='large', text_fontsize='medium')\n",
    "    \n",
    "### What does this estimator convey ?"
   ]
  },
  {
   "cell_type": "code",
   "execution_count": null,
   "metadata": {
    "collapsed": true
   },
   "outputs": [],
   "source": []
  },
  {
   "cell_type": "markdown",
   "metadata": {},
   "source": [
    "# Project 4: \n",
    "\n",
    "        There would be a need to install and work with the MNIST data and associated python package. Go through the requiremnents of the Project 4. \n",
    "\n",
    "    * In this session we would play around with data\n",
    "    * First download the files from the link provided\n",
    "    * Follow instruction to unzip four files\n",
    "    * To use mnist package, we need to install one. Details are available in link : \n",
    "https://pypi.org/project/python-mnist/\n",
    "\n",
    "Dataset link: http://yann.lecun.com/exdb/mnist/\n",
    "\n",
    "Project 4:  UN5550-Fall2018/projects/Project04.ipynb \n",
    "\n",
    "\n",
    "    \n",
    "    \n",
    "        "
   ]
  },
  {
   "cell_type": "markdown",
   "metadata": {},
   "source": [
    "# successfully installed mnist module "
   ]
  },
  {
   "cell_type": "code",
   "execution_count": null,
   "metadata": {
    "collapsed": true
   },
   "outputs": [],
   "source": [
    "# ! pip install --user python-mnist"
   ]
  },
  {
   "cell_type": "markdown",
   "metadata": {},
   "source": [
    "# MNIST_Dataset_Loader doesnt work, instead \"from mnist import MNIST\" works. As given in sample code.\n",
    "\n",
    "from mnist import MNIST"
   ]
  },
  {
   "cell_type": "code",
   "execution_count": 32,
   "metadata": {
    "collapsed": true
   },
   "outputs": [],
   "source": [
    "from mnist import MNIST"
   ]
  },
  {
   "cell_type": "markdown",
   "metadata": {},
   "source": [
    "This one is fine!"
   ]
  },
  {
   "cell_type": "code",
   "execution_count": 33,
   "metadata": {
    "collapsed": true
   },
   "outputs": [],
   "source": [
    "import numpy as np\n",
    "from mnist import MNIST\n",
    "import matplotlib.pyplot as plt\n",
    "from sklearn import neighbors, metrics\n",
    "from sklearn.metrics import confusion_matrix\n",
    "from sklearn.decomposition import PCA\n",
    "from sklearn.cross_validation import train_test_split\n",
    "from sklearn.cross_validation import cross_val_score"
   ]
  },
  {
   "cell_type": "markdown",
   "metadata": {},
   "source": [
    "The datasets available in the link are to be uploaded to the jupyter notebook. Similar to csv or excel dataset, the required files in .gz file needs to be uploaded. \n",
    "\n",
    "* Using the terminal console unzip *.gz file (best if performed in terminal than in jupyter notebook)\n",
    "\n",
    "* Upon successful unzipping of compressed data, four files would be present without the extension *.gz.\n",
    "\n",
    "Follow the instruction detailed in the Project description."
   ]
  },
  {
   "cell_type": "code",
   "execution_count": 34,
   "metadata": {
    "collapsed": true
   },
   "outputs": [],
   "source": [
    "# following the instruction from project, import MNIST\n",
    "from mnist import MNIST\n",
    "\n",
    "# This loads the dataset from system\n",
    "data = MNIST()\n",
    "\n",
    "train_images, train_labels = data.load_training()\n",
    "test_images, test_labels =  data.load_testing()"
   ]
  }
 ],
 "metadata": {
  "kernelspec": {
   "display_name": "Python 2",
   "language": "python",
   "name": "python2"
  },
  "language_info": {
   "codemirror_mode": {
    "name": "ipython",
    "version": 2
   },
   "file_extension": ".py",
   "mimetype": "text/x-python",
   "name": "python",
   "nbconvert_exporter": "python",
   "pygments_lexer": "ipython2",
   "version": "2.7.5"
  }
 },
 "nbformat": 4,
 "nbformat_minor": 2
}
