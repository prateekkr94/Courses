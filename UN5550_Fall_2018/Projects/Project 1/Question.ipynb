{
 "cells": [
  {
   "cell_type": "markdown",
   "metadata": {},
   "source": [
    "This project is intended to give you experience working with pandas.  \n",
    "1. read in data/iris.csv, which contains data from the iris data set, https://en.wikipedia.org/wiki/Iris_flower_data_set\n",
    "    1. How many columns are there?  what data types are the columns?  What are the column names and what do they correspond to?\n",
    "    2. How many observations (rows) are there?\n",
    "    3. How many species are included in this data set\n",
    "2. This data set in our repository was the original data set uploaded to the UC Irvine machine learning repository.  It is known that there are errors in this data.  \n",
    "    * the 35th row should read [4.9,3.1,1.5,0.2,\"setosa\"]\n",
    "    * the 38th row should read [4.9,3.6,1.4,0.1,\"setosa\"]\n",
    "Correct these entries in your DataFrame object.\n",
    "3. Add two new columns to your DataFrame:\n",
    "    * \"Petal ratio\" : the ratio of the petal length to petal width\n",
    "    * \"Sepal ratio\" : the ratio of the sepal length to sepal width\"\n",
    "4. For each species, determine the mean, median, minimum, maximum and standard deviation of the petal and sepal ratio.  You may wish to group data according to species (see section 2.6.7) and use a descriptive summary statistic (see page 15)"
   ]
  },
  {
   "cell_type": "code",
   "execution_count": null,
   "metadata": {},
   "outputs": [],
   "source": []
  }
 ],
 "metadata": {
  "kernelspec": {
   "display_name": "Python 2",
   "language": "python",
   "name": "python2"
  },
  "language_info": {
   "codemirror_mode": {
    "name": "ipython",
    "version": 2
   },
   "file_extension": ".py",
   "mimetype": "text/x-python",
   "name": "python",
   "nbconvert_exporter": "python",
   "pygments_lexer": "ipython2",
   "version": "2.7.15"
  }
 },
 "nbformat": 4,
 "nbformat_minor": 2
}
