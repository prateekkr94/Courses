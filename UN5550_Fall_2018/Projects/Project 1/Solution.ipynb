{
 "cells": [
  {
   "cell_type": "markdown",
   "metadata": {},
   "source": [
    "Project 1\n",
    "Submitted by: Prateek Kumar\n",
    "Python: 3.7.0"
   ]
  },
  {
   "cell_type": "code",
   "execution_count": 1,
   "metadata": {},
   "outputs": [],
   "source": [
    "import pandas as pd #importing pandas library"
   ]
  },
  {
   "cell_type": "code",
   "execution_count": 2,
   "metadata": {},
   "outputs": [
    {
     "name": "stdout",
     "output_type": "stream",
     "text": [
      "Successfully read iris dataset.\n"
     ]
    }
   ],
   "source": [
    "path = \"https://raw.githubusercontent.com/ongbw/UN5550-Fall2018/master/projects/data/iris.csv\" #url of raw version of iris dataset from data/iris.csv\n",
    "dataset = pd.read_csv(path) #Reading the iris dataset from the url\n",
    "print(\"Successfully read iris dataset.\")"
   ]
  },
  {
   "cell_type": "code",
   "execution_count": 3,
   "metadata": {},
   "outputs": [
    {
     "name": "stdout",
     "output_type": "stream",
     "text": [
      "Number of columns: 5\n"
     ]
    }
   ],
   "source": [
    "print(\"Number of columns:\",len(dataset.columns)) #printing the number of columns in the dataset"
   ]
  },
  {
   "cell_type": "code",
   "execution_count": 4,
   "metadata": {},
   "outputs": [
    {
     "name": "stdout",
     "output_type": "stream",
     "text": [
      "The data types of the columns are:\n",
      "Sepal.Length    float64\n",
      "Sepal.Width     float64\n",
      "Petal.Length    float64\n",
      "Petal.Width     float64\n",
      "Species          object\n",
      "dtype: object\n"
     ]
    }
   ],
   "source": [
    "print(\"The data types of the columns are:\")\n",
    "print(dataset.dtypes) #printing the datatypes of the columns"
   ]
  },
  {
   "cell_type": "code",
   "execution_count": 5,
   "metadata": {},
   "outputs": [
    {
     "name": "stdout",
     "output_type": "stream",
     "text": [
      "The column names are:\n",
      "Sepal.Length\n",
      "Sepal.Width\n",
      "Petal.Length\n",
      "Petal.Width\n",
      "Species\n"
     ]
    }
   ],
   "source": [
    "print(\"The column names are:\")\n",
    "for c_name in dataset.columns:\n",
    "    print(c_name) #printing the column names"
   ]
  },
  {
   "cell_type": "code",
   "execution_count": 6,
   "metadata": {},
   "outputs": [
    {
     "name": "stdout",
     "output_type": "stream",
     "text": [
      "Column Description:\n",
      "Sepal.Length    The length of sepal in cm\n",
      "Sepal.Width     The width of sepal in cm\n",
      "Petal.Length    The length of petal in cm\n",
      "Petal.Width     The width of petal in cm\n",
      "Species         The species if Iris flower in this dataset\n"
     ]
    }
   ],
   "source": [
    "print(\"Column Description:\") #short description of all the 5 columns in the dataset\n",
    "print(\"Sepal.Length    The length of sepal in cm\")\n",
    "print(\"Sepal.Width     The width of sepal in cm\")\n",
    "print(\"Petal.Length    The length of petal in cm\")\n",
    "print(\"Petal.Width     The width of petal in cm\")\n",
    "print(\"Species         The species if Iris flower in this dataset\")"
   ]
  },
  {
   "cell_type": "code",
   "execution_count": 7,
   "metadata": {},
   "outputs": [
    {
     "name": "stdout",
     "output_type": "stream",
     "text": [
      "The number of observations are:\n",
      "Sepal.Length    150\n",
      "Sepal.Width     150\n",
      "Petal.Length    150\n",
      "Petal.Width     150\n",
      "Species         150\n",
      "dtype: int64\n"
     ]
    }
   ],
   "source": [
    "print(\"The number of observations are:\")\n",
    "print(dataset.count()) #printing the number of rows of each column"
   ]
  },
  {
   "cell_type": "code",
   "execution_count": 8,
   "metadata": {},
   "outputs": [
    {
     "name": "stdout",
     "output_type": "stream",
     "text": [
      "The number of species in the data set are: 3\n",
      "The species are: {'virginica', 'setosa', 'versicolor'}\n"
     ]
    }
   ],
   "source": [
    "print(\"The number of species in the data set are:\", len(set(dataset['Species']))) #printing the different species in the dataset\n",
    "print(\"The species are:\", set(dataset['Species']))"
   ]
  },
  {
   "cell_type": "code",
   "execution_count": 9,
   "metadata": {},
   "outputs": [
    {
     "name": "stdout",
     "output_type": "stream",
     "text": [
      "The errors are corrected now\n",
      "***** 35th row before *****\n",
      "Sepal.Length       4.9\n",
      "Sepal.Width        3.1\n",
      "Petal.Length       1.5\n",
      "Petal.Width        0.1\n",
      "Species         setosa\n",
      "Name: 34, dtype: object\n",
      "\n",
      "\n",
      "***** 35th row after *****\n",
      "Sepal.Length       4.9\n",
      "Sepal.Width        3.1\n",
      "Petal.Length       1.5\n",
      "Petal.Width        0.2\n",
      "Species         setosa\n",
      "Name: 34, dtype: object\n",
      "\n",
      "\n",
      "***** 38th row before *****\n",
      "Sepal.Length       4.9\n",
      "Sepal.Width        3.1\n",
      "Petal.Length       1.5\n",
      "Petal.Width        0.1\n",
      "Species         setosa\n",
      "Name: 37, dtype: object\n",
      "\n",
      "\n",
      "***** 38th row after *****\n",
      "Sepal.Length       4.9\n",
      "Sepal.Width        3.6\n",
      "Petal.Length       1.4\n",
      "Petal.Width        0.1\n",
      "Species         setosa\n",
      "Name: 37, dtype: object\n"
     ]
    }
   ],
   "source": [
    "print(\"The errors are corrected now\")\n",
    "new_35 = [4.9,3.1,1.5,0.2,\"setosa\"] #storing the corrected values in the list\n",
    "new_38 = [4.9,3.6,1.4,0.1,\"setosa\"]\n",
    "print(\"***** 35th row before *****\")\n",
    "print(dataset.loc[34,:]) #35th row before correction\n",
    "for i in range(0,len(dataset.loc[34,:])):\n",
    "    dataset.iloc[34, i] = new_35[i] #Replacing old values with the new ones\n",
    "print(\"\\n\")\n",
    "print(\"***** 35th row after *****\")\n",
    "print(dataset.loc[34,:]) #35th row after correction\n",
    "print(\"\\n\")\n",
    "print(\"***** 38th row before *****\")\n",
    "print(dataset.loc[37,:]) #38th row before correction\n",
    "for i in range(0,len(dataset.loc[37,:])):\n",
    "    dataset.iloc[37, i] = new_38[i] #Replacing old values with the new ones\n",
    "print(\"\\n\")\n",
    "print(\"***** 38th row after *****\")\n",
    "print(dataset.loc[37,:]) #38th row after correction"
   ]
  },
  {
   "cell_type": "code",
   "execution_count": 10,
   "metadata": {},
   "outputs": [
    {
     "name": "stdout",
     "output_type": "stream",
     "text": [
      "Successfully added the new columns\n",
      "   Sepal.Length  Sepal.Width  Petal.Length  Petal.Width Species  Sepal ratio  \\\n",
      "0           5.1          3.5           1.4          0.2  setosa          1.5   \n",
      "1           4.9          3.0           1.4          0.2  setosa          1.6   \n",
      "2           4.7          3.2           1.3          0.2  setosa          1.5   \n",
      "3           4.6          3.1           1.5          0.2  setosa          1.5   \n",
      "4           5.0          3.6           1.4          0.2  setosa          1.4   \n",
      "\n",
      "   Petal ratio  \n",
      "0          7.0  \n",
      "1          7.0  \n",
      "2          6.5  \n",
      "3          7.5  \n",
      "4          7.0  \n"
     ]
    }
   ],
   "source": [
    "sepal_ratio = []\n",
    "if((dataset.count()[0])==(dataset.count()[1])): #checking if we have any entries missing in the rows\n",
    "    for val in range(0,dataset.count()[0]):\n",
    "        sepal_ratio.append(round((dataset.iloc[val][0]/dataset.iloc[val][1]),1)) #calculating sepal ratio and storing it to the list\n",
    "else:\n",
    "    print(\"We have missing values\")\n",
    "\n",
    "dataset['Sepal ratio'] = sepal_ratio #adding the column to the dataset\n",
    "\n",
    "petal_ratio = []\n",
    "if((dataset.count()[2])==(dataset.count()[3])):\n",
    "    for val in range(0,dataset.count()[2]):\n",
    "        petal_ratio.append(round((dataset.iloc[val][2]/dataset.iloc[val][3]),1)) #calculating petal ratio and storing it to the list\n",
    "else:\n",
    "    print(\"We have missing values\")\n",
    "\n",
    "dataset['Petal ratio'] = petal_ratio #adding the column to the dataset\n",
    "print(\"Successfully added the new columns\")\n",
    "\n",
    "print(dataset.head()) #our new dataset after adding the two columns"
   ]
  },
  {
   "cell_type": "code",
   "execution_count": 11,
   "metadata": {},
   "outputs": [
    {
     "name": "stdout",
     "output_type": "stream",
     "text": [
      "          setosa          \n",
      "--------------------------------------------------\n",
      "***** Petal ratio *****\n",
      "mean       6.91\n",
      "median     7.0\n",
      "min        2.7\n",
      "max        15.0\n",
      "sd         2.8525856512923813\n",
      "***** Sepal ratio *****\n",
      "mean       1.4739999999999998\n",
      "median     1.5\n",
      "min        1.3\n",
      "max        2.0\n",
      "sd         0.1258603048086672\n",
      "--------------------------------------------------\n",
      "          versicolor          \n",
      "--------------------------------------------------\n",
      "***** Petal ratio *****\n",
      "mean       3.2439999999999998\n",
      "median     3.2\n",
      "min        2.7\n",
      "max        4.1\n",
      "sd         0.3130886292983479\n",
      "***** Sepal ratio *****\n",
      "mean       2.154\n",
      "median     2.2\n",
      "min        1.8\n",
      "max        2.8\n",
      "sd         0.22425386489059074\n",
      "--------------------------------------------------\n",
      "          virginica          \n",
      "--------------------------------------------------\n",
      "***** Petal ratio *****\n",
      "mean       2.7760000000000002\n",
      "median     2.7\n",
      "min        2.1\n",
      "max        4.0\n",
      "sd         0.40886103621985737\n",
      "***** Sepal ratio *****\n",
      "mean       2.23\n",
      "median     2.2\n",
      "min        1.8\n",
      "max        3.0\n",
      "sd         0.2501020200001658\n",
      "--------------------------------------------------\n"
     ]
    }
   ],
   "source": [
    "#print(dataset.groupby('Species').size()) #Here we find the number of entries under each species\n",
    "print(\"          setosa          \")\n",
    "print(\"--------------------------------------------------\")\n",
    "set_petal = []\n",
    "set_sepal = []\n",
    "print(\"***** Petal ratio *****\")\n",
    "for v1 in dataset['Petal ratio'][0:50].describe():\n",
    "    set_petal.append(v1) #we append all the values of the describe function to a list\n",
    "\n",
    "print(\"mean      \",set_petal[1]) #We print the values asked from the list\n",
    "print(\"median    \",set_petal[5])\n",
    "print(\"min       \",set_petal[3])\n",
    "print(\"max       \",set_petal[7])\n",
    "print(\"sd        \",set_petal[2])\n",
    "\n",
    "print(\"***** Sepal ratio *****\")\n",
    "for v2 in dataset['Sepal ratio'][0:50].describe():\n",
    "    set_sepal.append(v2) #we append all the values of the describe function to a list\n",
    "\n",
    "print(\"mean      \",set_sepal[1]) #We print the values asked from the list\n",
    "print(\"median    \",set_sepal[5])\n",
    "print(\"min       \",set_sepal[3])\n",
    "print(\"max       \",set_sepal[7])\n",
    "print(\"sd        \",set_sepal[2])\n",
    "print(\"--------------------------------------------------\")\n",
    "print(\"          versicolor          \")\n",
    "print(\"--------------------------------------------------\")\n",
    "set_petal1 = []\n",
    "set_sepal1 = []\n",
    "print(\"***** Petal ratio *****\")\n",
    "for v3 in dataset['Petal ratio'][50:100].describe():\n",
    "    set_petal1.append(v3) #we append all the values of the describe function to a list\n",
    "\n",
    "print(\"mean      \",set_petal1[1]) #We print the values asked from the list\n",
    "print(\"median    \",set_petal1[5])\n",
    "print(\"min       \",set_petal1[3])\n",
    "print(\"max       \",set_petal1[7])\n",
    "print(\"sd        \",set_petal1[2])\n",
    "print(\"***** Sepal ratio *****\")\n",
    "for v4 in dataset['Sepal ratio'][50:100].describe():\n",
    "    set_sepal1.append(v4) #we append all the values of the describe function to a list\n",
    "\n",
    "print(\"mean      \",set_sepal1[1]) #We print the values asked from the list\n",
    "print(\"median    \",set_sepal1[5])\n",
    "print(\"min       \",set_sepal1[3])\n",
    "print(\"max       \",set_sepal1[7])\n",
    "print(\"sd        \",set_sepal1[2])\n",
    "print(\"--------------------------------------------------\")\n",
    "print(\"          virginica          \")\n",
    "print(\"--------------------------------------------------\")\n",
    "set_petal2 = []\n",
    "set_sepal2 = []\n",
    "print(\"***** Petal ratio *****\")\n",
    "for v5 in dataset['Petal ratio'][100:150].describe():\n",
    "    set_petal2.append(v5) #we append all the values of the describe function to a list\n",
    "\n",
    "print(\"mean      \",set_petal2[1]) #We print the values asked from the list\n",
    "print(\"median    \",set_petal2[5])\n",
    "print(\"min       \",set_petal2[3])\n",
    "print(\"max       \",set_petal2[7])\n",
    "print(\"sd        \",set_petal2[2])\n",
    "print(\"***** Sepal ratio *****\")\n",
    "for v6 in dataset['Sepal ratio'][100:150].describe():\n",
    "    set_sepal2.append(v6) #we append all the values of the describe function to a list\n",
    "\n",
    "print(\"mean      \",set_sepal2[1]) #We print the values asked from the list\n",
    "print(\"median    \",set_sepal2[5])\n",
    "print(\"min       \",set_sepal2[3])\n",
    "print(\"max       \",set_sepal2[7])\n",
    "print(\"sd        \",set_sepal2[2])\n",
    "print(\"--------------------------------------------------\")"
   ]
  }
 ],
 "metadata": {
  "kernelspec": {
   "display_name": "Python 3",
   "language": "python",
   "name": "python3"
  },
  "language_info": {
   "codemirror_mode": {
    "name": "ipython",
    "version": 3
   },
   "file_extension": ".py",
   "mimetype": "text/x-python",
   "name": "python",
   "nbconvert_exporter": "python",
   "pygments_lexer": "ipython3",
   "version": "3.6.5"
  }
 },
 "nbformat": 4,
 "nbformat_minor": 2
}
