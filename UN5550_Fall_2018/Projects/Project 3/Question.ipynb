{
 "cells": [
  {
   "cell_type": "markdown",
   "metadata": {},
   "source": [
    "This project is intended to give you experience with inferential statistics. \n",
    "\n",
    "1. Each of the following processes involves sampling from a population. Please identify/define the *population* for each process.  What is the *parameter* that is of interest?\n",
    "    1. A company runs a chemical process 20 times; the yield is measured each time.\n",
    "    2. A pollster samples 1000 registered voters in Michigan, and asks them which candidate they support for governor.\n",
    "    3. A clinical trial seeks to determine if a new drug lowers cholesterol.  100 people with high cholesterol levels are recruited try the new drug.\n",
    "    4. Eight concrete polymers are produced using a new formulation, and the compressive strength of each is measured.\n",
    "    5. A quality engineer needs to estimate the percentage of bolts, manufactured on a certain day, that meets a strength specification.  At 3 pm in the afternoon, he samples the last 100 bolts to be manufactured.\n",
    "\n",
    "2. We will make use of the concrete data set, https://archive.ics.uci.edu/ml/datasets/Concrete+Compressive+Strength, which measures as it's input various ingredients and age, and as an output, the compressive strength of the concrete.  For your convenience, I have put a csv file of the data in under data/concrete.csv.  Pandas does have the capability to parse excel files, which was what was the format that can be downloaded from the UCI website.\n",
    "    1. Describe the data set using some of the tools that we have learned in Chapter 2.  I'm intentionally leaving this vague as one wants to be as complete, but concise as possible.  You may (and should) visualize as appropriate.\n",
    "    2. State, in your own words/understanding, the central limit theorem.  \n",
    "    3. Run a numerical experiment, using the compressive strength variable, that demonstrates the central limit theorem at work.\n",
    "    4. Suppose that a random sample of 60 observations are chosen.  What is the probability that the sample mean of the compressive strength is less than 20 MPs?  \n",
    "    5. Find the 70th upper percentile of the sample mean of the sample mean compressive strength.\n",
    "    6. Develop an appropriate hypothesis, and test using confidence intervals (see section 4.4.1)\n",
    "    7. Develop another appropriate hypothesis, and test using $p$-values (See section 4.4.2)"
   ]
  }
 ],
 "metadata": {
  "kernelspec": {
   "display_name": "Python 2",
   "language": "python",
   "name": "python2"
  },
  "language_info": {
   "codemirror_mode": {
    "name": "ipython",
    "version": 2
   },
   "file_extension": ".py",
   "mimetype": "text/x-python",
   "name": "python",
   "nbconvert_exporter": "python",
   "pygments_lexer": "ipython2",
   "version": "2.7.15"
  }
 },
 "nbformat": 4,
 "nbformat_minor": 2
}
