{
 "cells": [
  {
   "cell_type": "markdown",
   "metadata": {},
   "source": [
    "This project is intended to give you experience with visualizing data sets. \n",
    "\n",
    "We will work (again) with data/iris.csv, which contains data from the iris data set.\n",
    "\n",
    "* Please generate a box-and-whisker plot using the built-in boxplot function in the pandas package (see https://pandas.pydata.org/pandas-docs/stable/generated/pandas.DataFrame.boxplot.html) showing the\n",
    "distribution of the petal ratio for each of the three species.  Describe how you choose to handle outliers, and other useful features of your plot (e.g. mean, median, quantiles, ...) Be sure to add an appropriate title and axis labels.\n",
    "\n",
    "* Create a similar plot and discussion for the sepal ratio, this time, using the boxplot function in the seaborn package, see https://seaborn.pydata.org/generated/seaborn.boxplot.html.  \n",
    "\n",
    "* Summarize what a \"violin plot\" is (https://seaborn.pydata.org/generated/seaborn.violinplot.html) and generate a violin plot using the seaborn package for the sepal ratio.  Discuss the pros and cons of the boxplot versus the violin plot.\n",
    "\n",
    "* using the built-in pandas plotting tools, make a scatter matrix plot for the four original features (petal width, petal length, sepal width and sepal length).  Be sure to color each point in the scatter plot according to the species\n",
    "\n"
   ]
  },
  {
   "cell_type": "code",
   "execution_count": null,
   "metadata": {},
   "outputs": [],
   "source": []
  }
 ],
 "metadata": {
  "kernelspec": {
   "display_name": "Python 2",
   "language": "python",
   "name": "python2"
  },
  "language_info": {
   "codemirror_mode": {
    "name": "ipython",
    "version": 2
   },
   "file_extension": ".py",
   "mimetype": "text/x-python",
   "name": "python",
   "nbconvert_exporter": "python",
   "pygments_lexer": "ipython2",
   "version": "2.7.15"
  }
 },
 "nbformat": 4,
 "nbformat_minor": 2
}
