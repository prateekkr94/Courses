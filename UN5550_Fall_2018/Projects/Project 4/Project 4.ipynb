{
 "cells": [
  {
   "cell_type": "markdown",
   "metadata": {},
   "source": [
    "# Project 4\n",
    "Submitted By: Prateek Kumar"
   ]
  },
  {
   "cell_type": "markdown",
   "metadata": {},
   "source": [
    "# Installing mnist package"
   ]
  },
  {
   "cell_type": "code",
   "execution_count": 1,
   "metadata": {},
   "outputs": [
    {
     "name": "stdout",
     "output_type": "stream",
     "text": [
      "Requirement already satisfied: python-mnist in c:\\users\\prateek\\appdata\\roaming\\python\\python36\\site-packages (0.6)\n"
     ]
    }
   ],
   "source": [
    "!pip install --user python-mnist "
   ]
  },
  {
   "cell_type": "markdown",
   "metadata": {},
   "source": [
    "# Upgrading the mnist package to latest version"
   ]
  },
  {
   "cell_type": "code",
   "execution_count": 2,
   "metadata": {},
   "outputs": [
    {
     "name": "stdout",
     "output_type": "stream",
     "text": [
      "Requirement already up-to-date: pip in c:\\users\\prateek\\anaconda3\\lib\\site-packages (18.1)\n"
     ]
    }
   ],
   "source": [
    "!python -m pip install --upgrade pip"
   ]
  },
  {
   "cell_type": "markdown",
   "metadata": {},
   "source": [
    "# Checking the working directory so that we do not get the error while accessing the files"
   ]
  },
  {
   "cell_type": "code",
   "execution_count": 3,
   "metadata": {},
   "outputs": [
    {
     "data": {
      "text/plain": [
       "'C:\\\\Users\\\\Prateek\\\\Desktop\\\\New folder'"
      ]
     },
     "execution_count": 3,
     "metadata": {},
     "output_type": "execute_result"
    }
   ],
   "source": [
    "import os\n",
    "cwd = os.getcwd()\n",
    "cwd                            # We are in the same directory where the files are so the code will fetch them successfully"
   ]
  },
  {
   "cell_type": "markdown",
   "metadata": {},
   "source": [
    "# Importing the required packages"
   ]
  },
  {
   "cell_type": "code",
   "execution_count": 4,
   "metadata": {},
   "outputs": [
    {
     "name": "stderr",
     "output_type": "stream",
     "text": [
      "C:\\Users\\Prateek\\Anaconda3\\lib\\site-packages\\sklearn\\cross_validation.py:41: DeprecationWarning: This module was deprecated in version 0.18 in favor of the model_selection module into which all the refactored classes and functions are moved. Also note that the interface of the new CV iterators are different from that of this module. This module will be removed in 0.20.\n",
      "  \"This module will be removed in 0.20.\", DeprecationWarning)\n"
     ]
    }
   ],
   "source": [
    "import numpy as np                                         # import numpy\n",
    "from mnist import MNIST                                    # import mnist\n",
    "import matplotlib.pyplot as plt                            # import matplotlib.pyplot for plotting framework\n",
    "from sklearn import neighbors, metrics                     # import neighbors and metrics\n",
    "from sklearn.metrics import confusion_matrix               # look into metrics and import confusion matrix function\n",
    "from sklearn.decomposition import PCA                      # import PCA for Linear dimensionality reduction\n",
    "from sklearn.cross_validation import train_test_split      # import train and test split function from sklearn\n",
    "from sklearn.cross_validation import cross_val_score       # import cross validation score from sklearn validation\n",
    "from sklearn import neighbors                              # import neighbors\n",
    "from sklearn import svm                                    # import svm\n",
    "from sklearn.metrics import accuracy_score                 # look into metrics and import accuracy score function"
   ]
  },
  {
   "cell_type": "markdown",
   "metadata": {},
   "source": [
    "# Loading the data from the system"
   ]
  },
  {
   "cell_type": "code",
   "execution_count": 5,
   "metadata": {},
   "outputs": [],
   "source": [
    "data = MNIST()\n",
    "train_images, train_labels = data.load_training()\n",
    "test_images, test_labels =  data.load_testing()"
   ]
  },
  {
   "cell_type": "markdown",
   "metadata": {},
   "source": [
    "# Displaying one of each hand written digit in sorted order"
   ]
  },
  {
   "cell_type": "code",
   "execution_count": 6,
   "metadata": {},
   "outputs": [
    {
     "data": {
      "image/png": "[encoded data removed]",
      "text/plain": [
       "<Figure size 432x288 with 1 Axes>"
      ]
     },
     "metadata": {},
     "output_type": "display_data"
    },
    {
     "data": {
      "image/png": "[encoded data removed]",
      "text/plain": [
       "<Figure size 432x288 with 1 Axes>"
      ]
     },
     "metadata": {},
     "output_type": "display_data"
    },
    {
     "data": {
      "image/png": "[encoded data removed]",
      "text/plain": [
       "<Figure size 432x288 with 1 Axes>"
      ]
     },
     "metadata": {},
     "output_type": "display_data"
    },
    {
     "data": {
      "image/png": "[encoded data removed]",
      "text/plain": [
       "<Figure size 432x288 with 1 Axes>"
      ]
     },
     "metadata": {},
     "output_type": "display_data"
    },
    {
     "data": {
      "image/png": "[encoded data removed]",
      "text/plain": [
       "<Figure size 432x288 with 1 Axes>"
      ]
     },
     "metadata": {},
     "output_type": "display_data"
    },
    {
     "data": {
      "image/png": "[encoded data removed]",
      "text/plain": [
       "<Figure size 432x288 with 1 Axes>"
      ]
     },
     "metadata": {},
     "output_type": "display_data"
    },
    {
     "data": {
      "image/png": "[encoded data removed]",
      "text/plain": [
       "<Figure size 432x288 with 1 Axes>"
      ]
     },
     "metadata": {},
     "output_type": "display_data"
    },
    {
     "data": {
      "image/png": "[encoded data removed]",
      "text/plain": [
       "<Figure size 432x288 with 1 Axes>"
      ]
     },
     "metadata": {},
     "output_type": "display_data"
    },
    {
     "data": {
      "image/png": "[encoded data removed]",
      "text/plain": [
       "<Figure size 432x288 with 1 Axes>"
      ]
     },
     "metadata": {},
     "output_type": "display_data"
    },
    {
     "data": {
      "image/png": "[encoded data removed]",
      "text/plain": [
       "<Figure size 432x288 with 1 Axes>"
      ]
     },
     "metadata": {},
     "output_type": "display_data"
    }
   ],
   "source": [
    "lis1,lis2,i=[],[],0\n",
    "while(i<len(train_labels)):                   # Running the loop till the last element\n",
    "    if(train_labels[i] not in lis1):          # Checking for each unique labels\n",
    "        lis1.append(train_labels[i])          # Appending the labels into the empty list\n",
    "        lis2.append(i)                        # Appending the index into the empty list\n",
    "        if(len(lis1)==10):                    # Checking if we got the 10 unique values \n",
    "            break\n",
    "    i+=1\n",
    "        \n",
    "for x in range(0,len(lis1)):\n",
    "    val=lis1.index(x)\n",
    "    img=plt.imshow(np.array(train_images[lis2[val]],dtype='float').reshape(28,28)) # Displaying the image files\n",
    "    plt.axis('off')\n",
    "    plt.show()"
   ]
  },
  {
   "cell_type": "markdown",
   "metadata": {},
   "source": [
    "# How the K nearest neighbor (kNN) algorithm works"
   ]
  },
  {
   "cell_type": "markdown",
   "metadata": {},
   "source": [
    "The kNN algorithm expect that an unclassified item can be classified by looking at k of its already-classified, nearest neighbours and discovering which class the largest number of them fall into.The explanation behind picking the closest neighbors to the unknown item is that those are the items which are most similar to it in the attributes used to map the items, so the odds are higher that it has a place with the same class.\n",
    "\n",
    "So for k = 50, you would examine all the items in the data set of classified items to discover which were the 100 that were nearest to the unclassified item. At that point you would check what number of those fell into each class. In the event that you found that 15 were Class A items, 25 were class B items, and 10 were class C, at that point you would expect that the unclassified item was a Class B item."
   ]
  },
  {
   "cell_type": "markdown",
   "metadata": {},
   "source": [
    "# Python functions to compute the accuracy, sensitivity, specificity, precision and negative predictive value."
   ]
  },
  {
   "cell_type": "code",
   "execution_count": 7,
   "metadata": {},
   "outputs": [],
   "source": [
    "def accuracy(tp,fp,fn,tn): \n",
    "    \"\"\"(TP+TN)/(TP+TN+FP+FN)\"\"\"\n",
    "    return((tp+tn)/(tp+fp+fn+tn))\n",
    "\n",
    "def recall(tp,fp,fn,tn):\n",
    "    \"\"\"TP/Real Positives\"\"\"\n",
    "    return(tp/(tp+fn))\n",
    "\n",
    "def specificity(tp,fp,fn,tn):\n",
    "    \"\"\"TN/Real Negatives\"\"\"\n",
    "    return(tn/(tn+fp))\n",
    "\n",
    "def precision(tp,fp,fn,tn):\n",
    "    \"\"\"TP/(TP+FP)\"\"\"\n",
    "    return(tp/(tp+fp))\n",
    "\n",
    "def NegativePredictiveValue(tp,fp,fn,tn):\n",
    "    \"\"\"Tn/Predicted Negatives\"\"\"\n",
    "    return(tn/(tn+fn))\n",
    "    \n",
    "def f1_score(tp,fp,fn,tn):\n",
    "    \"\"\"Harmonic average of precision and recall\"\"\"\n",
    "    p=precision(tp,fp,fn,tn)\n",
    "    r=recall(tp,fp,fn,tn)\n",
    "    return(2*p*r/(p+r))\n",
    "\n",
    "def sensitivity(tp,fp,fn,tn):\n",
    "    \"\"\"TP/(TP+FN)\"\"\"\n",
    "    return(tp/(tp+fn))"
   ]
  },
  {
   "cell_type": "markdown",
   "metadata": {},
   "source": [
    "Ground Truth Prediction Positive Negative Positive TP FP Negative FN TN </table> where\n",
    "1. TP: true positives: classifier predicts a sample as positive in accordance with ground truth\n",
    "2. FP: false positive: classifier predicts a sample as positive in conflict with ground truth\n",
    "3. TN: true negative: classifier predicts a sample as negative in accordance with ground truth\n",
    "4. FN: false negative: classifier predicts a sample as negative in conflict with ground truth\n",
    "\n",
    "Accoding to the similarity with the type-I and type-II error we saw previously in hypothesis testing. Using this notation, the accuracy is $$ \\text{accuracy} = \\frac{\\text{TP + TN}}{\\text{TP + TN + FP + FN}}.$$ The additional metrics of interest:\n",
    "\n",
    "sensitivity: $$ \\text{sensitivity} = \\frac{\\text{TP}}{\\text{TP + FN}}$$\n",
    "specificity: $$ \\text{specificity} = \\frac{\\text{TN}}{\\text{TN + FP} }$$\n",
    "precision: $$ \\text{precision} = \\frac{\\text{TP}}{\\text{TP + FP} }$$\n",
    "Negative Predictive Value: $$ \\text{NPV} = \\frac{\\text{TN}}{\\text{TN + FN} }$$"
   ]
  },
  {
   "cell_type": "code",
   "execution_count": 8,
   "metadata": {},
   "outputs": [],
   "source": [
    "def subset_images(images,count):                      # Function for creating subset of images\n",
    "    return(images[0:count])\n",
    "\n",
    "def subset_labels(labels,count):                      # Function for creating subset of labels\n",
    "    return(labels[0:count])\n",
    "\n",
    "test_images=np.asarray(test_images)                   # Converting the training and testing data into arrays from list\n",
    "train_images=np.asarray(train_images)\n",
    "test_labels=np.asarray(test_labels)\n",
    "train_labels=np.asarray(train_labels)\n",
    "\n",
    "sample_size=5000                                      # Taking sample size as 5000\n",
    "\n",
    "test_images=subset_images(test_images,sample_size)    # The training and testing data is the sampled one now\n",
    "train_images=subset_images(train_images,sample_size)\n",
    "test_labels=subset_images(test_labels,sample_size)\n",
    "train_labels=subset_images(train_labels,sample_size)"
   ]
  },
  {
   "cell_type": "markdown",
   "metadata": {},
   "source": [
    "# Apply a KNN Classifier with n_neighbors = {3,4,5}. For each model, \n",
    "# 1. Compute the confusion matrix, as applied to the test set\n",
    "# 2. Report the accuracy, sensitivity, specificity, precision and negative predictive value using your developed functions.\n",
    "# 3. Compare the different models,"
   ]
  },
  {
   "cell_type": "code",
   "execution_count": 9,
   "metadata": {},
   "outputs": [],
   "source": [
    "# Defining the classifier\n",
    "nn3 = neighbors.KNeighborsClassifier(n_neighbors=3)   # n_neighbors = 3\n",
    "nn4 = neighbors.KNeighborsClassifier(n_neighbors=4)   # n_neighbors = 4\n",
    "nn5 = neighbors.KNeighborsClassifier(n_neighbors=5)   # n_neighbors = 5\n",
    "\n",
    "# Train the classifier using the training data\n",
    "nn3.fit(train_images, train_labels)\n",
    "nn4.fit(train_images, train_labels)\n",
    "nn5.fit(train_images, train_labels)\n",
    "\n",
    "# Compute the prediction of the test set\n",
    "pred_nn3=nn3.predict(test_images)\n",
    "pred_nn4=nn4.predict(test_images)\n",
    "pred_nn5=nn5.predict(test_images)"
   ]
  },
  {
   "cell_type": "markdown",
   "metadata": {},
   "source": [
    "# For 3 Neighbours"
   ]
  },
  {
   "cell_type": "code",
   "execution_count": 10,
   "metadata": {},
   "outputs": [
    {
     "name": "stdout",
     "output_type": "stream",
     "text": [
      "For 3 Neighbours\n",
      "----------------\n",
      "Confusion Matrix:\n",
      "[[455.   0.   9.   2.   0.   5.  11.   0.  16.   4.]\n",
      " [  0. 568.  27.   7.   8.   4.   6.  35.   7.   9.]\n",
      " [  1.   0. 463.   6.   2.   0.   0.   2.  13.   2.]\n",
      " [  0.   2.   5. 444.   0.  16.   0.   2.  16.   8.]\n",
      " [  0.   0.   2.   1. 455.   7.   4.   7.   8.  17.]\n",
      " [  0.   0.   0.  15.   0. 403.   1.   1.  14.   2.]\n",
      " [  3.   1.   5.   1.   5.   9. 440.   0.   3.   1.]\n",
      " [  0.   0.  17.   9.   0.   1.   0. 453.   7.   8.]\n",
      " [  1.   0.   2.  11.   0.   4.   0.   0. 393.   2.]\n",
      " [  0.   0.   0.   4.  30.   7.   0.  12.  12. 467.]]\n",
      "Accuracy = 0.98164\n",
      "Sensitivity = 0.9117522465054636\n",
      "Specificity = 0.9898561081269321\n",
      "Precision = 0.9078137811865172\n",
      "Negative Predictive Value = 0.989773083019869\n"
     ]
    }
   ],
   "source": [
    "print('For 3 Neighbours')\n",
    "print('----------------')\n",
    "c=np.empty([10,10])                                                   # Creating an empty 10 X 10 matrix\n",
    "for i in range(10):\n",
    "    for j in range(10):\n",
    "        c[i,j]=np.sum(np.logical_and(pred_nn3==i, test_labels==j))    # Confusion Matrix\n",
    "        \n",
    "print(\"Confusion Matrix:\")\n",
    "print(c)\n",
    "        \n",
    "fp=c.sum(axis=0)-np.diag(c)                                           # Using numpy calculating FP, FN, TP, TN all at once\n",
    "fn=c.sum(axis=1)-np.diag(c)\n",
    "tp=np.diag(c)\n",
    "tn=c.sum()-(fp+fn+tp)\n",
    "\n",
    "a=accuracy(tp,fp,fn,tn)                                               # calling the respective functions\n",
    "se=sensitivity(tp,fp,fn,tn)\n",
    "s=specificity(tp,fp,fn,tn)\n",
    "p=precision(tp,fp,fn,tn)\n",
    "n=NegativePredictiveValue(tp,fp,fn,tn)\n",
    "\n",
    "print('Accuracy =',np.nanmean(a))                                     # Computing the mean values ignoring NaNs\n",
    "print('Sensitivity =',np.nanmean(se))\n",
    "print('Specificity =',np.nanmean(s))                                  \n",
    "print('Precision =',np.nanmean(p))\n",
    "print('Negative Predictive Value =',np.nanmean(n))"
   ]
  },
  {
   "cell_type": "markdown",
   "metadata": {},
   "source": [
    "# For 4 Neighbours"
   ]
  },
  {
   "cell_type": "code",
   "execution_count": 11,
   "metadata": {},
   "outputs": [
    {
     "name": "stdout",
     "output_type": "stream",
     "text": [
      "For 4 Neighbours\n",
      "----------------\n",
      "Confusion Matrix:\n",
      "[[455.   0.  12.   2.   0.   7.  17.   1.  13.   4.]\n",
      " [  0. 567.  36.   8.   7.   6.   6.  37.   9.   8.]\n",
      " [  1.   1. 453.   4.   2.   0.   0.   2.  11.   1.]\n",
      " [  0.   2.   7. 455.   0.  18.   0.   1.  22.   8.]\n",
      " [  0.   0.   2.   1. 468.   6.   4.   7.   7.  23.]\n",
      " [  0.   0.   0.   8.   0. 400.   3.   1.  17.   3.]\n",
      " [  3.   1.   6.   1.   3.   6. 432.   0.   6.   2.]\n",
      " [  0.   0.  14.   8.   3.   1.   0. 453.   6.  15.]\n",
      " [  1.   0.   0.   8.   0.   4.   0.   0. 386.   3.]\n",
      " [  0.   0.   0.   5.  17.   8.   0.  10.  12. 453.]]\n",
      "Accuracy = 0.9808800000000002\n",
      "Sensitivity = 0.9091742081130434\n",
      "Specificity = 0.9894489435706282\n",
      "Precision = 0.9040385603818883\n",
      "Negative Predictive Value = 0.9893487928108644\n"
     ]
    }
   ],
   "source": [
    "print('For 4 Neighbours')\n",
    "print('----------------')\n",
    "c=np.empty([10,10])                                                         # Creating an empty 10 X 10 matrix\n",
    "for i in range(10):\n",
    "    for j in range(10):\n",
    "        c[i,j]=np.sum(np.logical_and(pred_nn4==i, test_labels==j))          # Confusion Matrix\n",
    "        \n",
    "print(\"Confusion Matrix:\")\n",
    "print(c)\n",
    "        \n",
    "fp=c.sum(axis=0)-np.diag(c)                                                 # Using numpy calculating FP, FN, TP, TN all at once\n",
    "fn=c.sum(axis=1)-np.diag(c)\n",
    "tp=np.diag(c)\n",
    "tn=c.sum()-(fp+fn+tp)\n",
    "\n",
    "s=specificity(tp,fp,fn,tn)                                                  # calling the respective functions\n",
    "p=precision(tp,fp,fn,tn)\n",
    "n=NegativePredictiveValue(tp,fp,fn,tn)\n",
    "a=accuracy(tp,fp,fn,tn)\n",
    "se=sensitivity(tp,fp,fn,tn)\n",
    "\n",
    "print('Accuracy =',np.nanmean(a))                                           # Computing the mean values ignoring NaNs\n",
    "print('Sensitivity =',np.nanmean(se))\n",
    "print('Specificity =',np.nanmean(s))                                  \n",
    "print('Precision =',np.nanmean(p))\n",
    "print('Negative Predictive Value =',np.nanmean(n))"
   ]
  },
  {
   "cell_type": "markdown",
   "metadata": {},
   "source": [
    "# For 5 Neighbours"
   ]
  },
  {
   "cell_type": "code",
   "execution_count": 12,
   "metadata": {},
   "outputs": [
    {
     "name": "stdout",
     "output_type": "stream",
     "text": [
      "For 5 Neighbours\n",
      "----------------\n",
      "Confusion Matrix:\n",
      "[[452.   0.  12.   0.   0.   5.   9.   0.  15.   3.]\n",
      " [  0. 567.  35.   5.   7.   7.   6.  37.   9.   9.]\n",
      " [  0.   1. 448.   5.   1.   1.   1.   2.   8.   1.]\n",
      " [  0.   2.   7. 453.   0.  13.   0.   1.  19.   7.]\n",
      " [  0.   0.   3.   1. 459.   7.   3.   8.   9.  15.]\n",
      " [  0.   0.   0.  16.   0. 405.   2.   1.  16.   4.]\n",
      " [  7.   1.   5.   1.   6.   6. 441.   0.   6.   2.]\n",
      " [  0.   0.  18.   9.   2.   1.   0. 448.   8.   8.]\n",
      " [  1.   0.   2.   5.   1.   3.   0.   0. 388.   2.]\n",
      " [  0.   0.   0.   5.  24.   8.   0.  15.  11. 469.]]\n",
      "Accuracy = 0.9812\n",
      "Sensitivity = 0.9105453790910472\n",
      "Specificity = 0.9896214781353967\n",
      "Precision = 0.9057968919504853\n",
      "Negative Predictive Value = 0.9895267143916234\n"
     ]
    }
   ],
   "source": [
    "print('For 5 Neighbours')\n",
    "print('----------------')\n",
    "c=np.empty([10,10])                                                        # Creating an empty 10 X 10 matrix\n",
    "for i in range(10):\n",
    "    for j in range(10):\n",
    "        c[i,j]=np.sum(np.logical_and(pred_nn5==i, test_labels==j))         # Confusion Matrix\n",
    "        \n",
    "print(\"Confusion Matrix:\")\n",
    "print(c)  \n",
    "\n",
    "fp=c.sum(axis=0)-np.diag(c)                                                # Using numpy calculating FP, FN, TP, TN all at once\n",
    "fn=c.sum(axis=1)-np.diag(c)\n",
    "tp=np.diag(c)\n",
    "tn=c.sum()-(fp+fn+tp)\n",
    "\n",
    "s=specificity(tp,fp,fn,tn)                                                 # calling the respective functions\n",
    "p=precision(tp,fp,fn,tn)\n",
    "n=NegativePredictiveValue(tp,fp,fn,tn)\n",
    "a=accuracy(tp,fp,fn,tn)\n",
    "se=sensitivity(tp,fp,fn,tn)\n",
    "\n",
    "print('Accuracy =',np.nanmean(a))                                          # Computing the mean values ignoring NaNs\n",
    "print('Sensitivity =',np.nanmean(se))\n",
    "print('Specificity =',np.nanmean(s))                                  \n",
    "print('Precision =',np.nanmean(p))\n",
    "print('Negative Predictive Value =',np.nanmean(n))"
   ]
  },
  {
   "cell_type": "markdown",
   "metadata": {},
   "source": [
    "# Comparison between the 3 neighbours"
   ]
  },
  {
   "cell_type": "markdown",
   "metadata": {},
   "source": [
    "Choice of k is very critical – A little estimation of k implies that noise will affect on the result but however it enhances when we in the long run increment the neighbors (as we find in the over 3 results). \n",
    "\n",
    "A large value makes it computationally costly and kind of defeats the fundamental reasoning behind KNN (that points that are close might have similar densities or classes) i.e. it prompts overfitting.\n",
    "\n",
    "A basic way to deal with select k is set k = n^(1/2). So the approach is to accomplish something like cross-validation with different Ks and chose the k that minimizes the cross-validation error."
   ]
  },
  {
   "cell_type": "markdown",
   "metadata": {},
   "source": [
    "# Applying SVM classifier"
   ]
  },
  {
   "cell_type": "code",
   "execution_count": 13,
   "metadata": {},
   "outputs": [
    {
     "name": "stdout",
     "output_type": "stream",
     "text": [
      "For SVN\n",
      "----------------\n",
      "Confusion Matrix:\n",
      "[[  0   0   0   0   0   0   0   0   0   0]\n",
      " [460 571 530 500 500 456 462 512 489 520]\n",
      " [  0   0   0   0   0   0   0   0   0   0]\n",
      " [  0   0   0   0   0   0   0   0   0   0]\n",
      " [  0   0   0   0   0   0   0   0   0   0]\n",
      " [  0   0   0   0   0   0   0   0   0   0]\n",
      " [  0   0   0   0   0   0   0   0   0   0]\n",
      " [  0   0   0   0   0   0   0   0   0   0]\n",
      " [  0   0   0   0   0   0   0   0   0   0]\n",
      " [  0   0   0   0   0   0   0   0   0   0]]\n",
      "Accuracy Score:\n",
      "0.1142\n",
      "Accuracy = 0.82284\n",
      "Sensitivity = 0.1142\n",
      "Specificity = 0.9015777777777778\n",
      "Precision = 0.1\n",
      "Negative Predictive Value = 0.9\n"
     ]
    },
    {
     "name": "stderr",
     "output_type": "stream",
     "text": [
      "C:\\Users\\Prateek\\Anaconda3\\lib\\site-packages\\ipykernel_launcher.py:11: RuntimeWarning: invalid value encountered in true_divide\n",
      "  # This is added back by InteractiveShellApp.init_path()\n",
      "C:\\Users\\Prateek\\Anaconda3\\lib\\site-packages\\ipykernel_launcher.py:29: RuntimeWarning: invalid value encountered in true_divide\n"
     ]
    }
   ],
   "source": [
    "print('For SVN')\n",
    "print('----------------')\n",
    "svc=svm.SVC()\n",
    "svc.fit(train_images,train_labels)\n",
    "pred_svc=svc.predict(test_images)\n",
    "\n",
    "print(\"Confusion Matrix:\")\n",
    "print(confusion_matrix(pred_svc, test_labels))  \n",
    "print(\"Accuracy Score:\")\n",
    "print(accuracy_score(pred_svc, test_labels))\n",
    "\n",
    "c = np.empty([10,10])                                                  # Creating an empty 10 X 10 matrix\n",
    "for i in range(10):\n",
    "    for j in range(10):\n",
    "        c[i,j] = np.sum(np.logical_and(pred_svc==i, test_labels==j))   # Confusion Matrix\n",
    "        \n",
    "# define the value\n",
    "fp=c.sum(axis=0)-np.diag(c)                                            # Using numpy calculating FP, FN, TP, TN all at once\n",
    "fn=c.sum(axis=1)-np.diag(c)\n",
    "tp=np.diag(c)\n",
    "tn=c.sum()-(fp+fn+tp)\n",
    "\n",
    "s=specificity(tp,fp,fn,tn)                                             # calling the respective functions\n",
    "p=precision(tp,fp,fn,tn)\n",
    "n=NegativePredictiveValue(tp,fp,fn,tn)\n",
    "a=accuracy(tp,fp,fn,tn)\n",
    "se=sensitivity(tp,fp,fn,tn)\n",
    "\n",
    "print('Accuracy =',np.nanmean(a))                                     # Computing the mean values ignoring NaNs\n",
    "print('Sensitivity =',np.nanmean(se))\n",
    "print('Specificity =',np.nanmean(s))                                  \n",
    "print('Precision =',np.nanmean(p))\n",
    "print('Negative Predictive Value =',np.nanmean(n))"
   ]
  },
  {
   "cell_type": "markdown",
   "metadata": {},
   "source": [
    "# Comparison between SVM and KNN classifiers"
   ]
  },
  {
   "cell_type": "markdown",
   "metadata": {},
   "source": [
    "For most practical problems, kNN is a bad choice.\n",
    "\n",
    "Because it scales badly - in the event if we have million labeled examples, it would take a long time (linear to the number of examples) to find K nearest neighbors.\n",
    "\n",
    "SVM works differently and it is a decent and fast solution for many issues.\n",
    "\n",
    "At long last, except if the problem we are solving is very simple, SVM will dependably beat kNN."
   ]
  }
 ],
 "metadata": {
  "kernelspec": {
   "display_name": "Python 3",
   "language": "python",
   "name": "python3"
  },
  "language_info": {
   "codemirror_mode": {
    "name": "ipython",
    "version": 3
   },
   "file_extension": ".py",
   "mimetype": "text/x-python",
   "name": "python",
   "nbconvert_exporter": "python",
   "pygments_lexer": "ipython3",
   "version": "3.6.5"
  }
 },
 "nbformat": 4,
 "nbformat_minor": 2
}
