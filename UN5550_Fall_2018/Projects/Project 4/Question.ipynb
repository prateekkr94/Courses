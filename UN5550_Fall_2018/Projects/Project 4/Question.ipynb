{
 "cells": [
  {
   "cell_type": "markdown",
   "metadata": {},
   "source": [
    "This project is intended to give you experience with supervised learning.\n",
    "\n",
    "We will make use of the handwritten digit data set, http://yann.lecun.com/exdb/mnist/.\n",
    "There are four files you will need:\n",
    "* train-images-idx3-ubyte.gz:  training set images (9912422 bytes) \n",
    "* train-labels-idx1-ubyte.gz:  training set labels (28881 bytes) \n",
    "* t10k-images-idx3-ubyte.gz:   test set images (1648877 bytes) \n",
    "* t10k-labels-idx1-ubyte.gz:   test set labels (4542 bytes)\n",
    "\n",
    "Tasks:\n",
    "1. Unzip the above four files by using \n",
    "```shell\n",
    "gzip -d filename\n",
    "```\n",
    "You do not need to (and probably should not) add these larger data files to your repository, but you may if you wish.  The person grading this assignment will link the data files to your jupyter notebook.\n",
    "2. To load the data, it is easiest to install a python package which has already coded some import functions specifically for this data set:\n",
    "```shell\n",
    "pip install --user python-mnist\n",
    "```\n",
    "Then in your jupyter script, you can make use of:\n",
    "```python\n",
    "from mnist import MNIST\n",
    "data = MNIST('path/to/data')\n",
    "```\n",
    "3. For the training data set, display a few of these images (at least one of each hand written digit).  We have not given you explicit instruction on how to view image files, but hopefully you can figure out how to use matplotlib's imshow command.\n",
    "4. In your own words, explain how the K nearest neighbor (KNN) algorithm works.\n",
    "5. Develop python functions to compute the accuracy, sensitivity, specificity, precision and negative predictive value.\n",
    "6. Apply a KNN Classifier with n_neighbors = {3,4,5}.  For each model, \n",
    "    * compute the confusion matrix, as applied to the test set\n",
    "    * report the accuracy, sensitivity, specificity, precision and negative predictive value using your developed functions.\n",
    "    * compare the different models, \n",
    "7. Apply an SVM classifier.  Again, report the confusion matrix, as well as the accuracy, sensitivity, specificity, precision and negative predictive value.  How does the SVN classifier compare to the KNN classifiers?"
   ]
  },
  {
   "cell_type": "code",
   "execution_count": null,
   "metadata": {},
   "outputs": [],
   "source": []
  }
 ],
 "metadata": {
  "kernelspec": {
   "display_name": "Python 2",
   "language": "python",
   "name": "python2"
  },
  "language_info": {
   "codemirror_mode": {
    "name": "ipython",
    "version": 2
   },
   "file_extension": ".py",
   "mimetype": "text/x-python",
   "name": "python",
   "nbconvert_exporter": "python",
   "pygments_lexer": "ipython2",
   "version": "2.7.15"
  }
 },
 "nbformat": 4,
 "nbformat_minor": 2
}
