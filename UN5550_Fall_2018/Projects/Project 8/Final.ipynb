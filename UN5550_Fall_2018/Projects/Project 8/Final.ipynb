{
 "cells": [
  {
   "cell_type": "markdown",
   "metadata": {},
   "source": [
    "# Project 8\n",
    "##### Submitted by: Prateek Kumar"
   ]
  },
  {
   "cell_type": "markdown",
   "metadata": {},
   "source": [
    "### Question 1: Summary on the digitization of the Smithsonian herbarium collection"
   ]
  },
  {
   "cell_type": "markdown",
   "metadata": {},
   "source": [
    "Today we have a very few percentage of plant species left as compared to what was there hundreds and thousands of years ago, as this habitat gets more and more fragmented and more deteriorated, this research can help protect this environment if we can identify the areas that will harbour a high diversity of plants and animals. That will be the type of areas we can target for conservation and that's where the information that we are gathering from Herbarium is important.\n",
    "\n",
    "The US national Herbarium holds about 5 million specimens, it covers all families on earth and is an incredible resource for doing research and outreach. The label information is critical to understanding a specimen - where did you collect it? how tall is it?, things we can’t tell looking at the specimen.\n",
    "\n",
    "One such issue is that if we want that information we need to search one by one which will take years to look at the specimens a person is interested in. The Smithsonian digitization is digitizing all the information which will make the information available for everyone.\n",
    "\n",
    "These projects allow biodiversity scientists to work much faster as they can now jump right into the use of the data saving thousands of man hours and also can share the information with each other. Thus revolutionizing the way, of doing science. They can make distribution maps, they can create models as where the plant grows. This can help shape conservation policies inorder to maximize the number of species that we are conserving. "
   ]
  },
  {
   "cell_type": "markdown",
   "metadata": {},
   "source": [
    "##### How data science comes into play? "
   ]
  },
  {
   "cell_type": "markdown",
   "metadata": {},
   "source": [
    "In present time millions of specimen are present in the world's natural history collections. But most of these have not been carefully studied, or even looked at, in decades. While containing critical data for many scientific endeavors, most objects are quietly sitting in their own little cabinets of curiosity. Thus such initiatives have already generated large datasets from these collections.\n",
    "\n",
    "A team of researchers from the Department of Botany at the Smithsonian’s National Museum of Natural History, and the Data Science Lab and Digitization Program Office of the Smithsonian Office of the Chief Information Officer, recently collaborated with NVIDIA Corp. to carry out a pilot project using deep learning approaches to dig into digitized herbarium specimens.\n",
    "\n",
    "The project is among the first to describe the use of deep learning methods to enhance our understanding of digitized collection samples. It is also the first to demonstrate that a deep convolutional neural network (CNN)–a computing system modeled after the neuron activity in animal brains that can basically learn on its own–can effectively differentiate between similar plants with an amazing accuracy of nearly one- hundred percent.\n",
    "\n",
    "The trained CNN performed with 90 percent and 96 percent accuracy respectively (or 94 percent and 99 percent if the most challenging specimens were discarded), confirming that deep learning is a useful and important technology for the future analysis of digitized museum collections.\n",
    "\n",
    "“This research paper is a wonderful proof of concept. We now know that we can apply machine learning to digitized natural history specimens to solve curatorial and identification problems,” says Laurence Dorr, chair of the Natural History Museum’s Department of Botany.“The future will be using these tools combined with large shared data sets to test fundamental hypotheses about the evolution and distribution of plants and animals.”"
   ]
  },
  {
   "cell_type": "markdown",
   "metadata": {},
   "source": [
    "### Question 2: Generate a network plot of the following adjacency matrix"
   ]
  },
  {
   "cell_type": "markdown",
   "metadata": {},
   "source": [
    "### Installing networkx package"
   ]
  },
  {
   "cell_type": "code",
   "execution_count": 1,
   "metadata": {},
   "outputs": [
    {
     "name": "stdout",
     "output_type": "stream",
     "text": [
      "Requirement already satisfied: networkx in c:\\users\\prateek\\appdata\\roaming\\python\\python37\\site-packages (2.2)\n",
      "Requirement already satisfied: decorator>=4.3.0 in c:\\users\\prateek\\appdata\\local\\programs\\python\\python37-32\\lib\\site-packages (from networkx) (4.3.0)\n"
     ]
    }
   ],
   "source": [
    "!pip install --user networkx"
   ]
  },
  {
   "cell_type": "markdown",
   "metadata": {},
   "source": [
    "### Importing required packages "
   ]
  },
  {
   "cell_type": "code",
   "execution_count": 2,
   "metadata": {},
   "outputs": [],
   "source": [
    "import numpy as np\n",
    "import networkx as nx\n",
    "import matplotlib.pyplot as plt"
   ]
  },
  {
   "cell_type": "markdown",
   "metadata": {},
   "source": [
    "We know that an adjacency matrix is a square matrix and we have 36 digits in the matrix A. So we can assume it as a 6 X 6 matrix. "
   ]
  },
  {
   "cell_type": "code",
   "execution_count": 3,
   "metadata": {},
   "outputs": [],
   "source": [
    "A = [[0,1,0,1,0,1],[1,0,1,0,0,1],[0,1,0,0,1,1],[1,0,0,0,0,0],[0,0,1,0,0,1],[1,1,1,0,1,0]] # given adjacency matrix"
   ]
  },
  {
   "cell_type": "code",
   "execution_count": 4,
   "metadata": {},
   "outputs": [
    {
     "data": {
      "text/plain": [
       "[[0, 1, 0, 1, 0, 1],\n",
       " [1, 0, 1, 0, 0, 1],\n",
       " [0, 1, 0, 0, 1, 1],\n",
       " [1, 0, 0, 0, 0, 0],\n",
       " [0, 0, 1, 0, 0, 1],\n",
       " [1, 1, 1, 0, 1, 0]]"
      ]
     },
     "execution_count": 4,
     "metadata": {},
     "output_type": "execute_result"
    }
   ],
   "source": [
    "A"
   ]
  },
  {
   "cell_type": "raw",
   "metadata": {},
   "source": [
    "Adjacency Matrix is a 2D array of size V x V where V is the number of vertices in a graph, so we have 6 vertices. \n",
    "\n",
    "Let the 2D array be adj[ ][ ], a slot adj[ i ][ j ] = 1 indicates that there is an edge from vertex i to vertex j."
   ]
  },
  {
   "cell_type": "code",
   "execution_count": 5,
   "metadata": {},
   "outputs": [],
   "source": [
    "adjacency = np.matrix(A)\n",
    "mylabels = {0: 'A', 1: 'B', 2: 'C', 3: 'D', 4: 'E', 5: 'F'} # Setting the lables"
   ]
  },
  {
   "cell_type": "code",
   "execution_count": 6,
   "metadata": {},
   "outputs": [
    {
     "data": {
      "image/png": "[encoded data removed]",
      "text/plain": [
       "<Figure size 432x288 with 1 Axes>"
      ]
     },
     "metadata": {},
     "output_type": "display_data"
    }
   ],
   "source": [
    "rows, cols = np.where(adjacency == 1)\n",
    "edges = zip(rows.tolist(), cols.tolist()) # getting the edges\n",
    "gr = nx.Graph() # creating empty graph\n",
    "gr.add_edges_from(edges) # adding edges to the graph\n",
    "nx.draw(gr, node_size=1000, labels=mylabels, with_labels=True, font_weight='bold')\n",
    "plt.show()"
   ]
  },
  {
   "cell_type": "markdown",
   "metadata": {},
   "source": [
    "### Question 3: Computing the centrality measures "
   ]
  },
  {
   "cell_type": "code",
   "execution_count": 7,
   "metadata": {},
   "outputs": [
    {
     "name": "stdout",
     "output_type": "stream",
     "text": [
      "Betweenness centrality:\n",
      "{0: 0.4, 1: 0.1, 3: 0.0, 5: 0.35000000000000003, 2: 0.05, 4: 0.0}\n",
      "\n",
      "\n",
      "Closeness centrality:\n",
      "{0: 0.7142857142857143, 1: 0.7142857142857143, 3: 0.45454545454545453, 5: 0.8333333333333334, 2: 0.625, 4: 0.5555555555555556}\n",
      "\n",
      "\n",
      "Eigenvector centrality:\n",
      "{0: 0.3834327635729094, 1: 0.4649388033326703, 3: 0.1286290168373972, 5: 0.5494186634404209, 2: 0.45310115951559804, 4: 0.3363097865225342}\n",
      "\n",
      "\n",
      "Degree centrality:\n",
      "{0: 0.6000000000000001, 1: 0.6000000000000001, 3: 0.2, 5: 0.8, 2: 0.6000000000000001, 4: 0.4}\n"
     ]
    }
   ],
   "source": [
    "def CentralityMeasures(G):\n",
    "    # Betweenness centrality\n",
    "    bet_cen = nx.betweenness_centrality(G)\n",
    "    # Closeness centrality\n",
    "    clo_cen = nx.closeness_centrality(G)\n",
    "    # Eigenvector centrality\n",
    "    eig_cen = nx.eigenvector_centrality(G)\n",
    "    # Degree centrality\n",
    "    deg_cen = nx.degree_centrality(G)\n",
    "    #print bet_cen, clo_cen, eig_cen\n",
    "    print(\"Betweenness centrality:\\n\" + str(bet_cen))\n",
    "    print(\"\\n\")\n",
    "    print(\"Closeness centrality:\\n\" + str(clo_cen)) \n",
    "    print(\"\\n\")\n",
    "    print(\"Eigenvector centrality:\\n\" + str(eig_cen)) \n",
    "    print(\"\\n\")\n",
    "    print(\"Degree centrality:\\n\" + str(deg_cen)) \n",
    "\n",
    "CentralityMeasures(gr)"
   ]
  },
  {
   "cell_type": "markdown",
   "metadata": {},
   "source": [
    "### Question 4: "
   ]
  },
  {
   "cell_type": "markdown",
   "metadata": {},
   "source": [
    "We can attempt to rank teams not just by their total number of wins and losses but by their cumulative wins and losses as assessed by their opponents wins and losses and their opponents opponents wins and losses ect. \n",
    "\n",
    "The basic idea behind this method is that when team A beats team B. Team A receives a ‘vote’ from team B. How much is this vote worth? It depends on how many teams have voted for B (i.e., how many teams has B beaten). If team B has beaten many teams which in turn have beaten many other teams, then this vote should be worth a lot. If team B has not beaten very many teams than this vote should not be worth very much. This is the exact same principle that \"GOOGLE’S PAGE RANK ALGORITHM\" uses to rank web pages in search results. In Google’s case, however, ‘votes’ translate into links. The web pages ranked the highest are the ones that have many links to them from websites that are linked to by many other websites ect.\n",
    "\n",
    "The way to solve this problem mathematically involves GRAPH THEORY. Essentially it requires creating a connectivity matrix between all the teams and finding the largest EIGENVECTOR of this matrix. \n",
    "\n",
    "EXAMPLE:\n",
    "\n",
    "The best way to visualize how this method works is in the form of a graph of the entire season. In the graph, an arrow represents a win or a ‘vote’. So for example, if team ‘b’ beat team ‘c’, team ‘c’ has an arrow pointed toward team ‘b’. If two teams played multiple times and each team won a game, then the arrows point in both directions. Teams are ordered according to their resulting rank starting at the top (let team ‘a’) and moving clockwise around the circle.\n",
    "\n",
    "The graph makes it easier to see why the rankings came out the way that they did. The teams with the highest rankings had the most cumulative connections in the graph (e.g., team ‘a’ will have a lot of votes from other teams that in turn had a lot of votes and so on). In general the arrows indicate a flow from the worst teams to the best teams."
   ]
  }
 ],
 "metadata": {
  "kernelspec": {
   "display_name": "Python 3",
   "language": "python",
   "name": "python3"
  },
  "language_info": {
   "codemirror_mode": {
    "name": "ipython",
    "version": 3
   },
   "file_extension": ".py",
   "mimetype": "text/x-python",
   "name": "python",
   "nbconvert_exporter": "python",
   "pygments_lexer": "ipython3",
   "version": "3.7.0"
  }
 },
 "nbformat": 4,
 "nbformat_minor": 2
}
