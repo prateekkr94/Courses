{
 "cells": [
  {
   "cell_type": "markdown",
   "metadata": {},
   "source": [
    "# Project 08 -- Networks\n",
    "\n",
    "Due 12/7, 5pm.  This project should be fairly light.\n",
    "\n",
    "1. Give a one paragraph summary on the talk by Dr. Dorr on the digitization of the Smithsonian herbarium collection.  If any \"v\"'s of big data are mentioned, be sure to address them in your summary.\n",
    "\n",
    "2. Generate a network plot of the following adjacency matrix\n",
    "\\begin{align}\n",
    "A = \n",
    "\\begin{bmatrix}\n",
    "0 & 1 & 0 & 1 & 0 & 1 \\\\\n",
    "1 & 0 & 1 & 0 & 0 & 1 \\\\\n",
    "0 & 1 & 0 & 0 & 1 & 1 \\\\\n",
    "1 & 0 & 0 & 0 & 0 & 0 \\\\\n",
    "0 & 0 & 1 & 0 & 0 & 1 \\\\\n",
    "1 & 1 & 1 & 0 & 1 & 0 \n",
    "\\end{bmatrix}\n",
    "\\end{align}\n",
    "\n",
    "3. Compute the four centrality measures we discussed, applied the above matrix\n",
    "    - degree centrality\n",
    "    - closeness centrality\n",
    "    - betweenness centrality\n",
    "    - eigenvector centrality\n",
    "    \n",
    "4. I was catching up on my sports news, http://www.espn.com/mens-college-basketball/story/_/id/25385890/no-1-ohio-state-ncaa-initial-net-basketball-ratings-raise-questions, and thought to myself, I wonder how i would interpret the framework behind the \"NET\" rankings in terms of a network, and if my resulting data visualization would portray the findings of that ranking in a consistent fashion.    This is an open-ended question with no specific right or wrong answer; it is merely designed to have you think about how you might migrate from thinking about tabular data to thinking about networks.  \n",
    "    - If you were to get your hands on the data used behind NET (e.g., team, game scores, conference, etc... ), describe one way in which you could interpret the data as a network.\n",
    "    - What might a centrality measure indicate based on your network?"
   ]
  },
  {
   "cell_type": "code",
   "execution_count": null,
   "metadata": {},
   "outputs": [],
   "source": []
  }
 ],
 "metadata": {
  "kernelspec": {
   "display_name": "Python 2",
   "language": "python",
   "name": "python2"
  },
  "language_info": {
   "codemirror_mode": {
    "name": "ipython",
    "version": 2
   },
   "file_extension": ".py",
   "mimetype": "text/x-python",
   "name": "python",
   "nbconvert_exporter": "python",
   "pygments_lexer": "ipython2",
   "version": "2.7.15"
  }
 },
 "nbformat": 4,
 "nbformat_minor": 2
}
