{
 "cells": [
  {
   "cell_type": "markdown",
   "metadata": {},
   "source": [
    "# Project #6\n",
    "\n",
    "Due Friday, Nov 2nd, 5pm.\n",
    "\n",
    "1. You may implement the solution to this problem in any way that you wish.  You may use any iterative clustering type algorithm, which clusters based on the Manhattan ($L_1$) distance metric, which is less sensitive to outliers.  Assume that the $D$ features are real valued quantities, i.e., $x\\in\\mathbb{R}^D$  represents a sample.  The Manhattan distance between two samples $x$ and $y$ can be computed as\n",
    "\\begin{align}\n",
    "d(x,y) = \\sum_{i=1}^{D} |x_i - y_i|.\n",
    "\\end{align}\n",
    "Test your algorithm on the toy data sets used in this example:\n",
    "http://scikit-learn.org/stable/auto_examples/cluster/plot_cluster_comparison.html#sphx-glr-auto-examples-cluster-plot-cluster-comparison-py, (i.e., your implemented algorithm with the Manhattan distance should add a column to the row of images). Comment on what you observe.\n",
    "\n",
    "2. The following tutorial shows you how to use Keras (and tensorflow) to perform supervised learning on the MINST fashion images.  https://www.tensorflow.org/tutorials/keras/basic_classification\n",
    "    1. work through the tutorial. Explain in your own words what is auto-encoding.\n",
    "    2. apply unsupervised learning to an appropriate **subset** data set (i.e. ignore the labels) to see if you can cluster the different types of clothing in this data set.\n"
   ]
  },
  {
   "cell_type": "code",
   "execution_count": null,
   "metadata": {},
   "outputs": [],
   "source": []
  }
 ],
 "metadata": {
  "kernelspec": {
   "display_name": "Python 2",
   "language": "python",
   "name": "python2"
  },
  "language_info": {
   "codemirror_mode": {
    "name": "ipython",
    "version": 2
   },
   "file_extension": ".py",
   "mimetype": "text/x-python",
   "name": "python",
   "nbconvert_exporter": "python",
   "pygments_lexer": "ipython2",
   "version": "2.7.15"
  }
 },
 "nbformat": 4,
 "nbformat_minor": 2
}
