{
 "cells": [
  {
   "cell_type": "markdown",
   "metadata": {},
   "source": [
    "Okay, it's time for us to start working with real data!  This project will require you to product **two** notebooks: one that processes data and dumps data to a pickle file, a second notebook that loads the pickle file and applies regression models to predict song popularity. Proposed due date: Friday October 26th, 5pm.\n",
    "\n",
    "1. The following link is a fairly famous unprocessed data set which collected listening habits of approximately 1000 users:\n",
    "http://www.dtic.upf.edu/~ocelma/MusicRecommendationDataset/lastfm-1K.html\n",
    "\n",
    "    The data set is large (about 650 MB compressed), data is formatted one entry per line, tab-separated.  The first task is to process this data to recover some song statistics.  In particular, we would like to create (and save, using pickle), a pandas dataframe that contains:\n",
    "    * the number of times a song has been played\n",
    "    * percentage of the plays that came from users who self-identified as male\n",
    "    * average age of the listener\n",
    "    * percentage of plays that came from a user who played the song exactly once\n",
    "    * percentage of plays that came from a user who played the song at least five times  \n",
    "    \n",
    "    If there any missing values, decide how you will deal with them, and summarize your approach.  \n",
    "\n",
    "2. In this same pre-processing notebook, explore the data by generating some descriptive statistics.  After each code block, you should have summary statements, or code blocks should print out summary statements that are useful to a reader.\n",
    "\n",
    "3. Complete this notebook by exporting the generated dataframe using pickle for posterity, but **don't commit your pickled file to the repository**.  Sometimes, it is more convenient to process the data locally rather than transmitting large processed data files."
   ]
  },
  {
   "cell_type": "markdown",
   "metadata": {},
   "source": [
    "4. In a new notebook, load the dataframe object.  Using k-fold cross-validation, apply a linear regression model.  Here, the response variable is the number of times a song has been played based on what we know about the listeners.  Be sure to return the model score on both the training and validation data.\n",
    "5. Explain your results.  Specifically address, if the assumption of linear response to the input features was reasonable.  You will want to study a plot of the model's residual.  Ideally, the residuals are small in magnitude, and are evenly distributed about the true values.  What are some possible improvements that can be made?\n",
    "6. Suppose we are instead curious about whether a song will be played by a user based on a demographics.  Apply a logistic regression model and report your results."
   ]
  },
  {
   "cell_type": "code",
   "execution_count": null,
   "metadata": {},
   "outputs": [],
   "source": []
  }
 ],
 "metadata": {
  "kernelspec": {
   "display_name": "Python 2",
   "language": "python",
   "name": "python2"
  },
  "language_info": {
   "codemirror_mode": {
    "name": "ipython",
    "version": 2
   },
   "file_extension": ".py",
   "mimetype": "text/x-python",
   "name": "python",
   "nbconvert_exporter": "python",
   "pygments_lexer": "ipython2",
   "version": "2.7.15"
  }
 },
 "nbformat": 4,
 "nbformat_minor": 2
}
