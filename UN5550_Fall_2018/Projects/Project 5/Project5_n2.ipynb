{
 "cells": [
  {
   "cell_type": "markdown",
   "metadata": {},
   "source": [
    "# Project 5\n",
    "# Submitted By: Prateek Kumar\n",
    "### Notebook 2"
   ]
  },
  {
   "cell_type": "code",
   "execution_count": 1,
   "metadata": {},
   "outputs": [],
   "source": [
    "#importing the package\n",
    "import pickle \n",
    "import pandas as pd\n",
    "import numpy as np"
   ]
  },
  {
   "cell_type": "code",
   "execution_count": 2,
   "metadata": {},
   "outputs": [],
   "source": [
    "pickle_in = open(\"data.pkl\", \"rb\") #importing the final converted pickle file\n",
    "df_new = pickle.load(pickle_in)"
   ]
  },
  {
   "cell_type": "code",
   "execution_count": 3,
   "metadata": {},
   "outputs": [
    {
     "data": {
      "text/html": [
       "<div>\n",
       "<style scoped>\n",
       "    .dataframe tbody tr th:only-of-type {\n",
       "        vertical-align: middle;\n",
       "    }\n",
       "\n",
       "    .dataframe tbody tr th {\n",
       "        vertical-align: top;\n",
       "    }\n",
       "\n",
       "    .dataframe thead th {\n",
       "        text-align: right;\n",
       "    }\n",
       "</style>\n",
       "<table border=\"1\" class=\"dataframe\">\n",
       "  <thead>\n",
       "    <tr style=\"text-align: right;\">\n",
       "      <th></th>\n",
       "      <th>track_name</th>\n",
       "      <th>play_times</th>\n",
       "      <th>percent_male</th>\n",
       "      <th>average_age_listener</th>\n",
       "      <th>percent_once</th>\n",
       "      <th>percent_five+</th>\n",
       "    </tr>\n",
       "  </thead>\n",
       "  <tbody>\n",
       "    <tr>\n",
       "      <th>0</th>\n",
       "      <td>Mr. Misery</td>\n",
       "      <td>4</td>\n",
       "      <td>0.0</td>\n",
       "      <td>27</td>\n",
       "      <td>0</td>\n",
       "      <td>0</td>\n",
       "    </tr>\n",
       "    <tr>\n",
       "      <th>1</th>\n",
       "      <td>Lights In The Sky</td>\n",
       "      <td>19</td>\n",
       "      <td>0.0</td>\n",
       "      <td>25</td>\n",
       "      <td>0</td>\n",
       "      <td>0</td>\n",
       "    </tr>\n",
       "    <tr>\n",
       "      <th>2</th>\n",
       "      <td>Just As The Tide Was Flowing</td>\n",
       "      <td>2</td>\n",
       "      <td>0.0</td>\n",
       "      <td>22</td>\n",
       "      <td>0</td>\n",
       "      <td>0</td>\n",
       "    </tr>\n",
       "    <tr>\n",
       "      <th>3</th>\n",
       "      <td>Murder (Live, Bbc)</td>\n",
       "      <td>1</td>\n",
       "      <td>0.0</td>\n",
       "      <td>22</td>\n",
       "      <td>100</td>\n",
       "      <td>0</td>\n",
       "    </tr>\n",
       "    <tr>\n",
       "      <th>4</th>\n",
       "      <td>Noon As Dark As Midnight</td>\n",
       "      <td>2</td>\n",
       "      <td>0.0</td>\n",
       "      <td>27</td>\n",
       "      <td>0</td>\n",
       "      <td>0</td>\n",
       "    </tr>\n",
       "  </tbody>\n",
       "</table>\n",
       "</div>"
      ],
      "text/plain": [
       "                     track_name play_times  percent_male average_age_listener  \\\n",
       "0                    Mr. Misery          4           0.0                   27   \n",
       "1             Lights In The Sky         19           0.0                   25   \n",
       "2  Just As The Tide Was Flowing          2           0.0                   22   \n",
       "3            Murder (Live, Bbc)          1           0.0                   22   \n",
       "4      Noon As Dark As Midnight          2           0.0                   27   \n",
       "\n",
       "  percent_once percent_five+  \n",
       "0            0             0  \n",
       "1            0             0  \n",
       "2            0             0  \n",
       "3          100             0  \n",
       "4            0             0  "
      ]
     },
     "execution_count": 3,
     "metadata": {},
     "output_type": "execute_result"
    }
   ],
   "source": [
    "df_new.head() "
   ]
  },
  {
   "cell_type": "code",
   "execution_count": 4,
   "metadata": {},
   "outputs": [],
   "source": [
    "pickle_in = open(\"data1.pkl\", \"rb\") #importing the merged master dataframe\n",
    "df_main = pickle.load(pickle_in)"
   ]
  },
  {
   "cell_type": "code",
   "execution_count": 5,
   "metadata": {},
   "outputs": [
    {
     "data": {
      "text/html": [
       "<div>\n",
       "<style scoped>\n",
       "    .dataframe tbody tr th:only-of-type {\n",
       "        vertical-align: middle;\n",
       "    }\n",
       "\n",
       "    .dataframe tbody tr th {\n",
       "        vertical-align: top;\n",
       "    }\n",
       "\n",
       "    .dataframe thead th {\n",
       "        text-align: right;\n",
       "    }\n",
       "</style>\n",
       "<table border=\"1\" class=\"dataframe\">\n",
       "  <thead>\n",
       "    <tr style=\"text-align: right;\">\n",
       "      <th></th>\n",
       "      <th>user_id</th>\n",
       "      <th>timestamp</th>\n",
       "      <th>artist_id</th>\n",
       "      <th>artist_name</th>\n",
       "      <th>track_id</th>\n",
       "      <th>track_name</th>\n",
       "      <th>gender</th>\n",
       "      <th>age</th>\n",
       "      <th>country</th>\n",
       "      <th>r_date</th>\n",
       "    </tr>\n",
       "  </thead>\n",
       "  <tbody>\n",
       "    <tr>\n",
       "      <th>0</th>\n",
       "      <td>user_000001</td>\n",
       "      <td>2009-05-04T23:08:57Z</td>\n",
       "      <td>f1b1cf71-bd35-4e99-8624-24a6e15f133a</td>\n",
       "      <td>Deep Dish</td>\n",
       "      <td>NaN</td>\n",
       "      <td>Fuck Me Im Famous (Pacha Ibiza)-09-28-2007</td>\n",
       "      <td>m</td>\n",
       "      <td>NaN</td>\n",
       "      <td>Japan</td>\n",
       "      <td>Aug 13, 2006</td>\n",
       "    </tr>\n",
       "    <tr>\n",
       "      <th>1</th>\n",
       "      <td>user_000001</td>\n",
       "      <td>2009-05-04T13:54:10Z</td>\n",
       "      <td>a7f7df4a-77d8-4f12-8acd-5c60c93f4de8</td>\n",
       "      <td>坂本龍一</td>\n",
       "      <td>NaN</td>\n",
       "      <td>Composition 0919 (Live_2009_4_15)</td>\n",
       "      <td>m</td>\n",
       "      <td>NaN</td>\n",
       "      <td>Japan</td>\n",
       "      <td>Aug 13, 2006</td>\n",
       "    </tr>\n",
       "    <tr>\n",
       "      <th>2</th>\n",
       "      <td>user_000001</td>\n",
       "      <td>2009-05-04T13:52:04Z</td>\n",
       "      <td>a7f7df4a-77d8-4f12-8acd-5c60c93f4de8</td>\n",
       "      <td>坂本龍一</td>\n",
       "      <td>NaN</td>\n",
       "      <td>Mc2 (Live_2009_4_15)</td>\n",
       "      <td>m</td>\n",
       "      <td>NaN</td>\n",
       "      <td>Japan</td>\n",
       "      <td>Aug 13, 2006</td>\n",
       "    </tr>\n",
       "    <tr>\n",
       "      <th>3</th>\n",
       "      <td>user_000001</td>\n",
       "      <td>2009-05-04T13:42:52Z</td>\n",
       "      <td>a7f7df4a-77d8-4f12-8acd-5c60c93f4de8</td>\n",
       "      <td>坂本龍一</td>\n",
       "      <td>NaN</td>\n",
       "      <td>Hibari (Live_2009_4_15)</td>\n",
       "      <td>m</td>\n",
       "      <td>NaN</td>\n",
       "      <td>Japan</td>\n",
       "      <td>Aug 13, 2006</td>\n",
       "    </tr>\n",
       "    <tr>\n",
       "      <th>4</th>\n",
       "      <td>user_000001</td>\n",
       "      <td>2009-05-04T13:42:11Z</td>\n",
       "      <td>a7f7df4a-77d8-4f12-8acd-5c60c93f4de8</td>\n",
       "      <td>坂本龍一</td>\n",
       "      <td>NaN</td>\n",
       "      <td>Mc1 (Live_2009_4_15)</td>\n",
       "      <td>m</td>\n",
       "      <td>NaN</td>\n",
       "      <td>Japan</td>\n",
       "      <td>Aug 13, 2006</td>\n",
       "    </tr>\n",
       "  </tbody>\n",
       "</table>\n",
       "</div>"
      ],
      "text/plain": [
       "       user_id             timestamp                             artist_id  \\\n",
       "0  user_000001  2009-05-04T23:08:57Z  f1b1cf71-bd35-4e99-8624-24a6e15f133a   \n",
       "1  user_000001  2009-05-04T13:54:10Z  a7f7df4a-77d8-4f12-8acd-5c60c93f4de8   \n",
       "2  user_000001  2009-05-04T13:52:04Z  a7f7df4a-77d8-4f12-8acd-5c60c93f4de8   \n",
       "3  user_000001  2009-05-04T13:42:52Z  a7f7df4a-77d8-4f12-8acd-5c60c93f4de8   \n",
       "4  user_000001  2009-05-04T13:42:11Z  a7f7df4a-77d8-4f12-8acd-5c60c93f4de8   \n",
       "\n",
       "  artist_name track_id                                  track_name gender  \\\n",
       "0   Deep Dish      NaN  Fuck Me Im Famous (Pacha Ibiza)-09-28-2007      m   \n",
       "1        坂本龍一      NaN           Composition 0919 (Live_2009_4_15)      m   \n",
       "2        坂本龍一      NaN                        Mc2 (Live_2009_4_15)      m   \n",
       "3        坂本龍一      NaN                     Hibari (Live_2009_4_15)      m   \n",
       "4        坂本龍一      NaN                        Mc1 (Live_2009_4_15)      m   \n",
       "\n",
       "   age country        r_date  \n",
       "0  NaN   Japan  Aug 13, 2006  \n",
       "1  NaN   Japan  Aug 13, 2006  \n",
       "2  NaN   Japan  Aug 13, 2006  \n",
       "3  NaN   Japan  Aug 13, 2006  \n",
       "4  NaN   Japan  Aug 13, 2006  "
      ]
     },
     "execution_count": 5,
     "metadata": {},
     "output_type": "execute_result"
    }
   ],
   "source": [
    "df_main.head()"
   ]
  },
  {
   "cell_type": "code",
   "execution_count": 6,
   "metadata": {},
   "outputs": [],
   "source": [
    "#finding the number of times a song has been played\n",
    "df_scount = df_main.groupby(['user_id','track_name']).size() "
   ]
  },
  {
   "cell_type": "code",
   "execution_count": 7,
   "metadata": {},
   "outputs": [],
   "source": [
    "df_scount=df_scount.reset_index(level=[0,1]) #resetting the index"
   ]
  },
  {
   "cell_type": "code",
   "execution_count": 8,
   "metadata": {},
   "outputs": [],
   "source": [
    "df_scount.columns=['user_id','track_name','play_count'] #renaming the columns"
   ]
  },
  {
   "cell_type": "code",
   "execution_count": 9,
   "metadata": {},
   "outputs": [
    {
     "data": {
      "text/html": [
       "<div>\n",
       "<style scoped>\n",
       "    .dataframe tbody tr th:only-of-type {\n",
       "        vertical-align: middle;\n",
       "    }\n",
       "\n",
       "    .dataframe tbody tr th {\n",
       "        vertical-align: top;\n",
       "    }\n",
       "\n",
       "    .dataframe thead th {\n",
       "        text-align: right;\n",
       "    }\n",
       "</style>\n",
       "<table border=\"1\" class=\"dataframe\">\n",
       "  <thead>\n",
       "    <tr style=\"text-align: right;\">\n",
       "      <th></th>\n",
       "      <th>user_id</th>\n",
       "      <th>track_name</th>\n",
       "      <th>play_count</th>\n",
       "    </tr>\n",
       "  </thead>\n",
       "  <tbody>\n",
       "    <tr>\n",
       "      <th>0</th>\n",
       "      <td>user_000001</td>\n",
       "      <td>'84 Pontiac Dream</td>\n",
       "      <td>14</td>\n",
       "    </tr>\n",
       "    <tr>\n",
       "      <th>1</th>\n",
       "      <td>user_000001</td>\n",
       "      <td>(All I Wanted Was To Make You) Feel Good</td>\n",
       "      <td>3</td>\n",
       "    </tr>\n",
       "    <tr>\n",
       "      <th>2</th>\n",
       "      <td>user_000001</td>\n",
       "      <td>(D)Ecaying Beauty</td>\n",
       "      <td>1</td>\n",
       "    </tr>\n",
       "    <tr>\n",
       "      <th>3</th>\n",
       "      <td>user_000001</td>\n",
       "      <td>(Far From) Home</td>\n",
       "      <td>1</td>\n",
       "    </tr>\n",
       "    <tr>\n",
       "      <th>4</th>\n",
       "      <td>user_000001</td>\n",
       "      <td>(Get Off Your) High Horse Lady</td>\n",
       "      <td>1</td>\n",
       "    </tr>\n",
       "  </tbody>\n",
       "</table>\n",
       "</div>"
      ],
      "text/plain": [
       "       user_id                                track_name  play_count\n",
       "0  user_000001                         '84 Pontiac Dream          14\n",
       "1  user_000001  (All I Wanted Was To Make You) Feel Good           3\n",
       "2  user_000001                         (D)Ecaying Beauty           1\n",
       "3  user_000001                           (Far From) Home           1\n",
       "4  user_000001            (Get Off Your) High Horse Lady           1"
      ]
     },
     "execution_count": 9,
     "metadata": {},
     "output_type": "execute_result"
    }
   ],
   "source": [
    "df_scount.head()"
   ]
  },
  {
   "cell_type": "code",
   "execution_count": 10,
   "metadata": {},
   "outputs": [],
   "source": [
    "user_profiles = pd.read_table('userid-profile.tsv', sep = '\\t') #reading the user profile data"
   ]
  },
  {
   "cell_type": "code",
   "execution_count": 11,
   "metadata": {},
   "outputs": [],
   "source": [
    "user_profiles.columns = ['user_id','gender','age','country','r_date'] #renaming the columns"
   ]
  },
  {
   "cell_type": "code",
   "execution_count": 12,
   "metadata": {},
   "outputs": [],
   "source": [
    "#joining the user profile dataset and dataframe with song play count\n",
    "df_m1 = df_scount.merge(user_profiles,how='inner', left_on='user_id', right_on='user_id') "
   ]
  },
  {
   "cell_type": "code",
   "execution_count": 81,
   "metadata": {},
   "outputs": [
    {
     "data": {
      "text/html": [
       "<div>\n",
       "<style scoped>\n",
       "    .dataframe tbody tr th:only-of-type {\n",
       "        vertical-align: middle;\n",
       "    }\n",
       "\n",
       "    .dataframe tbody tr th {\n",
       "        vertical-align: top;\n",
       "    }\n",
       "\n",
       "    .dataframe thead th {\n",
       "        text-align: right;\n",
       "    }\n",
       "</style>\n",
       "<table border=\"1\" class=\"dataframe\">\n",
       "  <thead>\n",
       "    <tr style=\"text-align: right;\">\n",
       "      <th></th>\n",
       "      <th>user_id</th>\n",
       "      <th>track_name</th>\n",
       "      <th>play_count</th>\n",
       "      <th>gender</th>\n",
       "      <th>age</th>\n",
       "      <th>country</th>\n",
       "      <th>r_date</th>\n",
       "    </tr>\n",
       "  </thead>\n",
       "  <tbody>\n",
       "    <tr>\n",
       "      <th>0</th>\n",
       "      <td>user_000001</td>\n",
       "      <td>'84 Pontiac Dream</td>\n",
       "      <td>14</td>\n",
       "      <td>m</td>\n",
       "      <td>0.0</td>\n",
       "      <td>Japan</td>\n",
       "      <td>Aug 13, 2006</td>\n",
       "    </tr>\n",
       "    <tr>\n",
       "      <th>1</th>\n",
       "      <td>user_000001</td>\n",
       "      <td>(All I Wanted Was To Make You) Feel Good</td>\n",
       "      <td>3</td>\n",
       "      <td>m</td>\n",
       "      <td>0.0</td>\n",
       "      <td>Japan</td>\n",
       "      <td>Aug 13, 2006</td>\n",
       "    </tr>\n",
       "    <tr>\n",
       "      <th>2</th>\n",
       "      <td>user_000001</td>\n",
       "      <td>(D)Ecaying Beauty</td>\n",
       "      <td>1</td>\n",
       "      <td>m</td>\n",
       "      <td>0.0</td>\n",
       "      <td>Japan</td>\n",
       "      <td>Aug 13, 2006</td>\n",
       "    </tr>\n",
       "    <tr>\n",
       "      <th>3</th>\n",
       "      <td>user_000001</td>\n",
       "      <td>(Far From) Home</td>\n",
       "      <td>1</td>\n",
       "      <td>m</td>\n",
       "      <td>0.0</td>\n",
       "      <td>Japan</td>\n",
       "      <td>Aug 13, 2006</td>\n",
       "    </tr>\n",
       "    <tr>\n",
       "      <th>4</th>\n",
       "      <td>user_000001</td>\n",
       "      <td>(Get Off Your) High Horse Lady</td>\n",
       "      <td>1</td>\n",
       "      <td>m</td>\n",
       "      <td>0.0</td>\n",
       "      <td>Japan</td>\n",
       "      <td>Aug 13, 2006</td>\n",
       "    </tr>\n",
       "  </tbody>\n",
       "</table>\n",
       "</div>"
      ],
      "text/plain": [
       "       user_id                                track_name  play_count gender  \\\n",
       "0  user_000001                         '84 Pontiac Dream          14      m   \n",
       "1  user_000001  (All I Wanted Was To Make You) Feel Good           3      m   \n",
       "2  user_000001                         (D)Ecaying Beauty           1      m   \n",
       "3  user_000001                           (Far From) Home           1      m   \n",
       "4  user_000001            (Get Off Your) High Horse Lady           1      m   \n",
       "\n",
       "   age country        r_date  \n",
       "0  0.0   Japan  Aug 13, 2006  \n",
       "1  0.0   Japan  Aug 13, 2006  \n",
       "2  0.0   Japan  Aug 13, 2006  \n",
       "3  0.0   Japan  Aug 13, 2006  \n",
       "4  0.0   Japan  Aug 13, 2006  "
      ]
     },
     "execution_count": 81,
     "metadata": {},
     "output_type": "execute_result"
    }
   ],
   "source": [
    "df_m1.head()"
   ]
  },
  {
   "cell_type": "code",
   "execution_count": 14,
   "metadata": {},
   "outputs": [
    {
     "data": {
      "text/html": [
       "<div>\n",
       "<style scoped>\n",
       "    .dataframe tbody tr th:only-of-type {\n",
       "        vertical-align: middle;\n",
       "    }\n",
       "\n",
       "    .dataframe tbody tr th {\n",
       "        vertical-align: top;\n",
       "    }\n",
       "\n",
       "    .dataframe thead th {\n",
       "        text-align: right;\n",
       "    }\n",
       "</style>\n",
       "<table border=\"1\" class=\"dataframe\">\n",
       "  <thead>\n",
       "    <tr style=\"text-align: right;\">\n",
       "      <th></th>\n",
       "      <th>user_id</th>\n",
       "      <th>track_name</th>\n",
       "      <th>play_count</th>\n",
       "      <th>gender</th>\n",
       "      <th>age</th>\n",
       "      <th>country</th>\n",
       "      <th>r_date</th>\n",
       "    </tr>\n",
       "  </thead>\n",
       "  <tbody>\n",
       "    <tr>\n",
       "      <th>0</th>\n",
       "      <td>user_000001</td>\n",
       "      <td>'84 Pontiac Dream</td>\n",
       "      <td>14</td>\n",
       "      <td>m</td>\n",
       "      <td>0.0</td>\n",
       "      <td>Japan</td>\n",
       "      <td>Aug 13, 2006</td>\n",
       "    </tr>\n",
       "    <tr>\n",
       "      <th>1</th>\n",
       "      <td>user_000001</td>\n",
       "      <td>(All I Wanted Was To Make You) Feel Good</td>\n",
       "      <td>3</td>\n",
       "      <td>m</td>\n",
       "      <td>0.0</td>\n",
       "      <td>Japan</td>\n",
       "      <td>Aug 13, 2006</td>\n",
       "    </tr>\n",
       "    <tr>\n",
       "      <th>2</th>\n",
       "      <td>user_000001</td>\n",
       "      <td>(D)Ecaying Beauty</td>\n",
       "      <td>1</td>\n",
       "      <td>m</td>\n",
       "      <td>0.0</td>\n",
       "      <td>Japan</td>\n",
       "      <td>Aug 13, 2006</td>\n",
       "    </tr>\n",
       "    <tr>\n",
       "      <th>3</th>\n",
       "      <td>user_000001</td>\n",
       "      <td>(Far From) Home</td>\n",
       "      <td>1</td>\n",
       "      <td>m</td>\n",
       "      <td>0.0</td>\n",
       "      <td>Japan</td>\n",
       "      <td>Aug 13, 2006</td>\n",
       "    </tr>\n",
       "    <tr>\n",
       "      <th>4</th>\n",
       "      <td>user_000001</td>\n",
       "      <td>(Get Off Your) High Horse Lady</td>\n",
       "      <td>1</td>\n",
       "      <td>m</td>\n",
       "      <td>0.0</td>\n",
       "      <td>Japan</td>\n",
       "      <td>Aug 13, 2006</td>\n",
       "    </tr>\n",
       "  </tbody>\n",
       "</table>\n",
       "</div>"
      ],
      "text/plain": [
       "       user_id                                track_name  play_count gender  \\\n",
       "0  user_000001                         '84 Pontiac Dream          14      m   \n",
       "1  user_000001  (All I Wanted Was To Make You) Feel Good           3      m   \n",
       "2  user_000001                         (D)Ecaying Beauty           1      m   \n",
       "3  user_000001                           (Far From) Home           1      m   \n",
       "4  user_000001            (Get Off Your) High Horse Lady           1      m   \n",
       "\n",
       "   age country        r_date  \n",
       "0  0.0   Japan  Aug 13, 2006  \n",
       "1  0.0   Japan  Aug 13, 2006  \n",
       "2  0.0   Japan  Aug 13, 2006  \n",
       "3  0.0   Japan  Aug 13, 2006  \n",
       "4  0.0   Japan  Aug 13, 2006  "
      ]
     },
     "execution_count": 14,
     "metadata": {},
     "output_type": "execute_result"
    }
   ],
   "source": [
    "df_m1 = df_m1.fillna(0) #handling NaN values by replacing them with 0\n",
    "df_m1.head()"
   ]
  },
  {
   "cell_type": "code",
   "execution_count": 77,
   "metadata": {},
   "outputs": [
    {
     "data": {
      "text/plain": [
       "99880"
      ]
     },
     "execution_count": 77,
     "metadata": {},
     "output_type": "execute_result"
    }
   ],
   "source": [
    "len(df_m1['play_count'])"
   ]
  },
  {
   "cell_type": "code",
   "execution_count": 15,
   "metadata": {},
   "outputs": [
    {
     "name": "stdout",
     "output_type": "stream",
     "text": [
      "Requirement already satisfied: pycountry in /home/campus16/prateekk/.local/lib/python2.7/site-packages (18.5.26)\n",
      "\u001b[33mYou are using pip version 18.0, however version 18.1 is available.\n",
      "You should consider upgrading via the 'pip install --upgrade pip' command.\u001b[0m\n"
     ]
    }
   ],
   "source": [
    "!pip install --user pycountry #installing the pycountry package"
   ]
  },
  {
   "cell_type": "code",
   "execution_count": 16,
   "metadata": {},
   "outputs": [],
   "source": [
    "import pycountry #importing the pycountry package"
   ]
  },
  {
   "cell_type": "code",
   "execution_count": 17,
   "metadata": {},
   "outputs": [],
   "source": [
    "#creating an empty dataframe to store the values\n",
    "df_code = pd.DataFrame(columns=['track_name','gender','age','country','r_date'])"
   ]
  },
  {
   "cell_type": "code",
   "execution_count": 18,
   "metadata": {},
   "outputs": [],
   "source": [
    "df_code['track_name'] = df_m1['track_name'] #importing the trackname and age values\n",
    "df_code['age'] = df_m1['age']"
   ]
  },
  {
   "cell_type": "code",
   "execution_count": 19,
   "metadata": {},
   "outputs": [],
   "source": [
    "#function to convert country to country code(numeric)\n",
    "#we do not have country codes for \"Venezuela\", \"Czech Republic\" etc. in pycountry package so treating them as NaN\n",
    "def country_code(v1):\n",
    "    val=str(v1)\n",
    "    if(val == \"0\" or val == \"Cote D'Ivoire\" or val == \"Venezuela\" or val == \"Czech Republic\" or val == \"Congo, the Democratic Republic of the\" or val == \"Macedonia\" or val == \"Netherlands Antilles\"):\n",
    "        return(0)\n",
    "    else:\n",
    "        v2=pycountry.countries.get(name=val)\n",
    "        code=int(v2.numeric)\n",
    "        return(code)\n",
    "    \n",
    "df_code[\"country\"] = df_m1[\"country\"].apply(lambda x:(country_code(x)))"
   ]
  },
  {
   "cell_type": "code",
   "execution_count": 20,
   "metadata": {},
   "outputs": [],
   "source": [
    "#function to convert gender to numeric values\n",
    "def gender_code(v1):\n",
    "    val=str(v1)\n",
    "    val = val.replace('0','0')\n",
    "    val = val.replace('m','1')\n",
    "    val = val.replace('f','2')\n",
    "    return(val)\n",
    "    \n",
    "df_code[\"gender\"] = df_m1[\"gender\"].apply(lambda x:(gender_code(x)))"
   ]
  },
  {
   "cell_type": "code",
   "execution_count": 21,
   "metadata": {},
   "outputs": [],
   "source": [
    "#function to convert release date to numeric values\n",
    "def date_code(v1):\n",
    "    val=str(v1)\n",
    "    if(val==\"0\"):\n",
    "        return(0)\n",
    "    \n",
    "    x1=val.split(' ')[0]\n",
    "    x2=val.split(' ')[1].split(',')[0]\n",
    "    x3=val.split(',')[1]\n",
    "    \n",
    "    if(x1=='Jan'):\n",
    "        m=1\n",
    "    if(x1=='Feb'): \n",
    "        m=2\n",
    "    if(x1=='Mar'):\n",
    "        m=3\n",
    "    if(x1=='Apr'): \n",
    "        m=4\n",
    "    if(x1=='May'):\n",
    "        m=5\n",
    "    if(x1=='Jun') :\n",
    "        m=6\n",
    "    if(x1=='Jul') :\n",
    "        m=7\n",
    "    if(x1=='Aug') :\n",
    "        m=8\n",
    "    if(x1=='Sep') :\n",
    "        m=9 \n",
    "    if(x1=='Oct') :\n",
    "        m=10\n",
    "    if(x1=='Nov') :\n",
    "        m=11\n",
    "    if(x1=='Dec') :\n",
    "        m=12\n",
    "        \n",
    "    value=((10000*int(x3))+(100*int(m))+int(x2))\n",
    "    return(value)\n",
    "\n",
    "df_code[\"r_date\"] = df_m1[\"r_date\"].apply(lambda x:(date_code(x)))"
   ]
  },
  {
   "cell_type": "code",
   "execution_count": 22,
   "metadata": {},
   "outputs": [
    {
     "data": {
      "text/html": [
       "<div>\n",
       "<style scoped>\n",
       "    .dataframe tbody tr th:only-of-type {\n",
       "        vertical-align: middle;\n",
       "    }\n",
       "\n",
       "    .dataframe tbody tr th {\n",
       "        vertical-align: top;\n",
       "    }\n",
       "\n",
       "    .dataframe thead th {\n",
       "        text-align: right;\n",
       "    }\n",
       "</style>\n",
       "<table border=\"1\" class=\"dataframe\">\n",
       "  <thead>\n",
       "    <tr style=\"text-align: right;\">\n",
       "      <th></th>\n",
       "      <th>track_name</th>\n",
       "      <th>gender</th>\n",
       "      <th>age</th>\n",
       "      <th>country</th>\n",
       "      <th>r_date</th>\n",
       "    </tr>\n",
       "  </thead>\n",
       "  <tbody>\n",
       "    <tr>\n",
       "      <th>0</th>\n",
       "      <td>'84 Pontiac Dream</td>\n",
       "      <td>1</td>\n",
       "      <td>0.0</td>\n",
       "      <td>392</td>\n",
       "      <td>20060813</td>\n",
       "    </tr>\n",
       "    <tr>\n",
       "      <th>1</th>\n",
       "      <td>(All I Wanted Was To Make You) Feel Good</td>\n",
       "      <td>1</td>\n",
       "      <td>0.0</td>\n",
       "      <td>392</td>\n",
       "      <td>20060813</td>\n",
       "    </tr>\n",
       "    <tr>\n",
       "      <th>2</th>\n",
       "      <td>(D)Ecaying Beauty</td>\n",
       "      <td>1</td>\n",
       "      <td>0.0</td>\n",
       "      <td>392</td>\n",
       "      <td>20060813</td>\n",
       "    </tr>\n",
       "    <tr>\n",
       "      <th>3</th>\n",
       "      <td>(Far From) Home</td>\n",
       "      <td>1</td>\n",
       "      <td>0.0</td>\n",
       "      <td>392</td>\n",
       "      <td>20060813</td>\n",
       "    </tr>\n",
       "    <tr>\n",
       "      <th>4</th>\n",
       "      <td>(Get Off Your) High Horse Lady</td>\n",
       "      <td>1</td>\n",
       "      <td>0.0</td>\n",
       "      <td>392</td>\n",
       "      <td>20060813</td>\n",
       "    </tr>\n",
       "  </tbody>\n",
       "</table>\n",
       "</div>"
      ],
      "text/plain": [
       "                                 track_name gender  age  country    r_date\n",
       "0                         '84 Pontiac Dream      1  0.0      392  20060813\n",
       "1  (All I Wanted Was To Make You) Feel Good      1  0.0      392  20060813\n",
       "2                         (D)Ecaying Beauty      1  0.0      392  20060813\n",
       "3                           (Far From) Home      1  0.0      392  20060813\n",
       "4            (Get Off Your) High Horse Lady      1  0.0      392  20060813"
      ]
     },
     "execution_count": 22,
     "metadata": {},
     "output_type": "execute_result"
    }
   ],
   "source": [
    "df_code.head() #displaying the strings converted to numeric values"
   ]
  },
  {
   "cell_type": "code",
   "execution_count": 23,
   "metadata": {},
   "outputs": [],
   "source": [
    "#saving the unique track_names into list my_list\n",
    "my_list = list(set(df_code['track_name']))"
   ]
  },
  {
   "cell_type": "code",
   "execution_count": 24,
   "metadata": {},
   "outputs": [
    {
     "data": {
      "text/html": [
       "<div>\n",
       "<style scoped>\n",
       "    .dataframe tbody tr th:only-of-type {\n",
       "        vertical-align: middle;\n",
       "    }\n",
       "\n",
       "    .dataframe tbody tr th {\n",
       "        vertical-align: top;\n",
       "    }\n",
       "\n",
       "    .dataframe thead th {\n",
       "        text-align: right;\n",
       "    }\n",
       "</style>\n",
       "<table border=\"1\" class=\"dataframe\">\n",
       "  <thead>\n",
       "    <tr style=\"text-align: right;\">\n",
       "      <th></th>\n",
       "      <th>track_code</th>\n",
       "      <th>track_name</th>\n",
       "    </tr>\n",
       "  </thead>\n",
       "  <tbody>\n",
       "    <tr>\n",
       "      <th>0</th>\n",
       "      <td>0</td>\n",
       "      <td>Mr. Misery</td>\n",
       "    </tr>\n",
       "    <tr>\n",
       "      <th>1</th>\n",
       "      <td>1</td>\n",
       "      <td>Violet Hill</td>\n",
       "    </tr>\n",
       "    <tr>\n",
       "      <th>2</th>\n",
       "      <td>2</td>\n",
       "      <td>Terminal Breakdown</td>\n",
       "    </tr>\n",
       "    <tr>\n",
       "      <th>3</th>\n",
       "      <td>3</td>\n",
       "      <td>The Marsist</td>\n",
       "    </tr>\n",
       "    <tr>\n",
       "      <th>4</th>\n",
       "      <td>4</td>\n",
       "      <td>Secret Sun</td>\n",
       "    </tr>\n",
       "  </tbody>\n",
       "</table>\n",
       "</div>"
      ],
      "text/plain": [
       "  track_code          track_name\n",
       "0          0          Mr. Misery\n",
       "1          1         Violet Hill\n",
       "2          2  Terminal Breakdown\n",
       "3          3         The Marsist\n",
       "4          4          Secret Sun"
      ]
     },
     "execution_count": 24,
     "metadata": {},
     "output_type": "execute_result"
    }
   ],
   "source": [
    "#creating empty dataframe to store the corresponding track code for each individual tracks\n",
    "track_code = pd.DataFrame(columns=['track_code','track_name'])\n",
    "\n",
    "for i in range(0,len(set(df_code['track_name']))):\n",
    "    track_code.loc[len(track_code)] = [i, my_list[i]]\n",
    "\n",
    "track_code.head() #we can now use the track names as numeric as well"
   ]
  },
  {
   "cell_type": "code",
   "execution_count": 25,
   "metadata": {},
   "outputs": [],
   "source": [
    "# joining the numeric values dataframe and track code dataframe\n",
    "lr_new = df_code.merge(track_code,how='inner', left_on='track_name', right_on='track_name')"
   ]
  },
  {
   "cell_type": "code",
   "execution_count": 26,
   "metadata": {},
   "outputs": [
    {
     "data": {
      "text/html": [
       "<div>\n",
       "<style scoped>\n",
       "    .dataframe tbody tr th:only-of-type {\n",
       "        vertical-align: middle;\n",
       "    }\n",
       "\n",
       "    .dataframe tbody tr th {\n",
       "        vertical-align: top;\n",
       "    }\n",
       "\n",
       "    .dataframe thead th {\n",
       "        text-align: right;\n",
       "    }\n",
       "</style>\n",
       "<table border=\"1\" class=\"dataframe\">\n",
       "  <thead>\n",
       "    <tr style=\"text-align: right;\">\n",
       "      <th></th>\n",
       "      <th>track_name</th>\n",
       "      <th>gender</th>\n",
       "      <th>age</th>\n",
       "      <th>country</th>\n",
       "      <th>r_date</th>\n",
       "      <th>track_code</th>\n",
       "    </tr>\n",
       "  </thead>\n",
       "  <tbody>\n",
       "    <tr>\n",
       "      <th>0</th>\n",
       "      <td>'84 Pontiac Dream</td>\n",
       "      <td>1</td>\n",
       "      <td>0.0</td>\n",
       "      <td>392</td>\n",
       "      <td>20060813</td>\n",
       "      <td>39384</td>\n",
       "    </tr>\n",
       "    <tr>\n",
       "      <th>1</th>\n",
       "      <td>'84 Pontiac Dream</td>\n",
       "      <td>2</td>\n",
       "      <td>28.0</td>\n",
       "      <td>840</td>\n",
       "      <td>20050330</td>\n",
       "      <td>39384</td>\n",
       "    </tr>\n",
       "    <tr>\n",
       "      <th>2</th>\n",
       "      <td>(All I Wanted Was To Make You) Feel Good</td>\n",
       "      <td>1</td>\n",
       "      <td>0.0</td>\n",
       "      <td>392</td>\n",
       "      <td>20060813</td>\n",
       "      <td>16433</td>\n",
       "    </tr>\n",
       "    <tr>\n",
       "      <th>3</th>\n",
       "      <td>(D)Ecaying Beauty</td>\n",
       "      <td>1</td>\n",
       "      <td>0.0</td>\n",
       "      <td>392</td>\n",
       "      <td>20060813</td>\n",
       "      <td>18368</td>\n",
       "    </tr>\n",
       "    <tr>\n",
       "      <th>4</th>\n",
       "      <td>(Far From) Home</td>\n",
       "      <td>1</td>\n",
       "      <td>0.0</td>\n",
       "      <td>392</td>\n",
       "      <td>20060813</td>\n",
       "      <td>34879</td>\n",
       "    </tr>\n",
       "  </tbody>\n",
       "</table>\n",
       "</div>"
      ],
      "text/plain": [
       "                                 track_name gender   age  country    r_date  \\\n",
       "0                         '84 Pontiac Dream      1   0.0      392  20060813   \n",
       "1                         '84 Pontiac Dream      2  28.0      840  20050330   \n",
       "2  (All I Wanted Was To Make You) Feel Good      1   0.0      392  20060813   \n",
       "3                         (D)Ecaying Beauty      1   0.0      392  20060813   \n",
       "4                           (Far From) Home      1   0.0      392  20060813   \n",
       "\n",
       "  track_code  \n",
       "0      39384  \n",
       "1      39384  \n",
       "2      16433  \n",
       "3      18368  \n",
       "4      34879  "
      ]
     },
     "execution_count": 26,
     "metadata": {},
     "output_type": "execute_result"
    }
   ],
   "source": [
    "lr_new.head() #We now have all our data values as numeric"
   ]
  },
  {
   "cell_type": "code",
   "execution_count": 79,
   "metadata": {},
   "outputs": [
    {
     "data": {
      "text/html": [
       "<div>\n",
       "<style scoped>\n",
       "    .dataframe tbody tr th:only-of-type {\n",
       "        vertical-align: middle;\n",
       "    }\n",
       "\n",
       "    .dataframe tbody tr th {\n",
       "        vertical-align: top;\n",
       "    }\n",
       "\n",
       "    .dataframe thead th {\n",
       "        text-align: right;\n",
       "    }\n",
       "</style>\n",
       "<table border=\"1\" class=\"dataframe\">\n",
       "  <thead>\n",
       "    <tr style=\"text-align: right;\">\n",
       "      <th></th>\n",
       "      <th>gender</th>\n",
       "      <th>age</th>\n",
       "      <th>country</th>\n",
       "      <th>r_date</th>\n",
       "      <th>track_code</th>\n",
       "    </tr>\n",
       "  </thead>\n",
       "  <tbody>\n",
       "    <tr>\n",
       "      <th>0</th>\n",
       "      <td>1</td>\n",
       "      <td>0.0</td>\n",
       "      <td>392</td>\n",
       "      <td>20060813</td>\n",
       "      <td>39384</td>\n",
       "    </tr>\n",
       "    <tr>\n",
       "      <th>1</th>\n",
       "      <td>2</td>\n",
       "      <td>28.0</td>\n",
       "      <td>840</td>\n",
       "      <td>20050330</td>\n",
       "      <td>39384</td>\n",
       "    </tr>\n",
       "    <tr>\n",
       "      <th>2</th>\n",
       "      <td>1</td>\n",
       "      <td>0.0</td>\n",
       "      <td>392</td>\n",
       "      <td>20060813</td>\n",
       "      <td>16433</td>\n",
       "    </tr>\n",
       "    <tr>\n",
       "      <th>3</th>\n",
       "      <td>1</td>\n",
       "      <td>0.0</td>\n",
       "      <td>392</td>\n",
       "      <td>20060813</td>\n",
       "      <td>18368</td>\n",
       "    </tr>\n",
       "    <tr>\n",
       "      <th>4</th>\n",
       "      <td>1</td>\n",
       "      <td>0.0</td>\n",
       "      <td>392</td>\n",
       "      <td>20060813</td>\n",
       "      <td>34879</td>\n",
       "    </tr>\n",
       "  </tbody>\n",
       "</table>\n",
       "</div>"
      ],
      "text/plain": [
       "  gender   age  country    r_date track_code\n",
       "0      1   0.0      392  20060813      39384\n",
       "1      2  28.0      840  20050330      39384\n",
       "2      1   0.0      392  20060813      16433\n",
       "3      1   0.0      392  20060813      18368\n",
       "4      1   0.0      392  20060813      34879"
      ]
     },
     "execution_count": 79,
     "metadata": {},
     "output_type": "execute_result"
    }
   ],
   "source": [
    "#extracting the numeric values from our dataframe\n",
    "lr_new_data = lr_new[['gender','age','country','r_date','track_code']]\n",
    "lr_new_data.head()"
   ]
  },
  {
   "cell_type": "code",
   "execution_count": 28,
   "metadata": {},
   "outputs": [],
   "source": [
    "#importing the required package for regression\n",
    "from sklearn.model_selection import train_test_split\n",
    "from sklearn import svm"
   ]
  },
  {
   "cell_type": "code",
   "execution_count": 29,
   "metadata": {},
   "outputs": [],
   "source": [
    "#transforming our table data into arrays\n",
    "lis1,lis2=[],[]\n",
    "#for i in range(0,df_code.shape[0]):\n",
    "for i in range(0,1000):\n",
    "    lis1=[lr_new_data.iloc[i][0], int(lr_new_data.iloc[i][1]), int(lr_new_data.iloc[i][2]), int(lr_new_data.iloc[i][3]), int(lr_new_data.iloc[i][4])]\n",
    "    np.array(lis1)\n",
    "    lis2.append(lis1)"
   ]
  },
  {
   "cell_type": "code",
   "execution_count": 30,
   "metadata": {},
   "outputs": [],
   "source": [
    "#details about the listeners\n",
    "data1 = np.array(lis2) #data\n",
    "\n",
    "#response variable: number of times the song has been played\n",
    "data_t = np.array(df_m1['play_count'][0:1000]) #target"
   ]
  },
  {
   "cell_type": "code",
   "execution_count": 250,
   "metadata": {},
   "outputs": [
    {
     "data": {
      "text/plain": [
       "array([[       1,        0,      392, 20060813,    39384],\n",
       "       [       2,       28,      840, 20050330,    39384],\n",
       "       [       1,        0,      392, 20060813,    16433],\n",
       "       ...,\n",
       "       [       1,        0,      392, 20060813,    75662],\n",
       "       [       2,       28,      840, 20050330,    75662],\n",
       "       [       1,        0,      392, 20060813,    54152]])"
      ]
     },
     "execution_count": 250,
     "metadata": {},
     "output_type": "execute_result"
    }
   ],
   "source": [
    "data1 = data1.astype('int') #we can see that our data is successfully converted to an array\n",
    "data1"
   ]
  },
  {
   "cell_type": "code",
   "execution_count": 251,
   "metadata": {},
   "outputs": [
    {
     "name": "stdout",
     "output_type": "stream",
     "text": [
      "Data Shape (1000, 5)\n",
      "Target Shape (1000,)\n"
     ]
    }
   ],
   "source": [
    "print 'Data Shape', data1.shape  #Shape of data and target\n",
    "print 'Target Shape', data_t.shape"
   ]
  },
  {
   "cell_type": "code",
   "execution_count": 208,
   "metadata": {},
   "outputs": [],
   "source": [
    "from sklearn.model_selection import train_test_split\n",
    "\n",
    "#split data set\n",
    "X_train, X_test, y_train, y_test = train_test_split(data1, data_t, test_size=0.2)"
   ]
  },
  {
   "cell_type": "code",
   "execution_count": 200,
   "metadata": {},
   "outputs": [
    {
     "data": {
      "text/plain": [
       "((800, 5), (800,))"
      ]
     },
     "execution_count": 200,
     "metadata": {},
     "output_type": "execute_result"
    }
   ],
   "source": [
    "X_train.shape, y_train.shape #shape of training data"
   ]
  },
  {
   "cell_type": "code",
   "execution_count": 201,
   "metadata": {},
   "outputs": [
    {
     "data": {
      "text/plain": [
       "((200, 5), (200,))"
      ]
     },
     "execution_count": 201,
     "metadata": {},
     "output_type": "execute_result"
    }
   ],
   "source": [
    "X_test.shape, y_test.shape #shape of training data"
   ]
  },
  {
   "cell_type": "markdown",
   "metadata": {},
   "source": [
    "### K-Fold Cross Validation"
   ]
  },
  {
   "cell_type": "code",
   "execution_count": 82,
   "metadata": {},
   "outputs": [
    {
     "name": "stdout",
     "output_type": "stream",
     "text": [
      "3-fold CV: -0.007117153183939721\n",
      "5-fold CV: -0.05322454381206378\n",
      "10-fold CV: -0.4540057953330865\n"
     ]
    }
   ],
   "source": [
    "lr_new_data1 = lr_new_data[0:1000]\n",
    "\n",
    "# Import necessary modules\n",
    "from sklearn.linear_model import LinearRegression\n",
    "from sklearn.model_selection import cross_val_score\n",
    "\n",
    "# Create a linear regression object: reg\n",
    "reg = LinearRegression()\n",
    "\n",
    "# Perform 3-fold CV\n",
    "cvscores_3 = cross_val_score(reg, lr_new_data, df_m1['play_count'], cv=3) #3-fold\n",
    "print '3-fold CV:' ,np.mean(cvscores_3)\n",
    "\n",
    "# Perform 5-fold CV\n",
    "cvscores_5 = cross_val_score(reg, lr_new_data, df_m1['play_count'], cv=5) #5-fold\n",
    "print '5-fold CV:' ,np.mean(cvscores_5) \n",
    "\n",
    "# Perform 10-fold CV\n",
    "cvscores_10 = cross_val_score(reg, lr_new_data, df_m1['play_count'], cv=10) #10-fold\n",
    "print '10-fold CV:', np.mean(cvscores_10) "
   ]
  },
  {
   "cell_type": "code",
   "execution_count": 192,
   "metadata": {},
   "outputs": [
    {
     "data": {
      "text/plain": [
       "KFold(n_splits=2, random_state=None, shuffle=False)"
      ]
     },
     "execution_count": 192,
     "metadata": {},
     "output_type": "execute_result"
    }
   ],
   "source": [
    "from sklearn.model_selection import KFold # import KFold\n",
    "\n",
    "X = df_temp\n",
    "kf = KFold(n_splits=2) # Define the split - into 2 folds \n",
    "kf.get_n_splits(X) # returns the number of splitting iterations in the cross-validator\n",
    "#print(kf) \n",
    "KFold(n_splits=2, random_state=None, shuffle=False)"
   ]
  },
  {
   "cell_type": "code",
   "execution_count": 194,
   "metadata": {},
   "outputs": [
    {
     "name": "stdout",
     "output_type": "stream",
     "text": [
      "('TRAIN:', array([14715, 14716, 14717, ..., 29427, 29428, 29429]), 'TEST:', array([    0,     1,     2, ..., 14712, 14713, 14714]))\n",
      "('TRAIN:', array([    0,     1,     2, ..., 14712, 14713, 14714]), 'TEST:', array([14715, 14716, 14717, ..., 29427, 29428, 29429]))\n"
     ]
    }
   ],
   "source": [
    "for train_index, test_index in kf.split(X):\n",
    "    print('TRAIN:', train_index, 'TEST:', test_index)"
   ]
  },
  {
   "cell_type": "code",
   "execution_count": 220,
   "metadata": {},
   "outputs": [
    {
     "name": "stdout",
     "output_type": "stream",
     "text": [
      "Mean squared error: 40.11\n",
      "R^2 score: -0.04\n"
     ]
    }
   ],
   "source": [
    "from sklearn.metrics import mean_squared_error, r2_score\n",
    "\n",
    "# The mean squared error\n",
    "print(\"Mean squared error: %.2f\"\n",
    "      % mean_squared_error(y_test, y_pred))\n",
    "# R^2 score: 1 is perfect prediction\n",
    "print('R^2 score: %.2f' % r2_score(y_test, y_pred))"
   ]
  },
  {
   "cell_type": "markdown",
   "metadata": {},
   "source": [
    "## Residual"
   ]
  },
  {
   "cell_type": "code",
   "execution_count": 189,
   "metadata": {},
   "outputs": [],
   "source": [
    "from sklearn import metrics\n",
    "\n",
    "X = data1\n",
    "y = data_t\n",
    "model = LinearRegression()\n",
    "model.fit(X, y)\n",
    "y_hat = model.predict(X.astype('int64'))"
   ]
  },
  {
   "cell_type": "code",
   "execution_count": 190,
   "metadata": {},
   "outputs": [
    {
     "data": {
      "image/png": "[encoded data removed]",
      "text/plain": [
       "<Figure size 432x288 with 1 Axes>"
      ]
     },
     "metadata": {
      "needs_background": "light"
     },
     "output_type": "display_data"
    }
   ],
   "source": [
    "plt.scatter(y_hat, y_hat-y, c='lightgreen', label='Residuals')\n",
    "plt.xlabel('Predicted values')\n",
    "plt.ylabel('Residuals')\n",
    "plt.hlines(y=0)\n",
    "plt.show()"
   ]
  },
  {
   "cell_type": "code",
   "execution_count": 191,
   "metadata": {},
   "outputs": [
    {
     "name": "stdout",
     "output_type": "stream",
     "text": [
      "('MSE:', 45.23223172219865)\n",
      "('R^2:', -322.0774975774292)\n",
      "('var:', 45.372235999999994)\n"
     ]
    }
   ],
   "source": [
    "from sklearn import metrics\n",
    "\n",
    "print (\"MSE:\", metrics.mean_squared_error(y_hat, y))\n",
    "print (\"R^2:\", metrics.r2_score(y_hat, y))\n",
    "print (\"var:\", y.var())"
   ]
  },
  {
   "cell_type": "markdown",
   "metadata": {},
   "source": [
    "Here the values are categorical which are converted to numeric and then applied linear regression. So we can see we got a line but the points are skewed downwards.\n",
    "\n",
    "The improvements which can be done are: \n",
    "1. Using numerical values which has a correlation amongst each other so that their cardinality is within the threshold value\n",
    "2. The missing values should be handeled in the right manner"
   ]
  },
  {
   "cell_type": "markdown",
   "metadata": {},
   "source": [
    "## Logistic Regression"
   ]
  },
  {
   "cell_type": "code",
   "execution_count": 241,
   "metadata": {},
   "outputs": [
    {
     "name": "stdout",
     "output_type": "stream",
     "text": [
      "[[110   0   0 ...   0   0   0]\n",
      " [ 80   0   0 ...   0   0   0]\n",
      " [ 35   0   0 ...   0   0   0]\n",
      " ...\n",
      " [  1   0   0 ...   0   0   0]\n",
      " [  1   0   0 ...   0   0   0]\n",
      " [  1   0   0 ...   0   0   0]]\n",
      "             precision    recall  f1-score   support\n",
      "\n",
      "          1       0.28      1.00      0.43       110\n",
      "          2       0.00      0.00      0.00        80\n",
      "          3       0.00      0.00      0.00        35\n",
      "          4       0.00      0.00      0.00        23\n",
      "          5       0.00      0.00      0.00        26\n",
      "          6       0.00      0.00      0.00        14\n",
      "          7       0.00      0.00      0.00        13\n",
      "          8       0.00      0.00      0.00        16\n",
      "          9       0.00      0.00      0.00         6\n",
      "         10       0.00      0.00      0.00         9\n",
      "         11       0.00      0.00      0.00        10\n",
      "         12       0.00      0.00      0.00         5\n",
      "         13       0.00      0.00      0.00         8\n",
      "         14       0.00      0.00      0.00         5\n",
      "         15       0.00      0.00      0.00         2\n",
      "         16       0.00      0.00      0.00         4\n",
      "         17       0.00      0.00      0.00         4\n",
      "         18       0.00      0.00      0.00         2\n",
      "         19       0.00      0.00      0.00         2\n",
      "         20       0.00      0.00      0.00         4\n",
      "         21       0.00      0.00      0.00         3\n",
      "         22       0.00      0.00      0.00         1\n",
      "         23       0.00      0.00      0.00         2\n",
      "         24       0.00      0.00      0.00         2\n",
      "         25       0.00      0.00      0.00         1\n",
      "         26       0.00      0.00      0.00         1\n",
      "         27       0.00      0.00      0.00         3\n",
      "         28       0.00      0.00      0.00         1\n",
      "         29       0.00      0.00      0.00         1\n",
      "         30       0.00      0.00      0.00         1\n",
      "         31       0.00      0.00      0.00         1\n",
      "         33       0.00      0.00      0.00         2\n",
      "         34       0.00      0.00      0.00         1\n",
      "         35       0.00      0.00      0.00         1\n",
      "         41       0.00      0.00      0.00         1\n",
      "\n",
      "avg / total       0.08      0.28      0.12       400\n",
      "\n"
     ]
    },
    {
     "name": "stderr",
     "output_type": "stream",
     "text": [
      "/home/campus16/prateekk/.local/lib/python2.7/site-packages/sklearn/metrics/classification.py:1135: UndefinedMetricWarning: Precision and F-score are ill-defined and being set to 0.0 in labels with no predicted samples.\n",
      "  'precision', 'predicted', average, warn_for)\n"
     ]
    }
   ],
   "source": [
    "# Import the necessary modules\n",
    "from sklearn.linear_model import LogisticRegression\n",
    "from sklearn.metrics import confusion_matrix, classification_report\n",
    "\n",
    "# Create training and test sets\n",
    "X_train, X_test, y_train, y_test = train_test_split(X, y, test_size = 0.4, random_state=42)\n",
    "\n",
    "# Create the classifier: logreg\n",
    "logreg = LogisticRegression()\n",
    "\n",
    "# Fit the classifier to the training data\n",
    "logreg.fit(X_train, y_train)\n",
    "X_test = X_test.astype('int')\n",
    "# Predict the labels of the test set: y_pred\n",
    "y_pred = logreg.predict(X_test)\n",
    "\n",
    "# Compute and print the confusion matrix and classification report\n",
    "print(confusion_matrix(y_test, y_pred))\n",
    "print(classification_report(y_test, y_pred))"
   ]
  }
 ],
 "metadata": {
  "kernelspec": {
   "display_name": "Python 2",
   "language": "python",
   "name": "python2"
  },
  "language_info": {
   "codemirror_mode": {
    "name": "ipython",
    "version": 2
   },
   "file_extension": ".py",
   "mimetype": "text/x-python",
   "name": "python",
   "nbconvert_exporter": "python",
   "pygments_lexer": "ipython2",
   "version": "2.7.5"
  }
 },
 "nbformat": 4,
 "nbformat_minor": 2
}
